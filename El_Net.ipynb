{
 "cells": [
  {
   "cell_type": "markdown",
   "id": "b565d075",
   "metadata": {},
   "source": [
    "# PART 1"
   ]
  },
  {
   "cell_type": "markdown",
   "id": "4073d5f6",
   "metadata": {},
   "source": [
    "#### Train 2 different models and get results"
   ]
  },
  {
   "cell_type": "markdown",
   "id": "c9e2d67a",
   "metadata": {},
   "source": [
    "#### Creating Image Data Loaders in PyTorch for Deep Learning (CREATING DATALOADER)"
   ]
  },
  {
   "cell_type": "markdown",
   "id": "8544b517",
   "metadata": {},
   "source": [
    "#### Importing the Required Module\n"
   ]
  },
  {
   "cell_type": "code",
   "execution_count": 16,
   "id": "4112bf08",
   "metadata": {},
   "outputs": [],
   "source": [
    "import os\n",
    "import pandas as pd\n",
    "import numpy as np\n",
    "import joblib\n",
    "from imutils import paths\n",
    "from sklearn.preprocessing import LabelBinarizer\n",
    "from tqdm import tqdm\n",
    "import\n",
    "argparse\n"
   ]
  },
  {
   "cell_type": "markdown",
   "id": "3e65066e",
   "metadata": {},
   "source": [
    "#### Reading the Image Paths and Preparing the CSV File\n"
   ]
  },
  {
   "cell_type": "markdown",
   "id": "9714cccd",
   "metadata": {},
   "source": [
    "we will create a CSV file where will will save each of the image paths and the targets\n",
    "\n",
    "We have encoded the labels in one hot encoding\n",
    "\n",
    "Head is used to show the csv file"
   ]
  },
  {
   "cell_type": "code",
   "execution_count": 17,
   "id": "bb5b2eaf",
   "metadata": {},
   "outputs": [
    {
     "name": "stderr",
     "output_type": "stream",
     "text": [
      "100%|██████████| 980/980 [00:00<00:00, 4167.98it/s]\n"
     ]
    },
    {
     "name": "stdout",
     "output_type": "stream",
     "text": [
      "The first one hot encoded labels: [0 0 0 0 0 0 0 0 0 1 0 0]\n",
      "Mapping an one hot encoded label to its category: colon\n",
      "Total instances: 980\n",
      "Save the one-hot encoded binarized labels as a pickled file.\n",
      "                                          image_path  target\n",
      "0  /Users/chinmay/Desktop/Projects/Finals/train/l...     5.0\n",
      "1  /Users/chinmay/Desktop/Projects/Finals/train/s...     9.0\n",
      "2  /Users/chinmay/Desktop/Projects/Finals/train/s...    10.0\n",
      "3  /Users/chinmay/Desktop/Projects/Finals/train/k...     3.0\n",
      "4  /Users/chinmay/Desktop/Projects/Finals/train/s...     8.0\n"
     ]
    }
   ],
   "source": [
    "# get all the image paths\n",
    "image_paths = list(paths.list_images('/Users/chinmay/Desktop/Projects/Finals/train'))\n",
    "\n",
    "# create an empty DataFrame\n",
    "data = pd.DataFrame()\n",
    "\n",
    "labels = []\n",
    "for i, image_path in tqdm(enumerate(image_paths), total=len(image_paths)):\n",
    "    label = image_path.split(os.path.sep)[-2]\n",
    "    data.loc[i, 'image_path'] = image_path\n",
    "    labels.append(label)\n",
    "    \n",
    "labels = np.array(labels)\n",
    "# one hot encode\n",
    "lb = LabelBinarizer()\n",
    "labels = lb.fit_transform(labels)\n",
    "print(f\"The first one hot encoded labels: {labels[0]}\")\n",
    "print(f\"Mapping an one hot encoded label to its category: {lb.classes_[0]}\")\n",
    "print(f\"Total instances: {len(labels)}\")\n",
    "for i in range(len(labels)):\n",
    "    index = np.argmax(labels[i])\n",
    "    data.loc[i, 'target'] = int(index)\n",
    "# shuffle the dataset\n",
    "data = data.sample(frac=1).reset_index(drop=True)\n",
    "\n",
    "# save as csv file\n",
    "data.to_csv('/Users/chinmay/Desktop/Projects/Finals/train/data.csv', index=False)\n",
    "\n",
    "\n",
    "# pickle the label binarizer\n",
    "joblib.dump(lb, '/Users/chinmay/Desktop/Projects/Finals/outputs/lb.pkl')\n",
    "print('Save the one-hot encoded binarized labels as a pickled file.')\n",
    "print(data.head())"
   ]
  },
  {
   "cell_type": "markdown",
   "id": "4c18de70",
   "metadata": {},
   "source": [
    "#### Importing required packages"
   ]
  },
  {
   "cell_type": "code",
   "execution_count": 18,
   "id": "5bfa060a",
   "metadata": {},
   "outputs": [],
   "source": [
    "import pandas as pd\n",
    "import joblib\n",
    "import numpy as np\n",
    "import torch\n",
    "import random\n",
    "import albumentations\n",
    "import matplotlib.pyplot as plt\n",
    "import argparse\n",
    "import torch.nn as nn\n",
    "import torch.nn.functional as F\n",
    "import torch.optim as optim\n",
    "import time\n",
    "from PIL import Image\n",
    "from tqdm import tqdm\n",
    "from torchvision import models as models # for resnet50\n",
    "from sklearn.model_selection import train_test_split\n",
    "from torch.utils.data import Dataset, DataLoader"
   ]
  },
  {
   "cell_type": "markdown",
   "id": "c3221832",
   "metadata": {},
   "source": [
    "The next block of code applies a seed to our code for reproducibility and also sets the computation device. The computation device is either the GPU or the CPU."
   ]
  },
  {
   "cell_type": "code",
   "execution_count": 19,
   "id": "d5586917",
   "metadata": {},
   "outputs": [
    {
     "name": "stdout",
     "output_type": "stream",
     "text": [
      "Computation device: cpu\n"
     ]
    }
   ],
   "source": [
    "def seed_everything(SEED=42):\n",
    "    random.seed(SEED)\n",
    "    np.random.seed(SEED)\n",
    "    torch.manual_seed(SEED)\n",
    "    torch.cuda.manual_seed(SEED)\n",
    "    torch.cuda.manual_seed_all(SEED)\n",
    "    torch.backends.cudnn.benchmark = True \n",
    "SEED=42\n",
    "seed_everything(SEED=SEED)\n",
    "''' SEED Everything '''\n",
    "# set computation device\n",
    "device = ('cuda:0' if torch.cuda.is_available() else 'cpu')\n",
    "print(f\"Computation device: {device}\")"
   ]
  },
  {
   "cell_type": "code",
   "execution_count": null,
   "id": "20abf779",
   "metadata": {},
   "outputs": [],
   "source": [
    "\n"
   ]
  },
  {
   "cell_type": "markdown",
   "id": "f1955916",
   "metadata": {},
   "source": [
    "#### Read training data"
   ]
  },
  {
   "cell_type": "code",
   "execution_count": 21,
   "id": "95bcaa70",
   "metadata": {},
   "outputs": [
    {
     "name": "stdout",
     "output_type": "stream",
     "text": [
      "['/Users/chinmay/Desktop/Projects/Finals/train/lung 3/40071_95769_A_2_4.tif'\n",
      " '/Users/chinmay/Desktop/Projects/Finals/train/skin_2/40155_94574_B_6_8.tif'\n",
      " '/Users/chinmay/Desktop/Projects/Finals/train/small_intestine/40140_85634_A_4_2.tif'\n",
      " '/Users/chinmay/Desktop/Projects/Finals/train/kidney/40092_85426_A_8_5.tif'\n",
      " '/Users/chinmay/Desktop/Projects/Finals/train/skin_1/40070_85003_B_7_1.tif'\n",
      " '/Users/chinmay/Desktop/Projects/Finals/train/small_intestine/40066_141607_A_4_2.tif'\n",
      " '/Users/chinmay/Desktop/Projects/Finals/train/small_intestine/40067_100847_A_4_2.tif'\n",
      " '/Users/chinmay/Desktop/Projects/Finals/train/small_intestine/40126_85296_A_5_2.tif'\n",
      " '/Users/chinmay/Desktop/Projects/Finals/train/skin_1/40101_88202_B_9_1.tif'\n",
      " '/Users/chinmay/Desktop/Projects/Finals/train/pancreas/40067_100847_A_2_3.tif'\n",
      " '/Users/chinmay/Desktop/Projects/Finals/train/spleen/40061_85040_B_7_4.tif'\n",
      " '/Users/chinmay/Desktop/Projects/Finals/train/skin_1/40084_84728_B_7_1.tif'\n",
      " '/Users/chinmay/Desktop/Projects/Finals/train/spleen/40084_84728_B_8_4.tif'\n",
      " '/Users/chinmay/Desktop/Projects/Finals/train/lymph_node/40098_90797_A_9_8.tif'\n",
      " '/Users/chinmay/Desktop/Projects/Finals/train/skin_1/40119_88286_B_9_1.tif'\n",
      " '/Users/chinmay/Desktop/Projects/Finals/train/spleen/40092_85426_B_7_4.tif'\n",
      " '/Users/chinmay/Desktop/Projects/Finals/train/endometrium_2/40090_88282_B_1_3.tif'\n",
      " '/Users/chinmay/Desktop/Projects/Finals/train/kidney/40075_86364_A_8_5.tif'\n",
      " '/Users/chinmay/Desktop/Projects/Finals/train/kidney/40101_88202_A_9_5.tif'\n",
      " '/Users/chinmay/Desktop/Projects/Finals/train/spleen/40082_86041_B_7_4.tif'\n",
      " '/Users/chinmay/Desktop/Projects/Finals/train/small_intestine/40118_84737_A_5_2.tif'\n",
      " '/Users/chinmay/Desktop/Projects/Finals/train/liver/40125_164309_A_9_4.tif'\n",
      " '/Users/chinmay/Desktop/Projects/Finals/train/small_intestine/40071_95769_A_4_2.tif'\n",
      " '/Users/chinmay/Desktop/Projects/Finals/train/liver/40092_85426_A_8_4.tif'\n",
      " '/Users/chinmay/Desktop/Projects/Finals/train/pancreas/40111_90192_A_3_3.tif'\n",
      " '/Users/chinmay/Desktop/Projects/Finals/train/kidney/40071_95769_A_9_5.tif'\n",
      " '/Users/chinmay/Desktop/Projects/Finals/train/endometrium_1/40101_88202_B_4_3.tif'\n",
      " '/Users/chinmay/Desktop/Projects/Finals/train/pancreas/40066_141607_A_2_3.tif'\n",
      " '/Users/chinmay/Desktop/Projects/Finals/train/endometrium_1/40071_95769_B_4_3.tif'\n",
      " '/Users/chinmay/Desktop/Projects/Finals/train/liver/40111_90192_A_7_4.tif'\n",
      " '/Users/chinmay/Desktop/Projects/Finals/train/lung 3/40082_86041_A_1_4.tif'\n",
      " '/Users/chinmay/Desktop/Projects/Finals/train/lymph_node/40067_100847_A_9_8.tif'\n",
      " '/Users/chinmay/Desktop/Projects/Finals/train/endometrium_2/40152_134024_B_1_3.tif'\n",
      " '/Users/chinmay/Desktop/Projects/Finals/train/kidney/40125_164309_A_9_5.tif'\n",
      " '/Users/chinmay/Desktop/Projects/Finals/train/liver/40067_100847_A_8_4.tif'\n",
      " '/Users/chinmay/Desktop/Projects/Finals/train/kidney/40067_100847_A_9_5.tif'\n",
      " '/Users/chinmay/Desktop/Projects/Finals/train/lymph_node/40150_106251_A_7_8.tif'\n",
      " '/Users/chinmay/Desktop/Projects/Finals/train/skin_1/40065_96284_B_8_1.tif'\n",
      " '/Users/chinmay/Desktop/Projects/Finals/train/spleen/40110_88954_B_8_4.tif'\n",
      " '/Users/chinmay/Desktop/Projects/Finals/train/colon/40057_86761_A_7_3.tif'\n",
      " '/Users/chinmay/Desktop/Projects/Finals/train/endometrium_1/40070_85003_B_5_3.tif'\n",
      " '/Users/chinmay/Desktop/Projects/Finals/train/lung 3/40055_84642_A_3_4.tif'\n",
      " '/Users/chinmay/Desktop/Projects/Finals/train/kidney/40098_90797_A_9_5.tif'\n",
      " '/Users/chinmay/Desktop/Projects/Finals/train/colon/40067_100847_A_9_3.tif'\n",
      " '/Users/chinmay/Desktop/Projects/Finals/train/skin_1/40082_86041_B_7_1.tif'\n",
      " '/Users/chinmay/Desktop/Projects/Finals/train/kidney/40067_100847_A_8_5.tif'\n",
      " '/Users/chinmay/Desktop/Projects/Finals/train/pancreas/40111_90192_A_2_3.tif'\n",
      " '/Users/chinmay/Desktop/Projects/Finals/train/small_intestine/40071_95769_A_5_2.tif'\n",
      " '/Users/chinmay/Desktop/Projects/Finals/train/colon/40101_88202_A_9_3.tif'\n",
      " '/Users/chinmay/Desktop/Projects/Finals/train/colon/40090_88282_A_9_3.tif'\n",
      " '/Users/chinmay/Desktop/Projects/Finals/train/lymph_node/40111_90192_A_8_8.tif'\n",
      " '/Users/chinmay/Desktop/Projects/Finals/train/endometrium_2/40084_84728_B_2_3.tif'\n",
      " '/Users/chinmay/Desktop/Projects/Finals/train/liver/40051_87105_A_9_4.tif'\n",
      " '/Users/chinmay/Desktop/Projects/Finals/train/spleen/40101_88202_B_9_4.tif'\n",
      " '/Users/chinmay/Desktop/Projects/Finals/train/lung 3/40088_87867_A_2_4.tif'\n",
      " '/Users/chinmay/Desktop/Projects/Finals/train/spleen/40055_84411_B_9_4.tif'\n",
      " '/Users/chinmay/Desktop/Projects/Finals/train/lung 3/40064_95300_A_2_4.tif'\n",
      " '/Users/chinmay/Desktop/Projects/Finals/train/small_intestine/40118_84737_A_4_2.tif'\n",
      " '/Users/chinmay/Desktop/Projects/Finals/train/liver/40087_95048_A_8_4.tif'\n",
      " '/Users/chinmay/Desktop/Projects/Finals/train/liver/40082_86041_A_7_4.tif'\n",
      " '/Users/chinmay/Desktop/Projects/Finals/train/skin_1/40125_164309_B_8_1.tif'\n",
      " '/Users/chinmay/Desktop/Projects/Finals/train/spleen/40110_88954_B_9_4.tif'\n",
      " '/Users/chinmay/Desktop/Projects/Finals/train/spleen/40098_90797_B_8_4.tif'\n",
      " '/Users/chinmay/Desktop/Projects/Finals/train/liver/40064_95300_A_8_4.tif'\n",
      " '/Users/chinmay/Desktop/Projects/Finals/train/endometrium_2/40125_164309_B_3_3.tif'\n",
      " '/Users/chinmay/Desktop/Projects/Finals/train/lymph_node/40086_89217_A_7_8.tif'\n",
      " '/Users/chinmay/Desktop/Projects/Finals/train/endometrium_1/40126_85296_B_5_3.tif'\n",
      " '/Users/chinmay/Desktop/Projects/Finals/train/skin_2/40092_85426_B_6_8.tif'\n",
      " '/Users/chinmay/Desktop/Projects/Finals/train/liver/40120_85744_A_9_4.tif'\n",
      " '/Users/chinmay/Desktop/Projects/Finals/train/skin_1/40120_85744_B_7_1.tif'\n",
      " '/Users/chinmay/Desktop/Projects/Finals/train/lung 3/40101_88202_A_2_4.tif'\n",
      " '/Users/chinmay/Desktop/Projects/Finals/train/lymph_node/40147_86573_A_9_8.tif'\n",
      " '/Users/chinmay/Desktop/Projects/Finals/train/lymph_node/40071_95769_A_8_8.tif'\n",
      " '/Users/chinmay/Desktop/Projects/Finals/train/lymph_node/40092_85426_A_9_8.tif'\n",
      " '/Users/chinmay/Desktop/Projects/Finals/train/spleen/40086_89217_B_9_4.tif'\n",
      " '/Users/chinmay/Desktop/Projects/Finals/train/endometrium_2/40128_85100_B_1_3.tif'\n",
      " '/Users/chinmay/Desktop/Projects/Finals/train/kidney/40063_88048_A_8_5.tif'\n",
      " '/Users/chinmay/Desktop/Projects/Finals/train/colon/40070_85003_A_9_3.tif'\n",
      " '/Users/chinmay/Desktop/Projects/Finals/train/colon/40051_87105_A_7_3.tif'\n",
      " '/Users/chinmay/Desktop/Projects/Finals/train/small_intestine/40125_164309_A_6_2.tif'\n",
      " '/Users/chinmay/Desktop/Projects/Finals/train/pancreas/40072_106264_A_1_3.tif'\n",
      " '/Users/chinmay/Desktop/Projects/Finals/train/skin_2/40150_106251_B_6_8.tif'\n",
      " '/Users/chinmay/Desktop/Projects/Finals/train/spleen/40066_141607_B_9_4.tif'\n",
      " '/Users/chinmay/Desktop/Projects/Finals/train/lung 3/40066_141607_A_2_4.tif'\n",
      " '/Users/chinmay/Desktop/Projects/Finals/train/spleen/40051_87105_B_9_4.tif'\n",
      " '/Users/chinmay/Desktop/Projects/Finals/train/lymph_node/40111_90192_A_9_8.tif'\n",
      " '/Users/chinmay/Desktop/Projects/Finals/train/liver/40101_88202_A_7_4.tif'\n",
      " '/Users/chinmay/Desktop/Projects/Finals/train/lymph_node/40140_85634_A_8_8.tif'\n",
      " '/Users/chinmay/Desktop/Projects/Finals/train/lung 3/40098_90797_A_3_4.tif'\n",
      " '/Users/chinmay/Desktop/Projects/Finals/train/pancreas/40090_88282_A_3_3.tif'\n",
      " '/Users/chinmay/Desktop/Projects/Finals/train/liver/40111_90192_A_9_4.tif'\n",
      " '/Users/chinmay/Desktop/Projects/Finals/train/spleen/40065_96284_B_8_4.tif'\n",
      " '/Users/chinmay/Desktop/Projects/Finals/train/skin_2/40155_94574_B_4_8.tif'\n",
      " '/Users/chinmay/Desktop/Projects/Finals/train/small_intestine/40134_97237_A_5_2.tif'\n",
      " '/Users/chinmay/Desktop/Projects/Finals/train/lymph_node/40128_85100_A_9_8.tif'\n",
      " '/Users/chinmay/Desktop/Projects/Finals/train/skin_2/40134_97237_B_6_8.tif'\n",
      " '/Users/chinmay/Desktop/Projects/Finals/train/pancreas/40082_86041_A_2_3.tif'\n",
      " '/Users/chinmay/Desktop/Projects/Finals/train/lymph_node/40128_85100_A_7_8.tif'\n",
      " '/Users/chinmay/Desktop/Projects/Finals/train/colon/40120_85744_A_9_3.tif'\n",
      " '/Users/chinmay/Desktop/Projects/Finals/train/endometrium_1/40098_90797_B_5_3.tif'\n",
      " '/Users/chinmay/Desktop/Projects/Finals/train/small_intestine/40120_85744_A_6_2.tif'\n",
      " '/Users/chinmay/Desktop/Projects/Finals/train/endometrium_2/40055_84411_B_2_3.tif'\n",
      " '/Users/chinmay/Desktop/Projects/Finals/train/endometrium_1/40090_88282_B_4_3.tif'\n",
      " '/Users/chinmay/Desktop/Projects/Finals/train/endometrium_1/40072_106264_B_5_3.tif'\n",
      " '/Users/chinmay/Desktop/Projects/Finals/train/endometrium_2/40110_88954_B_3_3.tif'\n",
      " '/Users/chinmay/Desktop/Projects/Finals/train/kidney/40098_90797_A_7_5.tif'\n",
      " '/Users/chinmay/Desktop/Projects/Finals/train/skin_2/40055_84411_B_4_8.tif'\n",
      " '/Users/chinmay/Desktop/Projects/Finals/train/endometrium_1/40065_96284_B_4_3.tif'\n",
      " '/Users/chinmay/Desktop/Projects/Finals/train/endometrium_2/40070_85003_B_1_3.tif'\n",
      " '/Users/chinmay/Desktop/Projects/Finals/train/colon/40119_88286_A_9_3.tif'\n",
      " '/Users/chinmay/Desktop/Projects/Finals/train/colon/40110_88954_A_9_3.tif'\n",
      " '/Users/chinmay/Desktop/Projects/Finals/train/skin_2/40046_142250_B_4_8.tif'\n",
      " '/Users/chinmay/Desktop/Projects/Finals/train/lymph_node/40110_88954_A_8_8.tif'\n",
      " '/Users/chinmay/Desktop/Projects/Finals/train/liver/40092_85426_A_9_4.tif'\n",
      " '/Users/chinmay/Desktop/Projects/Finals/train/endometrium_2/40057_86761_B_3_3.tif'\n",
      " '/Users/chinmay/Desktop/Projects/Finals/train/colon/40061_85040_A_8_3.tif'\n",
      " '/Users/chinmay/Desktop/Projects/Finals/train/colon/40134_97237_A_8_3.tif'\n",
      " '/Users/chinmay/Desktop/Projects/Finals/train/spleen/40092_85426_B_9_4.tif'\n",
      " '/Users/chinmay/Desktop/Projects/Finals/train/endometrium_1/40092_85426_B_6_3.tif'\n",
      " '/Users/chinmay/Desktop/Projects/Finals/train/kidney/40046_142250_A_9_5.tif'\n",
      " '/Users/chinmay/Desktop/Projects/Finals/train/endometrium_2/40143_160046_B_2_3.tif'\n",
      " '/Users/chinmay/Desktop/Projects/Finals/train/endometrium_2/40066_141607_B_1_3.tif'\n",
      " '/Users/chinmay/Desktop/Projects/Finals/train/lymph_node/40120_85744_A_8_8.tif'\n",
      " '/Users/chinmay/Desktop/Projects/Finals/train/liver/40064_95300_A_7_4.tif'\n",
      " '/Users/chinmay/Desktop/Projects/Finals/train/spleen/40092_85426_B_8_4.tif'\n",
      " '/Users/chinmay/Desktop/Projects/Finals/train/kidney/40087_95048_A_8_5.tif'\n",
      " '/Users/chinmay/Desktop/Projects/Finals/train/colon/40072_106264_A_7_3.tif'\n",
      " '/Users/chinmay/Desktop/Projects/Finals/train/skin_1/40067_100847_B_8_1.tif'\n",
      " '/Users/chinmay/Desktop/Projects/Finals/train/spleen/40118_84737_B_8_4.tif'\n",
      " '/Users/chinmay/Desktop/Projects/Finals/train/kidney/40075_86364_A_9_5.tif'\n",
      " '/Users/chinmay/Desktop/Projects/Finals/train/pancreas/40088_87867_A_3_3.tif'\n",
      " '/Users/chinmay/Desktop/Projects/Finals/train/skin_2/40125_164309_B_5_8.tif'\n",
      " '/Users/chinmay/Desktop/Projects/Finals/train/small_intestine/40051_87105_A_6_2.tif'\n",
      " '/Users/chinmay/Desktop/Projects/Finals/train/endometrium_1/40063_88048_B_5_3.tif'\n",
      " '/Users/chinmay/Desktop/Projects/Finals/train/skin_1/40057_86761_B_8_1.tif'\n",
      " '/Users/chinmay/Desktop/Projects/Finals/train/skin_2/40057_86761_B_4_8.tif'\n",
      " '/Users/chinmay/Desktop/Projects/Finals/train/colon/40072_106264_A_9_3.tif'\n",
      " '/Users/chinmay/Desktop/Projects/Finals/train/colon/40118_84737_A_7_3.tif'\n",
      " '/Users/chinmay/Desktop/Projects/Finals/train/pancreas/40119_88286_A_2_3.tif'\n",
      " '/Users/chinmay/Desktop/Projects/Finals/train/small_intestine/40064_95300_A_6_2.tif'\n",
      " '/Users/chinmay/Desktop/Projects/Finals/train/lymph_node/40119_88286_A_7_8.tif'\n",
      " '/Users/chinmay/Desktop/Projects/Finals/train/spleen/40066_141607_B_8_4.tif'\n",
      " '/Users/chinmay/Desktop/Projects/Finals/train/kidney/40070_85003_A_8_5.tif'\n",
      " '/Users/chinmay/Desktop/Projects/Finals/train/lung 3/40052_130536_A_1_4.tif'\n",
      " '/Users/chinmay/Desktop/Projects/Finals/train/endometrium_2/40118_84737_B_1_3.tif'\n",
      " '/Users/chinmay/Desktop/Projects/Finals/train/small_intestine/40101_88202_A_6_2.tif'\n",
      " '/Users/chinmay/Desktop/Projects/Finals/train/endometrium_1/40087_95048_B_4_3.tif'\n",
      " '/Users/chinmay/Desktop/Projects/Finals/train/lymph_node/40070_85003_A_9_8.tif'\n",
      " '/Users/chinmay/Desktop/Projects/Finals/train/pancreas/40126_85296_A_2_3.tif'\n",
      " '/Users/chinmay/Desktop/Projects/Finals/train/colon/40092_85426_A_8_3.tif'\n",
      " '/Users/chinmay/Desktop/Projects/Finals/train/skin_2/40147_86691_B_4_8.tif'\n",
      " '/Users/chinmay/Desktop/Projects/Finals/train/small_intestine/40070_85003_A_4_2.tif'\n",
      " '/Users/chinmay/Desktop/Projects/Finals/train/skin_2/40088_87867_B_6_8.tif'\n",
      " '/Users/chinmay/Desktop/Projects/Finals/train/spleen/40125_164309_B_8_4.tif'\n",
      " '/Users/chinmay/Desktop/Projects/Finals/train/liver/40067_100847_A_9_4.tif'\n",
      " '/Users/chinmay/Desktop/Projects/Finals/train/pancreas/40110_88954_A_1_3.tif'\n",
      " '/Users/chinmay/Desktop/Projects/Finals/train/skin_2/40157_87746_B_6_8.tif'\n",
      " '/Users/chinmay/Desktop/Projects/Finals/train/endometrium_2/40147_86691_B_1_3.tif'\n",
      " '/Users/chinmay/Desktop/Projects/Finals/train/lymph_node/40075_86364_A_9_8.tif'\n",
      " '/Users/chinmay/Desktop/Projects/Finals/train/skin_2/40061_85040_B_5_8.tif'\n",
      " '/Users/chinmay/Desktop/Projects/Finals/train/lymph_node/40110_88954_A_9_8.tif'\n",
      " '/Users/chinmay/Desktop/Projects/Finals/train/kidney/40118_84737_A_9_5.tif'\n",
      " '/Users/chinmay/Desktop/Projects/Finals/train/colon/40087_95048_A_9_3.tif'\n",
      " '/Users/chinmay/Desktop/Projects/Finals/train/skin_1/40143_160046_B_9_1.tif'\n",
      " '/Users/chinmay/Desktop/Projects/Finals/train/colon/40065_96284_A_7_3.tif'\n",
      " '/Users/chinmay/Desktop/Projects/Finals/train/kidney/40086_89217_A_8_5.tif'\n",
      " '/Users/chinmay/Desktop/Projects/Finals/train/skin_2/40090_88282_B_4_8.tif'\n",
      " '/Users/chinmay/Desktop/Projects/Finals/train/endometrium_2/40070_85003_B_2_3.tif'\n",
      " '/Users/chinmay/Desktop/Projects/Finals/train/lung 3/40071_95769_A_3_4.tif'\n",
      " '/Users/chinmay/Desktop/Projects/Finals/train/lymph_node/40147_86573_A_7_8.tif'\n",
      " '/Users/chinmay/Desktop/Projects/Finals/train/liver/40118_84737_A_7_4.tif'\n",
      " '/Users/chinmay/Desktop/Projects/Finals/train/skin_2/40157_87746_B_5_8.tif'\n",
      " '/Users/chinmay/Desktop/Projects/Finals/train/lymph_node/40087_95048_A_9_8.tif'\n",
      " '/Users/chinmay/Desktop/Projects/Finals/train/liver/40066_141607_A_7_4.tif'\n",
      " '/Users/chinmay/Desktop/Projects/Finals/train/lung 3/40090_88282_A_2_4.tif'\n",
      " '/Users/chinmay/Desktop/Projects/Finals/train/endometrium_1/40046_142250_B_5_3.tif'\n",
      " '/Users/chinmay/Desktop/Projects/Finals/train/small_intestine/40110_88954_A_5_2.tif'\n",
      " '/Users/chinmay/Desktop/Projects/Finals/train/skin_1/40126_85296_B_8_1.tif'\n",
      " '/Users/chinmay/Desktop/Projects/Finals/train/endometrium_1/40110_88954_B_4_3.tif'\n",
      " '/Users/chinmay/Desktop/Projects/Finals/train/small_intestine/40126_85296_A_4_2.tif'\n",
      " '/Users/chinmay/Desktop/Projects/Finals/train/lymph_node/40072_106264_A_9_8.tif'\n",
      " '/Users/chinmay/Desktop/Projects/Finals/train/colon/40071_95769_A_8_3.tif'\n",
      " '/Users/chinmay/Desktop/Projects/Finals/train/skin_2/40044_96798_B_6_8.tif'\n",
      " '/Users/chinmay/Desktop/Projects/Finals/train/endometrium_2/40118_84737_B_2_3.tif'\n",
      " '/Users/chinmay/Desktop/Projects/Finals/train/skin_2/40110_88954_B_4_8.tif'\n",
      " '/Users/chinmay/Desktop/Projects/Finals/train/lung 3/40111_90192_A_3_4.tif'\n",
      " '/Users/chinmay/Desktop/Projects/Finals/train/endometrium_2/40075_86364_B_3_3.tif'\n",
      " '/Users/chinmay/Desktop/Projects/Finals/train/skin_1/40098_90797_B_9_1.tif'\n",
      " '/Users/chinmay/Desktop/Projects/Finals/train/pancreas/40090_88282_A_1_3.tif'\n",
      " '/Users/chinmay/Desktop/Projects/Finals/train/kidney/40090_88282_A_7_5.tif'\n",
      " '/Users/chinmay/Desktop/Projects/Finals/train/lung 3/40092_85426_A_3_4.tif'\n",
      " '/Users/chinmay/Desktop/Projects/Finals/train/skin_1/40075_86364_B_7_1.tif'\n",
      " '/Users/chinmay/Desktop/Projects/Finals/train/lung 3/40046_142250_A_1_4.tif'\n",
      " '/Users/chinmay/Desktop/Projects/Finals/train/endometrium_2/40072_106264_B_2_3.tif'\n",
      " '/Users/chinmay/Desktop/Projects/Finals/train/small_intestine/40061_85040_A_5_2.tif'\n",
      " '/Users/chinmay/Desktop/Projects/Finals/train/endometrium_1/40098_90797_B_6_3.tif'\n",
      " '/Users/chinmay/Desktop/Projects/Finals/train/lung 3/40055_84642_A_1_4.tif'\n",
      " '/Users/chinmay/Desktop/Projects/Finals/train/lymph_node/40125_164309_A_9_8.tif'\n",
      " '/Users/chinmay/Desktop/Projects/Finals/train/kidney/40128_85100_A_7_5.tif'\n",
      " '/Users/chinmay/Desktop/Projects/Finals/train/endometrium_1/40057_86761_B_5_3.tif'\n",
      " '/Users/chinmay/Desktop/Projects/Finals/train/spleen/40052_130536_B_8_4.tif'\n",
      " '/Users/chinmay/Desktop/Projects/Finals/train/liver/40090_88282_A_7_4.tif'\n",
      " '/Users/chinmay/Desktop/Projects/Finals/train/lung 3/40110_88954_A_1_4.tif'\n",
      " '/Users/chinmay/Desktop/Projects/Finals/train/lymph_node/40098_90797_A_8_8.tif'\n",
      " '/Users/chinmay/Desktop/Projects/Finals/train/liver/40057_86761_A_9_4.tif'\n",
      " '/Users/chinmay/Desktop/Projects/Finals/train/endometrium_1/40088_87867_B_6_3.tif'\n",
      " '/Users/chinmay/Desktop/Projects/Finals/train/kidney/40048_84862_A_7_5.tif'\n",
      " '/Users/chinmay/Desktop/Projects/Finals/train/lymph_node/40101_88202_A_7_8.tif'\n",
      " '/Users/chinmay/Desktop/Projects/Finals/train/colon/40128_85100_A_9_3.tif'\n",
      " '/Users/chinmay/Desktop/Projects/Finals/train/spleen/40067_100847_B_9_4.tif'\n",
      " '/Users/chinmay/Desktop/Projects/Finals/train/endometrium_2/40110_88954_B_2_3.tif'\n",
      " '/Users/chinmay/Desktop/Projects/Finals/train/kidney/40082_86041_A_8_5.tif'\n",
      " '/Users/chinmay/Desktop/Projects/Finals/train/pancreas/40061_85040_A_2_3.tif'\n",
      " '/Users/chinmay/Desktop/Projects/Finals/train/skin_1/40052_130536_B_7_1.tif'\n",
      " '/Users/chinmay/Desktop/Projects/Finals/train/skin_1/40065_96284_B_7_1.tif'\n",
      " '/Users/chinmay/Desktop/Projects/Finals/train/endometrium_1/40072_106264_B_6_3.tif'\n",
      " '/Users/chinmay/Desktop/Projects/Finals/train/kidney/40084_84728_A_7_5.tif'\n",
      " '/Users/chinmay/Desktop/Projects/Finals/train/endometrium_1/40051_87105_B_6_3.tif'\n",
      " '/Users/chinmay/Desktop/Projects/Finals/train/colon/40128_85100_A_8_3.tif'\n",
      " '/Users/chinmay/Desktop/Projects/Finals/train/endometrium_1/40092_85426_B_5_3.tif'\n",
      " '/Users/chinmay/Desktop/Projects/Finals/train/skin_1/40098_90797_B_8_1.tif'\n",
      " '/Users/chinmay/Desktop/Projects/Finals/train/pancreas/40064_95300_A_2_3.tif'\n",
      " '/Users/chinmay/Desktop/Projects/Finals/train/endometrium_2/40101_88202_B_2_3.tif'\n",
      " '/Users/chinmay/Desktop/Projects/Finals/train/endometrium_2/40147_86691_B_2_3.tif'\n",
      " '/Users/chinmay/Desktop/Projects/Finals/train/liver/40061_85040_A_8_4.tif'\n",
      " '/Users/chinmay/Desktop/Projects/Finals/train/kidney/40065_96284_A_9_5.tif'\n",
      " '/Users/chinmay/Desktop/Projects/Finals/train/lymph_node/40087_95048_A_7_8.tif'\n",
      " '/Users/chinmay/Desktop/Projects/Finals/train/kidney/40088_87867_A_9_5.tif'\n",
      " '/Users/chinmay/Desktop/Projects/Finals/train/lymph_node/40086_89217_A_8_8.tif'\n",
      " '/Users/chinmay/Desktop/Projects/Finals/train/colon/40052_130536_A_9_3.tif'\n",
      " '/Users/chinmay/Desktop/Projects/Finals/train/small_intestine/40075_86364_A_6_2.tif'\n",
      " '/Users/chinmay/Desktop/Projects/Finals/train/pancreas/40101_88202_A_3_3.tif'\n",
      " '/Users/chinmay/Desktop/Projects/Finals/train/endometrium_2/40098_90797_B_2_3.tif'\n",
      " '/Users/chinmay/Desktop/Projects/Finals/train/small_intestine/40120_85744_A_5_2.tif'\n",
      " '/Users/chinmay/Desktop/Projects/Finals/train/lung 3/40082_86041_A_2_4.tif'\n",
      " '/Users/chinmay/Desktop/Projects/Finals/train/kidney/40110_88954_A_9_5.tif'\n",
      " '/Users/chinmay/Desktop/Projects/Finals/train/skin_1/40118_84737_B_9_1.tif'\n",
      " '/Users/chinmay/Desktop/Projects/Finals/train/kidney/40065_96284_A_7_5.tif'\n",
      " '/Users/chinmay/Desktop/Projects/Finals/train/endometrium_1/40082_86041_B_6_3.tif'\n",
      " '/Users/chinmay/Desktop/Projects/Finals/train/kidney/40126_85296_A_7_5.tif'\n",
      " '/Users/chinmay/Desktop/Projects/Finals/train/skin_1/40075_86364_B_8_1.tif'\n",
      " '/Users/chinmay/Desktop/Projects/Finals/train/endometrium_2/40126_85296_B_2_3.tif'\n",
      " '/Users/chinmay/Desktop/Projects/Finals/train/lung 3/40125_164309_A_1_4.tif'\n",
      " '/Users/chinmay/Desktop/Projects/Finals/train/liver/40066_141607_A_8_4.tif'\n",
      " '/Users/chinmay/Desktop/Projects/Finals/train/endometrium_2/40111_90192_B_3_3.tif'\n",
      " '/Users/chinmay/Desktop/Projects/Finals/train/endometrium_1/40092_85426_B_4_3.tif'\n",
      " '/Users/chinmay/Desktop/Projects/Finals/train/small_intestine/40087_95048_A_5_2.tif'\n",
      " '/Users/chinmay/Desktop/Projects/Finals/train/endometrium_2/40143_160046_B_1_3.tif'\n",
      " '/Users/chinmay/Desktop/Projects/Finals/train/kidney/40126_85296_A_9_5.tif'\n",
      " '/Users/chinmay/Desktop/Projects/Finals/train/small_intestine/40120_85744_A_4_2.tif'\n",
      " '/Users/chinmay/Desktop/Projects/Finals/train/skin_2/40101_88202_B_6_8.tif'\n",
      " '/Users/chinmay/Desktop/Projects/Finals/train/endometrium_1/40084_84728_B_6_3.tif'\n",
      " '/Users/chinmay/Desktop/Projects/Finals/train/skin_1/40147_86691_B_8_1.tif'\n",
      " '/Users/chinmay/Desktop/Projects/Finals/train/liver/40110_88954_A_8_4.tif'\n",
      " '/Users/chinmay/Desktop/Projects/Finals/train/liver/40098_90797_A_9_4.tif'\n",
      " '/Users/chinmay/Desktop/Projects/Finals/train/endometrium_1/40119_88286_B_4_3.tif'\n",
      " '/Users/chinmay/Desktop/Projects/Finals/train/lung 3/40066_141607_A_3_4.tif'\n",
      " '/Users/chinmay/Desktop/Projects/Finals/train/lung 3/40070_85003_A_1_4.tif'\n",
      " '/Users/chinmay/Desktop/Projects/Finals/train/liver/40088_87867_A_7_4.tif'\n",
      " '/Users/chinmay/Desktop/Projects/Finals/train/kidney/40051_87105_A_8_5.tif'\n",
      " '/Users/chinmay/Desktop/Projects/Finals/train/small_intestine/40057_86761_A_6_2.tif'\n",
      " '/Users/chinmay/Desktop/Projects/Finals/train/skin_1/40111_90192_B_9_1.tif'\n",
      " '/Users/chinmay/Desktop/Projects/Finals/train/pancreas/40072_106264_A_3_3.tif'\n",
      " '/Users/chinmay/Desktop/Projects/Finals/train/endometrium_2/40061_85040_B_1_3.tif'\n",
      " '/Users/chinmay/Desktop/Projects/Finals/train/endometrium_2/40086_89217_B_1_3.tif'\n",
      " '/Users/chinmay/Desktop/Projects/Finals/train/lymph_node/40145_126560_A_9_8.tif'\n",
      " '/Users/chinmay/Desktop/Projects/Finals/train/pancreas/40092_85426_A_2_3.tif'\n",
      " '/Users/chinmay/Desktop/Projects/Finals/train/spleen/40126_85296_B_7_4.tif'\n",
      " '/Users/chinmay/Desktop/Projects/Finals/train/pancreas/40118_84737_A_3_3.tif'\n",
      " '/Users/chinmay/Desktop/Projects/Finals/train/kidney/40070_85003_A_7_5.tif'\n",
      " '/Users/chinmay/Desktop/Projects/Finals/train/skin_1/40052_130536_B_9_1.tif'\n",
      " '/Users/chinmay/Desktop/Projects/Finals/train/small_intestine/40111_90192_A_6_2.tif'\n",
      " '/Users/chinmay/Desktop/Projects/Finals/train/skin_1/40140_85634_B_9_1.tif'\n",
      " '/Users/chinmay/Desktop/Projects/Finals/train/kidney/40051_87105_A_7_5.tif'\n",
      " '/Users/chinmay/Desktop/Projects/Finals/train/lymph_node/40150_106251_A_9_8.tif'\n",
      " '/Users/chinmay/Desktop/Projects/Finals/train/lymph_node/40065_96284_A_8_8.tif'\n",
      " '/Users/chinmay/Desktop/Projects/Finals/train/skin_1/40152_134024_B_7_1.tif'\n",
      " '/Users/chinmay/Desktop/Projects/Finals/train/liver/40101_88202_A_8_4.tif'\n",
      " '/Users/chinmay/Desktop/Projects/Finals/train/spleen/40052_130536_B_9_4.tif'\n",
      " '/Users/chinmay/Desktop/Projects/Finals/train/colon/40088_87867_A_8_3.tif'\n",
      " '/Users/chinmay/Desktop/Projects/Finals/train/colon/40125_164309_A_7_3.tif'\n",
      " '/Users/chinmay/Desktop/Projects/Finals/train/kidney/40061_85040_A_9_5.tif'\n",
      " '/Users/chinmay/Desktop/Projects/Finals/train/skin_1/40120_85744_B_8_1.tif'\n",
      " '/Users/chinmay/Desktop/Projects/Finals/train/small_intestine/40067_100847_A_5_2.tif'\n",
      " '/Users/chinmay/Desktop/Projects/Finals/train/skin_2/40048_84862_B_5_8.tif'\n",
      " '/Users/chinmay/Desktop/Projects/Finals/train/lung 3/40087_95048_A_3_4.tif'\n",
      " '/Users/chinmay/Desktop/Projects/Finals/train/lymph_node/40090_88282_A_8_8.tif'\n",
      " '/Users/chinmay/Desktop/Projects/Finals/train/lung 3/40067_100847_A_2_4.tif'\n",
      " '/Users/chinmay/Desktop/Projects/Finals/train/endometrium_2/40119_88286_B_2_3.tif'\n",
      " '/Users/chinmay/Desktop/Projects/Finals/train/pancreas/40072_106264_A_2_3.tif'\n",
      " '/Users/chinmay/Desktop/Projects/Finals/train/endometrium_1/40066_141607_B_4_3.tif'\n",
      " '/Users/chinmay/Desktop/Projects/Finals/train/spleen/40075_86364_B_7_4.tif'\n",
      " '/Users/chinmay/Desktop/Projects/Finals/train/endometrium_2/40134_97237_B_1_3.tif'\n",
      " '/Users/chinmay/Desktop/Projects/Finals/train/spleen/40072_106264_B_8_4.tif'\n",
      " '/Users/chinmay/Desktop/Projects/Finals/train/lung 3/40086_89217_A_3_4.tif'\n",
      " '/Users/chinmay/Desktop/Projects/Finals/train/liver/40118_84737_A_9_4.tif'\n",
      " '/Users/chinmay/Desktop/Projects/Finals/train/endometrium_2/40143_160046_B_3_3.tif'\n",
      " '/Users/chinmay/Desktop/Projects/Finals/train/small_intestine/40092_85426_A_4_2.tif'\n",
      " '/Users/chinmay/Desktop/Projects/Finals/train/spleen/40057_86761_B_7_4.tif'\n",
      " '/Users/chinmay/Desktop/Projects/Finals/train/skin_1/40145_126560_B_7_1.tif'\n",
      " '/Users/chinmay/Desktop/Projects/Finals/train/lung 3/40064_95300_A_1_4.tif'\n",
      " '/Users/chinmay/Desktop/Projects/Finals/train/pancreas/40070_85003_A_3_3.tif'\n",
      " '/Users/chinmay/Desktop/Projects/Finals/train/liver/40072_106264_A_7_4.tif'\n",
      " '/Users/chinmay/Desktop/Projects/Finals/train/skin_1/40145_126560_B_8_1.tif'\n",
      " '/Users/chinmay/Desktop/Projects/Finals/train/lung 3/40086_89217_A_2_4.tif'\n",
      " '/Users/chinmay/Desktop/Projects/Finals/train/endometrium_1/40084_84728_B_4_3.tif'\n",
      " '/Users/chinmay/Desktop/Projects/Finals/train/kidney/40110_88954_A_8_5.tif'\n",
      " '/Users/chinmay/Desktop/Projects/Finals/train/spleen/40087_95048_B_8_4.tif'\n",
      " '/Users/chinmay/Desktop/Projects/Finals/train/liver/40067_100847_A_7_4.tif'\n",
      " '/Users/chinmay/Desktop/Projects/Finals/train/kidney/40086_89217_A_7_5.tif'\n",
      " '/Users/chinmay/Desktop/Projects/Finals/train/kidney/40057_86761_A_7_5.tif'\n",
      " '/Users/chinmay/Desktop/Projects/Finals/train/colon/40086_89217_A_8_3.tif'\n",
      " '/Users/chinmay/Desktop/Projects/Finals/train/skin_1/40064_95300_B_7_1.tif'\n",
      " '/Users/chinmay/Desktop/Projects/Finals/train/skin_2/40087_95048_B_4_8.tif'\n",
      " '/Users/chinmay/Desktop/Projects/Finals/train/endometrium_2/40046_142250_B_2_3.tif'\n",
      " '/Users/chinmay/Desktop/Projects/Finals/train/spleen/40064_95300_B_9_4.tif'\n",
      " '/Users/chinmay/Desktop/Projects/Finals/train/endometrium_2/40150_106251_B_2_3.tif'\n",
      " '/Users/chinmay/Desktop/Projects/Finals/train/endometrium_1/40055_84411_B_4_3.tif'\n",
      " '/Users/chinmay/Desktop/Projects/Finals/train/lymph_node/40125_164309_A_8_8.tif'\n",
      " '/Users/chinmay/Desktop/Projects/Finals/train/spleen/40084_84728_B_9_4.tif'\n",
      " '/Users/chinmay/Desktop/Projects/Finals/train/endometrium_1/40071_95769_B_6_3.tif'\n",
      " '/Users/chinmay/Desktop/Projects/Finals/train/liver/40090_88282_A_8_4.tif'\n",
      " '/Users/chinmay/Desktop/Projects/Finals/train/liver/40063_88048_A_9_4.tif'\n",
      " '/Users/chinmay/Desktop/Projects/Finals/train/kidney/40092_85426_A_7_5.tif'\n",
      " '/Users/chinmay/Desktop/Projects/Finals/train/pancreas/40101_88202_A_2_3.tif'\n",
      " '/Users/chinmay/Desktop/Projects/Finals/train/small_intestine/40084_84728_A_6_2.tif'\n",
      " '/Users/chinmay/Desktop/Projects/Finals/train/skin_2/40046_142250_B_6_8.tif'\n",
      " '/Users/chinmay/Desktop/Projects/Finals/train/colon/40126_85296_A_9_3.tif'\n",
      " '/Users/chinmay/Desktop/Projects/Finals/train/spleen/40055_84411_B_7_4.tif'\n",
      " '/Users/chinmay/Desktop/Projects/Finals/train/colon/40057_86761_A_8_3.tif'\n",
      " '/Users/chinmay/Desktop/Projects/Finals/train/skin_2/40101_88202_B_4_8.tif'\n",
      " '/Users/chinmay/Desktop/Projects/Finals/train/lymph_node/40086_89217_A_9_8.tif'\n",
      " '/Users/chinmay/Desktop/Projects/Finals/train/endometrium_1/40055_84411_B_5_3.tif'\n",
      " '/Users/chinmay/Desktop/Projects/Finals/train/kidney/40055_84642_A_8_5.tif'\n",
      " '/Users/chinmay/Desktop/Projects/Finals/train/skin_2/40152_134024_B_6_8.tif'\n",
      " '/Users/chinmay/Desktop/Projects/Finals/train/liver/40110_88954_A_7_4.tif'\n",
      " '/Users/chinmay/Desktop/Projects/Finals/train/spleen/40087_95048_B_7_4.tif'\n",
      " '/Users/chinmay/Desktop/Projects/Finals/train/liver/40086_89217_A_7_4.tif'\n",
      " '/Users/chinmay/Desktop/Projects/Finals/train/pancreas/40065_96284_A_3_3.tif'\n",
      " '/Users/chinmay/Desktop/Projects/Finals/train/endometrium_1/40052_130536_B_4_3.tif'\n",
      " '/Users/chinmay/Desktop/Projects/Finals/train/spleen/40046_142250_B_9_4.tif'\n",
      " '/Users/chinmay/Desktop/Projects/Finals/train/skin_1/40150_106251_B_8_1.tif'\n",
      " '/Users/chinmay/Desktop/Projects/Finals/train/colon/40147_86573_A_9_3.tif'\n",
      " '/Users/chinmay/Desktop/Projects/Finals/train/small_intestine/40111_90192_A_5_2.tif'\n",
      " '/Users/chinmay/Desktop/Projects/Finals/train/spleen/40088_87867_B_9_4.tif'\n",
      " '/Users/chinmay/Desktop/Projects/Finals/train/colon/40057_86761_A_9_3.tif'\n",
      " '/Users/chinmay/Desktop/Projects/Finals/train/skin_2/40061_85040_B_4_8.tif'\n",
      " '/Users/chinmay/Desktop/Projects/Finals/train/endometrium_2/40082_86041_B_1_3.tif'\n",
      " '/Users/chinmay/Desktop/Projects/Finals/train/endometrium_1/40063_88048_B_4_3.tif'\n",
      " '/Users/chinmay/Desktop/Projects/Finals/train/spleen/40120_85744_B_7_4.tif'\n",
      " '/Users/chinmay/Desktop/Projects/Finals/train/small_intestine/40086_89217_A_5_2.tif'\n",
      " '/Users/chinmay/Desktop/Projects/Finals/train/skin_1/40067_100847_B_9_1.tif'\n",
      " '/Users/chinmay/Desktop/Projects/Finals/train/small_intestine/40084_84728_A_4_2.tif'\n",
      " '/Users/chinmay/Desktop/Projects/Finals/train/skin_1/40064_95300_B_9_1.tif'\n",
      " '/Users/chinmay/Desktop/Projects/Finals/train/colon/40118_84737_A_9_3.tif'\n",
      " '/Users/chinmay/Desktop/Projects/Finals/train/spleen/40119_88286_B_8_4.tif'\n",
      " '/Users/chinmay/Desktop/Projects/Finals/train/skin_2/40111_90192_B_5_8.tif'\n",
      " '/Users/chinmay/Desktop/Projects/Finals/train/skin_1/40088_87867_B_7_1.tif'\n",
      " '/Users/chinmay/Desktop/Projects/Finals/train/skin_1/40075_86364_B_9_1.tif'\n",
      " '/Users/chinmay/Desktop/Projects/Finals/train/endometrium_1/40120_85744_B_6_3.tif'\n",
      " '/Users/chinmay/Desktop/Projects/Finals/train/lymph_node/40087_95048_A_8_8.tif'\n",
      " '/Users/chinmay/Desktop/Projects/Finals/train/skin_2/40150_106251_B_4_8.tif'\n",
      " '/Users/chinmay/Desktop/Projects/Finals/train/colon/40055_84642_A_9_3.tif'\n",
      " '/Users/chinmay/Desktop/Projects/Finals/train/lung 3/40126_85296_A_1_4.tif'\n",
      " '/Users/chinmay/Desktop/Projects/Finals/train/lung 3/40087_95048_A_1_4.tif'\n",
      " '/Users/chinmay/Desktop/Projects/Finals/train/pancreas/40125_164309_A_1_3.tif'\n",
      " '/Users/chinmay/Desktop/Projects/Finals/train/small_intestine/40082_86041_A_6_2.tif'\n",
      " '/Users/chinmay/Desktop/Projects/Finals/train/spleen/40086_89217_B_8_4.tif'\n",
      " '/Users/chinmay/Desktop/Projects/Finals/train/pancreas/40092_85426_A_1_3.tif'\n",
      " '/Users/chinmay/Desktop/Projects/Finals/train/endometrium_1/40111_90192_B_4_3.tif'\n",
      " '/Users/chinmay/Desktop/Projects/Finals/train/pancreas/40086_89217_A_3_3.tif'\n",
      " '/Users/chinmay/Desktop/Projects/Finals/train/pancreas/40082_86041_A_3_3.tif'\n",
      " '/Users/chinmay/Desktop/Projects/Finals/train/endometrium_2/40063_88048_B_1_3.tif'\n",
      " '/Users/chinmay/Desktop/Projects/Finals/train/spleen/40125_164309_B_7_4.tif'\n",
      " '/Users/chinmay/Desktop/Projects/Finals/train/skin_1/40134_97237_B_9_1.tif'\n",
      " '/Users/chinmay/Desktop/Projects/Finals/train/lymph_node/40064_95300_A_9_8.tif'\n",
      " '/Users/chinmay/Desktop/Projects/Finals/train/kidney/40070_85003_A_9_5.tif'\n",
      " '/Users/chinmay/Desktop/Projects/Finals/train/endometrium_1/40125_164309_B_5_3.tif'\n",
      " '/Users/chinmay/Desktop/Projects/Finals/train/lymph_node/40140_85634_A_7_8.tif'\n",
      " '/Users/chinmay/Desktop/Projects/Finals/train/kidney/40072_106264_A_9_5.tif'\n",
      " '/Users/chinmay/Desktop/Projects/Finals/train/endometrium_1/40052_130536_B_5_3.tif'\n",
      " '/Users/chinmay/Desktop/Projects/Finals/train/lymph_node/40152_134024_A_7_8.tif'\n",
      " '/Users/chinmay/Desktop/Projects/Finals/train/liver/40086_89217_A_9_4.tif'\n",
      " '/Users/chinmay/Desktop/Projects/Finals/train/small_intestine/40098_90797_A_4_2.tif'\n",
      " '/Users/chinmay/Desktop/Projects/Finals/train/small_intestine/40101_88202_A_4_2.tif'\n",
      " '/Users/chinmay/Desktop/Projects/Finals/train/liver/40072_106264_A_8_4.tif'\n",
      " '/Users/chinmay/Desktop/Projects/Finals/train/lung 3/40066_141607_A_1_4.tif'\n",
      " '/Users/chinmay/Desktop/Projects/Finals/train/lymph_node/40082_86041_A_8_8.tif'\n",
      " '/Users/chinmay/Desktop/Projects/Finals/train/lymph_node/40101_88202_A_9_8.tif'\n",
      " '/Users/chinmay/Desktop/Projects/Finals/train/kidney/40067_100847_A_7_5.tif'\n",
      " '/Users/chinmay/Desktop/Projects/Finals/train/pancreas/40067_100847_A_1_3.tif'\n",
      " '/Users/chinmay/Desktop/Projects/Finals/train/skin_2/40140_85634_B_4_8.tif'\n",
      " '/Users/chinmay/Desktop/Projects/Finals/train/endometrium_1/40110_88954_B_5_3.tif'\n",
      " '/Users/chinmay/Desktop/Projects/Finals/train/lung 3/40075_86364_A_3_4.tif'\n",
      " '/Users/chinmay/Desktop/Projects/Finals/train/lung 3/40092_85426_A_1_4.tif'\n",
      " '/Users/chinmay/Desktop/Projects/Finals/train/small_intestine/40090_88282_A_5_2.tif'\n",
      " '/Users/chinmay/Desktop/Projects/Finals/train/liver/40084_84728_A_8_4.tif'\n",
      " '/Users/chinmay/Desktop/Projects/Finals/train/colon/40082_86041_A_8_3.tif'\n",
      " '/Users/chinmay/Desktop/Projects/Finals/train/colon/40145_126560_A_9_3.tif'\n",
      " '/Users/chinmay/Desktop/Projects/Finals/train/colon/40048_84862_A_7_3.tif'\n",
      " '/Users/chinmay/Desktop/Projects/Finals/train/skin_2/40098_90797_B_5_8.tif'\n",
      " '/Users/chinmay/Desktop/Projects/Finals/train/spleen/40120_85744_B_9_4.tif'\n",
      " '/Users/chinmay/Desktop/Projects/Finals/train/kidney/40086_89217_A_9_5.tif'\n",
      " '/Users/chinmay/Desktop/Projects/Finals/train/liver/40120_85744_A_8_4.tif'\n",
      " '/Users/chinmay/Desktop/Projects/Finals/train/colon/40064_95300_A_8_3.tif'\n",
      " '/Users/chinmay/Desktop/Projects/Finals/train/lymph_node/40061_85040_A_9_8.tif'\n",
      " '/Users/chinmay/Desktop/Projects/Finals/train/skin_2/40140_85634_B_6_8.tif'\n",
      " '/Users/chinmay/Desktop/Projects/Finals/train/liver/40070_85003_A_8_4.tif'\n",
      " '/Users/chinmay/Desktop/Projects/Finals/train/skin_2/40052_130536_B_5_8.tif'\n",
      " '/Users/chinmay/Desktop/Projects/Finals/train/pancreas/40119_88286_A_3_3.tif'\n",
      " '/Users/chinmay/Desktop/Projects/Finals/train/endometrium_2/40067_100847_B_2_3.tif'\n",
      " '/Users/chinmay/Desktop/Projects/Finals/train/lung 3/40051_87105_A_3_4.tif'\n",
      " '/Users/chinmay/Desktop/Projects/Finals/train/lung 3/40048_84862_A_1_4.tif'\n",
      " '/Users/chinmay/Desktop/Projects/Finals/train/endometrium_2/40070_85003_B_3_3.tif'\n",
      " '/Users/chinmay/Desktop/Projects/Finals/train/skin_1/40065_96284_B_9_1.tif'\n",
      " '/Users/chinmay/Desktop/Projects/Finals/train/pancreas/40120_85744_A_3_3.tif'\n",
      " '/Users/chinmay/Desktop/Projects/Finals/train/pancreas/40118_84737_A_1_3.tif'\n",
      " '/Users/chinmay/Desktop/Projects/Finals/train/lymph_node/40084_84728_A_9_8.tif'\n",
      " '/Users/chinmay/Desktop/Projects/Finals/train/kidney/40051_87105_A_9_5.tif'\n",
      " '/Users/chinmay/Desktop/Projects/Finals/train/lung 3/40120_85744_A_3_4.tif'\n",
      " '/Users/chinmay/Desktop/Projects/Finals/train/lymph_node/40147_86573_A_8_8.tif'\n",
      " '/Users/chinmay/Desktop/Projects/Finals/train/liver/40126_85296_A_7_4.tif'\n",
      " '/Users/chinmay/Desktop/Projects/Finals/train/pancreas/40090_88282_A_2_3.tif'\n",
      " '/Users/chinmay/Desktop/Projects/Finals/train/spleen/40067_100847_B_8_4.tif'\n",
      " '/Users/chinmay/Desktop/Projects/Finals/train/skin_2/40134_97237_B_4_8.tif'\n",
      " '/Users/chinmay/Desktop/Projects/Finals/train/small_intestine/40082_86041_A_5_2.tif'\n",
      " '/Users/chinmay/Desktop/Projects/Finals/train/skin_2/40075_86364_B_6_8.tif'\n",
      " '/Users/chinmay/Desktop/Projects/Finals/train/skin_1/40072_106264_B_7_1.tif'\n",
      " '/Users/chinmay/Desktop/Projects/Finals/train/skin_1/40087_95048_B_8_1.tif'\n",
      " '/Users/chinmay/Desktop/Projects/Finals/train/kidney/40063_88048_A_7_5.tif'\n",
      " '/Users/chinmay/Desktop/Projects/Finals/train/liver/40119_88286_A_7_4.tif'\n",
      " '/Users/chinmay/Desktop/Projects/Finals/train/colon/40055_84642_A_8_3.tif'\n",
      " '/Users/chinmay/Desktop/Projects/Finals/train/liver/40065_96284_A_9_4.tif'\n",
      " '/Users/chinmay/Desktop/Projects/Finals/train/spleen/40101_88202_B_7_4.tif'\n",
      " '/Users/chinmay/Desktop/Projects/Finals/train/colon/40090_88282_A_7_3.tif'\n",
      " '/Users/chinmay/Desktop/Projects/Finals/train/skin_1/40143_160046_B_7_1.tif'\n",
      " '/Users/chinmay/Desktop/Projects/Finals/train/kidney/40087_95048_A_9_5.tif'\n",
      " '/Users/chinmay/Desktop/Projects/Finals/train/kidney/40101_88202_A_7_5.tif'\n",
      " '/Users/chinmay/Desktop/Projects/Finals/train/colon/40111_90192_A_9_3.tif'\n",
      " '/Users/chinmay/Desktop/Projects/Finals/train/spleen/40110_88954_B_7_4.tif'\n",
      " '/Users/chinmay/Desktop/Projects/Finals/train/endometrium_2/40075_86364_B_1_3.tif'\n",
      " '/Users/chinmay/Desktop/Projects/Finals/train/spleen/40086_89217_B_7_4.tif'\n",
      " '/Users/chinmay/Desktop/Projects/Finals/train/endometrium_2/40134_97237_B_2_3.tif'\n",
      " '/Users/chinmay/Desktop/Projects/Finals/train/liver/40071_95769_A_7_4.tif'\n",
      " '/Users/chinmay/Desktop/Projects/Finals/train/endometrium_2/40125_164309_B_1_3.tif'\n",
      " '/Users/chinmay/Desktop/Projects/Finals/train/skin_2/40125_164309_B_6_8.tif'\n",
      " '/Users/chinmay/Desktop/Projects/Finals/train/lymph_node/40082_86041_A_9_8.tif'\n",
      " '/Users/chinmay/Desktop/Projects/Finals/train/skin_2/40061_85040_B_6_8.tif'\n",
      " '/Users/chinmay/Desktop/Projects/Finals/train/endometrium_1/40051_87105_B_4_3.tif'\n",
      " '/Users/chinmay/Desktop/Projects/Finals/train/small_intestine/40070_85003_A_6_2.tif'\n",
      " '/Users/chinmay/Desktop/Projects/Finals/train/kidney/40063_88048_A_9_5.tif'\n",
      " '/Users/chinmay/Desktop/Projects/Finals/train/colon/40087_95048_A_7_3.tif'\n",
      " '/Users/chinmay/Desktop/Projects/Finals/train/colon/40101_88202_A_8_3.tif'\n",
      " '/Users/chinmay/Desktop/Projects/Finals/train/skin_2/40063_88048_B_4_8.tif'\n",
      " '/Users/chinmay/Desktop/Projects/Finals/train/endometrium_2/40110_88954_B_1_3.tif'\n",
      " '/Users/chinmay/Desktop/Projects/Finals/train/skin_2/40092_85426_B_5_8.tif'\n",
      " '/Users/chinmay/Desktop/Projects/Finals/train/small_intestine/40071_95769_A_6_2.tif'\n",
      " '/Users/chinmay/Desktop/Projects/Finals/train/colon/40147_86573_A_7_3.tif'\n",
      " '/Users/chinmay/Desktop/Projects/Finals/train/lymph_node/40055_84642_A_9_8.tif'\n",
      " '/Users/chinmay/Desktop/Projects/Finals/train/small_intestine/40063_88048_A_5_2.tif'\n",
      " '/Users/chinmay/Desktop/Projects/Finals/train/spleen/40118_84737_B_9_4.tif'\n",
      " '/Users/chinmay/Desktop/Projects/Finals/train/lung 3/40118_84737_A_1_4.tif'\n",
      " '/Users/chinmay/Desktop/Projects/Finals/train/skin_1/40111_90192_B_7_1.tif'\n",
      " '/Users/chinmay/Desktop/Projects/Finals/train/endometrium_1/40128_85100_B_5_3.tif'\n",
      " '/Users/chinmay/Desktop/Projects/Finals/train/kidney/40110_88954_A_7_5.tif'\n",
      " '/Users/chinmay/Desktop/Projects/Finals/train/lung 3/40084_84728_A_3_4.tif'\n",
      " '/Users/chinmay/Desktop/Projects/Finals/train/liver/40046_142250_A_7_4.tif'\n",
      " '/Users/chinmay/Desktop/Projects/Finals/train/endometrium_2/40061_85040_B_2_3.tif'\n",
      " '/Users/chinmay/Desktop/Projects/Finals/train/lymph_node/40046_142250_A_7_8.tif'\n",
      " '/Users/chinmay/Desktop/Projects/Finals/train/skin_1/40126_85296_B_9_1.tif'\n",
      " '/Users/chinmay/Desktop/Projects/Finals/train/skin_1/40111_90192_B_8_1.tif'\n",
      " '/Users/chinmay/Desktop/Projects/Finals/train/endometrium_1/40057_86761_B_4_3.tif'\n",
      " '/Users/chinmay/Desktop/Projects/Finals/train/pancreas/40065_96284_A_1_3.tif'\n",
      " '/Users/chinmay/Desktop/Projects/Finals/train/endometrium_2/40126_85296_B_1_3.tif'\n",
      " '/Users/chinmay/Desktop/Projects/Finals/train/pancreas/40111_90192_A_1_3.tif'\n",
      " '/Users/chinmay/Desktop/Projects/Finals/train/small_intestine/40070_85003_A_5_2.tif'\n",
      " '/Users/chinmay/Desktop/Projects/Finals/train/skin_1/40098_90797_B_7_1.tif'\n",
      " '/Users/chinmay/Desktop/Projects/Finals/train/endometrium_1/40067_100847_B_4_3.tif'\n",
      " '/Users/chinmay/Desktop/Projects/Finals/train/lung 3/40072_106264_A_2_4.tif'\n",
      " '/Users/chinmay/Desktop/Projects/Finals/train/colon/40120_85744_A_7_3.tif'\n",
      " '/Users/chinmay/Desktop/Projects/Finals/train/skin_2/40154_89097_B_6_8.tif'\n",
      " '/Users/chinmay/Desktop/Projects/Finals/train/colon/40118_84737_A_8_3.tif'\n",
      " '/Users/chinmay/Desktop/Projects/Finals/train/endometrium_1/40118_84737_B_4_3.tif'\n",
      " '/Users/chinmay/Desktop/Projects/Finals/train/skin_1/40140_85634_B_8_1.tif'\n",
      " '/Users/chinmay/Desktop/Projects/Finals/train/skin_2/40145_126560_B_4_8.tif'\n",
      " '/Users/chinmay/Desktop/Projects/Finals/train/endometrium_2/40125_164309_B_2_3.tif'\n",
      " '/Users/chinmay/Desktop/Projects/Finals/train/endometrium_1/40066_141607_B_6_3.tif'\n",
      " '/Users/chinmay/Desktop/Projects/Finals/train/skin_1/40055_84411_B_9_1.tif'\n",
      " '/Users/chinmay/Desktop/Projects/Finals/train/small_intestine/40134_97237_A_4_2.tif'\n",
      " '/Users/chinmay/Desktop/Projects/Finals/train/colon/40098_90797_A_8_3.tif'\n",
      " '/Users/chinmay/Desktop/Projects/Finals/train/endometrium_2/40075_86364_B_2_3.tif'\n",
      " '/Users/chinmay/Desktop/Projects/Finals/train/lymph_node/40071_95769_A_7_8.tif'\n",
      " '/Users/chinmay/Desktop/Projects/Finals/train/lung 3/40110_88954_A_2_4.tif'\n",
      " '/Users/chinmay/Desktop/Projects/Finals/train/endometrium_2/40071_95769_B_3_3.tif'\n",
      " '/Users/chinmay/Desktop/Projects/Finals/train/lymph_node/40065_96284_A_9_8.tif'\n",
      " '/Users/chinmay/Desktop/Projects/Finals/train/lung 3/40125_164309_A_3_4.tif'\n",
      " '/Users/chinmay/Desktop/Projects/Finals/train/endometrium_2/40052_130536_B_1_3.tif'\n",
      " '/Users/chinmay/Desktop/Projects/Finals/train/pancreas/40118_84737_A_2_3.tif'\n",
      " '/Users/chinmay/Desktop/Projects/Finals/train/endometrium_2/40087_95048_B_1_3.tif'\n",
      " '/Users/chinmay/Desktop/Projects/Finals/train/pancreas/40110_88954_A_3_3.tif'\n",
      " '/Users/chinmay/Desktop/Projects/Finals/train/lung 3/40051_87105_A_1_4.tif'\n",
      " '/Users/chinmay/Desktop/Projects/Finals/train/lymph_node/40143_160046_A_9_8.tif'\n",
      " '/Users/chinmay/Desktop/Projects/Finals/train/skin_2/40075_86364_B_4_8.tif'\n",
      " '/Users/chinmay/Desktop/Projects/Finals/train/endometrium_1/40125_164309_B_4_3.tif'\n",
      " '/Users/chinmay/Desktop/Projects/Finals/train/pancreas/40052_130536_A_1_3.tif'\n",
      " '/Users/chinmay/Desktop/Projects/Finals/train/lung 3/40101_88202_A_3_4.tif'\n",
      " '/Users/chinmay/Desktop/Projects/Finals/train/skin_2/40147_86691_B_6_8.tif'\n",
      " '/Users/chinmay/Desktop/Projects/Finals/train/pancreas/40084_84728_A_3_3.tif'\n",
      " '/Users/chinmay/Desktop/Projects/Finals/train/endometrium_1/40064_95300_B_6_3.tif'\n",
      " '/Users/chinmay/Desktop/Projects/Finals/train/liver/40098_90797_A_7_4.tif'\n",
      " '/Users/chinmay/Desktop/Projects/Finals/train/endometrium_2/40057_86761_B_2_3.tif'\n",
      " '/Users/chinmay/Desktop/Projects/Finals/train/small_intestine/40065_96284_A_5_2.tif'\n",
      " '/Users/chinmay/Desktop/Projects/Finals/train/endometrium_1/40088_87867_B_4_3.tif'\n",
      " '/Users/chinmay/Desktop/Projects/Finals/train/liver/40086_89217_A_8_4.tif'\n",
      " '/Users/chinmay/Desktop/Projects/Finals/train/liver/40070_85003_A_9_4.tif'\n",
      " '/Users/chinmay/Desktop/Projects/Finals/train/spleen/40051_87105_B_7_4.tif'\n",
      " '/Users/chinmay/Desktop/Projects/Finals/train/colon/40064_95300_A_9_3.tif'\n",
      " '/Users/chinmay/Desktop/Projects/Finals/train/liver/40051_87105_A_7_4.tif'\n",
      " '/Users/chinmay/Desktop/Projects/Finals/train/skin_2/40051_87105_B_6_8.tif'\n",
      " '/Users/chinmay/Desktop/Projects/Finals/train/pancreas/40082_86041_A_1_3.tif'\n",
      " '/Users/chinmay/Desktop/Projects/Finals/train/spleen/40126_85296_B_8_4.tif'\n",
      " '/Users/chinmay/Desktop/Projects/Finals/train/lung 3/40055_84642_A_2_4.tif'\n",
      " '/Users/chinmay/Desktop/Projects/Finals/train/pancreas/40071_95769_A_2_3.tif'\n",
      " '/Users/chinmay/Desktop/Projects/Finals/train/spleen/40082_86041_B_8_4.tif'\n",
      " '/Users/chinmay/Desktop/Projects/Finals/train/spleen/40101_88202_B_8_4.tif'\n",
      " '/Users/chinmay/Desktop/Projects/Finals/train/kidney/40118_84737_A_7_5.tif'\n",
      " '/Users/chinmay/Desktop/Projects/Finals/train/lung 3/40092_85426_A_2_4.tif'\n",
      " '/Users/chinmay/Desktop/Projects/Finals/train/skin_2/40152_134024_B_5_8.tif'\n",
      " '/Users/chinmay/Desktop/Projects/Finals/train/spleen/40125_164309_B_9_4.tif'\n",
      " '/Users/chinmay/Desktop/Projects/Finals/train/lung 3/40111_90192_A_1_4.tif'\n",
      " '/Users/chinmay/Desktop/Projects/Finals/train/small_intestine/40111_90192_A_4_2.tif'\n",
      " '/Users/chinmay/Desktop/Projects/Finals/train/skin_2/40098_90797_B_6_8.tif'\n",
      " '/Users/chinmay/Desktop/Projects/Finals/train/colon/40147_86573_A_8_3.tif'\n",
      " '/Users/chinmay/Desktop/Projects/Finals/train/skin_2/40111_90192_B_6_8.tif'\n",
      " '/Users/chinmay/Desktop/Projects/Finals/train/lymph_node/40118_84737_A_8_8.tif'\n",
      " '/Users/chinmay/Desktop/Projects/Finals/train/liver/40065_96284_A_7_4.tif'\n",
      " '/Users/chinmay/Desktop/Projects/Finals/train/small_intestine/40092_85426_A_5_2.tif'\n",
      " '/Users/chinmay/Desktop/Projects/Finals/train/lung 3/40070_85003_A_2_4.tif'\n",
      " '/Users/chinmay/Desktop/Projects/Finals/train/colon/40110_88954_A_7_3.tif'\n",
      " '/Users/chinmay/Desktop/Projects/Finals/train/liver/40071_95769_A_8_4.tif'\n",
      " '/Users/chinmay/Desktop/Projects/Finals/train/liver/40075_86364_A_7_4.tif'\n",
      " '/Users/chinmay/Desktop/Projects/Finals/train/endometrium_1/40051_87105_B_5_3.tif'\n",
      " '/Users/chinmay/Desktop/Projects/Finals/train/pancreas/40087_95048_A_1_3.tif'\n",
      " '/Users/chinmay/Desktop/Projects/Finals/train/skin_2/40087_95048_B_6_8.tif'\n",
      " '/Users/chinmay/Desktop/Projects/Finals/train/skin_2/40092_85426_B_4_8.tif'\n",
      " '/Users/chinmay/Desktop/Projects/Finals/train/kidney/40064_95300_A_7_5.tif'\n",
      " '/Users/chinmay/Desktop/Projects/Finals/train/pancreas/40088_87867_A_2_3.tif'\n",
      " '/Users/chinmay/Desktop/Projects/Finals/train/skin_1/40090_88282_B_9_1.tif'\n",
      " '/Users/chinmay/Desktop/Projects/Finals/train/liver/40052_130536_A_7_4.tif'\n",
      " '/Users/chinmay/Desktop/Projects/Finals/train/skin_1/40128_85100_B_8_1.tif'\n",
      " '/Users/chinmay/Desktop/Projects/Finals/train/skin_1/40150_106251_B_9_1.tif'\n",
      " '/Users/chinmay/Desktop/Projects/Finals/train/skin_1/40072_106264_B_9_1.tif'\n",
      " '/Users/chinmay/Desktop/Projects/Finals/train/pancreas/40126_85296_A_3_3.tif'\n",
      " '/Users/chinmay/Desktop/Projects/Finals/train/skin_2/40048_84862_B_6_8.tif'\n",
      " '/Users/chinmay/Desktop/Projects/Finals/train/endometrium_1/40044_96798_B_4_3.tif'\n",
      " '/Users/chinmay/Desktop/Projects/Finals/train/lymph_node/40082_86041_A_7_8.tif'\n",
      " '/Users/chinmay/Desktop/Projects/Finals/train/skin_1/40090_88282_B_7_1.tif'\n",
      " '/Users/chinmay/Desktop/Projects/Finals/train/small_intestine/40055_84642_A_5_2.tif'\n",
      " '/Users/chinmay/Desktop/Projects/Finals/train/pancreas/40070_85003_A_2_3.tif'\n",
      " '/Users/chinmay/Desktop/Projects/Finals/train/lung 3/40065_96284_A_1_4.tif'\n",
      " '/Users/chinmay/Desktop/Projects/Finals/train/skin_1/40140_85634_B_7_1.tif'\n",
      " '/Users/chinmay/Desktop/Projects/Finals/train/endometrium_1/40084_84728_B_5_3.tif'\n",
      " '/Users/chinmay/Desktop/Projects/Finals/train/small_intestine/40082_86041_A_4_2.tif'\n",
      " '/Users/chinmay/Desktop/Projects/Finals/train/endometrium_2/40098_90797_B_1_3.tif'\n",
      " '/Users/chinmay/Desktop/Projects/Finals/train/lung 3/40088_87867_A_1_4.tif'\n",
      " '/Users/chinmay/Desktop/Projects/Finals/train/kidney/40092_85426_A_9_5.tif'\n",
      " '/Users/chinmay/Desktop/Projects/Finals/train/skin_2/40125_164309_B_4_8.tif'\n",
      " '/Users/chinmay/Desktop/Projects/Finals/train/spleen/40067_100847_B_7_4.tif'\n",
      " '/Users/chinmay/Desktop/Projects/Finals/train/lymph_node/40066_141607_A_8_8.tif'\n",
      " '/Users/chinmay/Desktop/Projects/Finals/train/liver/40087_95048_A_9_4.tif'\n",
      " '/Users/chinmay/Desktop/Projects/Finals/train/spleen/40055_84411_B_8_4.tif'\n",
      " '/Users/chinmay/Desktop/Projects/Finals/train/colon/40140_85634_A_9_3.tif'\n",
      " '/Users/chinmay/Desktop/Projects/Finals/train/colon/40140_85634_A_8_3.tif'\n",
      " '/Users/chinmay/Desktop/Projects/Finals/train/lymph_node/40088_87867_A_8_8.tif'\n",
      " '/Users/chinmay/Desktop/Projects/Finals/train/pancreas/40126_85296_A_1_3.tif'\n",
      " '/Users/chinmay/Desktop/Projects/Finals/train/pancreas/40057_86761_A_1_3.tif'\n",
      " '/Users/chinmay/Desktop/Projects/Finals/train/skin_2/40152_134024_B_4_8.tif'\n",
      " '/Users/chinmay/Desktop/Projects/Finals/train/colon/40088_87867_A_9_3.tif'\n",
      " '/Users/chinmay/Desktop/Projects/Finals/train/small_intestine/40119_88286_A_6_2.tif'\n",
      " '/Users/chinmay/Desktop/Projects/Finals/train/lung 3/40075_86364_A_1_4.tif'\n",
      " '/Users/chinmay/Desktop/Projects/Finals/train/skin_2/40143_160046_B_4_8.tif'\n",
      " '/Users/chinmay/Desktop/Projects/Finals/train/endometrium_2/40088_87867_B_2_3.tif'\n",
      " '/Users/chinmay/Desktop/Projects/Finals/train/skin_1/40088_87867_B_8_1.tif'\n",
      " '/Users/chinmay/Desktop/Projects/Finals/train/skin_1/40087_95048_B_9_1.tif'\n",
      " '/Users/chinmay/Desktop/Projects/Finals/train/endometrium_1/40072_106264_B_4_3.tif'\n",
      " '/Users/chinmay/Desktop/Projects/Finals/train/pancreas/40098_90797_A_3_3.tif'\n",
      " '/Users/chinmay/Desktop/Projects/Finals/train/small_intestine/40075_86364_A_5_2.tif'\n",
      " '/Users/chinmay/Desktop/Projects/Finals/train/skin_1/40067_100847_B_7_1.tif'\n",
      " '/Users/chinmay/Desktop/Projects/Finals/train/spleen/40111_90192_B_8_4.tif'\n",
      " '/Users/chinmay/Desktop/Projects/Finals/train/liver/40051_87105_A_8_4.tif'\n",
      " '/Users/chinmay/Desktop/Projects/Finals/train/kidney/40061_85040_A_8_5.tif'\n",
      " '/Users/chinmay/Desktop/Projects/Finals/train/liver/40119_88286_A_8_4.tif'\n",
      " '/Users/chinmay/Desktop/Projects/Finals/train/endometrium_2/40052_130536_B_3_3.tif'\n",
      " '/Users/chinmay/Desktop/Projects/Finals/train/small_intestine/40072_106264_A_5_2.tif'\n",
      " '/Users/chinmay/Desktop/Projects/Finals/train/lung 3/40120_85744_A_1_4.tif'\n",
      " '/Users/chinmay/Desktop/Projects/Finals/train/endometrium_1/40120_85744_B_5_3.tif'\n",
      " '/Users/chinmay/Desktop/Projects/Finals/train/pancreas/40071_95769_A_3_3.tif'\n",
      " '/Users/chinmay/Desktop/Projects/Finals/train/kidney/40125_164309_A_8_5.tif'\n",
      " '/Users/chinmay/Desktop/Projects/Finals/train/endometrium_2/40065_96284_B_3_3.tif'\n",
      " '/Users/chinmay/Desktop/Projects/Finals/train/lung 3/40090_88282_A_3_4.tif'\n",
      " '/Users/chinmay/Desktop/Projects/Finals/train/lymph_node/40067_100847_A_8_8.tif'\n",
      " '/Users/chinmay/Desktop/Projects/Finals/train/spleen/40098_90797_B_9_4.tif'\n",
      " '/Users/chinmay/Desktop/Projects/Finals/train/endometrium_1/40087_95048_B_5_3.tif'\n",
      " '/Users/chinmay/Desktop/Projects/Finals/train/pancreas/40087_95048_A_2_3.tif'\n",
      " '/Users/chinmay/Desktop/Projects/Finals/train/spleen/40111_90192_B_7_4.tif'\n",
      " '/Users/chinmay/Desktop/Projects/Finals/train/endometrium_2/40118_84737_B_3_3.tif'\n",
      " '/Users/chinmay/Desktop/Projects/Finals/train/lung 3/40071_95769_A_1_4.tif'\n",
      " '/Users/chinmay/Desktop/Projects/Finals/train/kidney/40119_88286_A_7_5.tif'\n",
      " '/Users/chinmay/Desktop/Projects/Finals/train/pancreas/40075_86364_A_3_3.tif'\n",
      " '/Users/chinmay/Desktop/Projects/Finals/train/liver/40111_90192_A_8_4.tif'\n",
      " '/Users/chinmay/Desktop/Projects/Finals/train/skin_1/40143_160046_B_8_1.tif'\n",
      " '/Users/chinmay/Desktop/Projects/Finals/train/pancreas/40070_85003_A_1_3.tif'\n",
      " '/Users/chinmay/Desktop/Projects/Finals/train/endometrium_2/40145_126560_B_3_3.tif'\n",
      " '/Users/chinmay/Desktop/Projects/Finals/train/spleen/40065_96284_B_7_4.tif'\n",
      " '/Users/chinmay/Desktop/Projects/Finals/train/small_intestine/40067_100847_A_6_2.tif'\n",
      " '/Users/chinmay/Desktop/Projects/Finals/train/small_intestine/40075_86364_A_4_2.tif'\n",
      " '/Users/chinmay/Desktop/Projects/Finals/train/kidney/40119_88286_A_9_5.tif'\n",
      " '/Users/chinmay/Desktop/Projects/Finals/train/endometrium_1/40126_85296_B_4_3.tif'\n",
      " '/Users/chinmay/Desktop/Projects/Finals/train/skin_2/40120_85744_B_5_8.tif'\n",
      " '/Users/chinmay/Desktop/Projects/Finals/train/skin_2/40088_87867_B_4_8.tif'\n",
      " '/Users/chinmay/Desktop/Projects/Finals/train/skin_1/40066_141607_B_7_1.tif'\n",
      " '/Users/chinmay/Desktop/Projects/Finals/train/endometrium_2/40064_95300_B_1_3.tif'\n",
      " '/Users/chinmay/Desktop/Projects/Finals/train/lung 3/40125_164309_A_2_4.tif'\n",
      " '/Users/chinmay/Desktop/Projects/Finals/train/small_intestine/40118_84737_A_6_2.tif'\n",
      " '/Users/chinmay/Desktop/Projects/Finals/train/skin_1/40066_141607_B_9_1.tif'\n",
      " '/Users/chinmay/Desktop/Projects/Finals/train/spleen/40090_88282_B_8_4.tif'\n",
      " '/Users/chinmay/Desktop/Projects/Finals/train/lung 3/40051_87105_A_2_4.tif'\n",
      " '/Users/chinmay/Desktop/Projects/Finals/train/skin_1/40145_126560_B_9_1.tif'\n",
      " '/Users/chinmay/Desktop/Projects/Finals/train/colon/40075_86364_A_9_3.tif'\n",
      " '/Users/chinmay/Desktop/Projects/Finals/train/small_intestine/40128_85100_A_6_2.tif'\n",
      " '/Users/chinmay/Desktop/Projects/Finals/train/small_intestine/40086_89217_A_6_2.tif'\n",
      " '/Users/chinmay/Desktop/Projects/Finals/train/colon/40143_160046_A_8_3.tif'\n",
      " '/Users/chinmay/Desktop/Projects/Finals/train/endometrium_1/40125_164309_B_6_3.tif'\n",
      " '/Users/chinmay/Desktop/Projects/Finals/train/liver/40055_84642_A_9_4.tif'\n",
      " '/Users/chinmay/Desktop/Projects/Finals/train/endometrium_2/40111_90192_B_2_3.tif'\n",
      " '/Users/chinmay/Desktop/Projects/Finals/train/skin_1/40071_95769_B_7_1.tif'\n",
      " '/Users/chinmay/Desktop/Projects/Finals/train/kidney/40126_85296_A_8_5.tif'\n",
      " '/Users/chinmay/Desktop/Projects/Finals/train/spleen/40071_95769_B_7_4.tif'\n",
      " '/Users/chinmay/Desktop/Projects/Finals/train/endometrium_2/40082_86041_B_2_3.tif'\n",
      " '/Users/chinmay/Desktop/Projects/Finals/train/endometrium_2/40111_90192_B_1_3.tif'\n",
      " '/Users/chinmay/Desktop/Projects/Finals/train/spleen/40119_88286_B_9_4.tif'\n",
      " '/Users/chinmay/Desktop/Projects/Finals/train/lung 3/40084_84728_A_1_4.tif'\n",
      " '/Users/chinmay/Desktop/Projects/Finals/train/liver/40088_87867_A_8_4.tif'\n",
      " '/Users/chinmay/Desktop/Projects/Finals/train/small_intestine/40051_87105_A_4_2.tif'\n",
      " '/Users/chinmay/Desktop/Projects/Finals/train/small_intestine/40125_164309_A_4_2.tif'\n",
      " '/Users/chinmay/Desktop/Projects/Finals/train/skin_2/40118_84737_B_6_8.tif'\n",
      " '/Users/chinmay/Desktop/Projects/Finals/train/lymph_node/40119_88286_A_8_8.tif'\n",
      " '/Users/chinmay/Desktop/Projects/Finals/train/skin_1/40110_88954_B_7_1.tif'\n",
      " '/Users/chinmay/Desktop/Projects/Finals/train/colon/40098_90797_A_7_3.tif'\n",
      " '/Users/chinmay/Desktop/Projects/Finals/train/endometrium_2/40061_85040_B_3_3.tif'\n",
      " '/Users/chinmay/Desktop/Projects/Finals/train/lymph_node/40061_85040_A_8_8.tif'\n",
      " '/Users/chinmay/Desktop/Projects/Finals/train/pancreas/40098_90797_A_2_3.tif'\n",
      " '/Users/chinmay/Desktop/Projects/Finals/train/lung 3/40098_90797_A_1_4.tif'\n",
      " '/Users/chinmay/Desktop/Projects/Finals/train/endometrium_1/40082_86041_B_5_3.tif'\n",
      " '/Users/chinmay/Desktop/Projects/Finals/train/small_intestine/40119_88286_A_5_2.tif'\n",
      " '/Users/chinmay/Desktop/Projects/Finals/train/kidney/40052_130536_A_8_5.tif'\n",
      " '/Users/chinmay/Desktop/Projects/Finals/train/endometrium_1/40067_100847_B_6_3.tif'\n",
      " '/Users/chinmay/Desktop/Projects/Finals/train/skin_1/40088_87867_B_9_1.tif'\n",
      " '/Users/chinmay/Desktop/Projects/Finals/train/small_intestine/40088_87867_A_6_2.tif'\n",
      " '/Users/chinmay/Desktop/Projects/Finals/train/skin_1/40110_88954_B_9_1.tif'\n",
      " '/Users/chinmay/Desktop/Projects/Finals/train/skin_2/40143_160046_B_5_8.tif'\n",
      " '/Users/chinmay/Desktop/Projects/Finals/train/colon/40065_96284_A_9_3.tif'\n",
      " '/Users/chinmay/Desktop/Projects/Finals/train/spleen/40088_87867_B_8_4.tif'\n",
      " '/Users/chinmay/Desktop/Projects/Finals/train/small_intestine/40128_85100_A_4_2.tif'\n",
      " '/Users/chinmay/Desktop/Projects/Finals/train/lymph_node/40071_95769_A_9_8.tif'\n",
      " '/Users/chinmay/Desktop/Projects/Finals/train/endometrium_1/40075_86364_B_4_3.tif'\n",
      " '/Users/chinmay/Desktop/Projects/Finals/train/lymph_node/40143_160046_A_8_8.tif'\n",
      " '/Users/chinmay/Desktop/Projects/Finals/train/colon/40063_88048_A_7_3.tif'\n",
      " '/Users/chinmay/Desktop/Projects/Finals/train/colon/40084_84728_A_9_3.tif'\n",
      " '/Users/chinmay/Desktop/Projects/Finals/train/endometrium_1/40064_95300_B_4_3.tif'\n",
      " '/Users/chinmay/Desktop/Projects/Finals/train/lung 3/40088_87867_A_3_4.tif'\n",
      " '/Users/chinmay/Desktop/Projects/Finals/train/endometrium_1/40071_95769_B_5_3.tif'\n",
      " '/Users/chinmay/Desktop/Projects/Finals/train/endometrium_2/40147_86691_B_3_3.tif'\n",
      " '/Users/chinmay/Desktop/Projects/Finals/train/colon/40082_86041_A_7_3.tif'\n",
      " '/Users/chinmay/Desktop/Projects/Finals/train/skin_1/40070_85003_B_8_1.tif'\n",
      " '/Users/chinmay/Desktop/Projects/Finals/train/lung 3/40067_100847_A_3_4.tif'\n",
      " '/Users/chinmay/Desktop/Projects/Finals/train/kidney/40118_84737_A_8_5.tif'\n",
      " '/Users/chinmay/Desktop/Projects/Finals/train/endometrium_2/40092_85426_B_1_3.tif'\n",
      " '/Users/chinmay/Desktop/Projects/Finals/train/kidney/40071_95769_A_7_5.tif'\n",
      " '/Users/chinmay/Desktop/Projects/Finals/train/colon/40125_164309_A_9_3.tif'\n",
      " '/Users/chinmay/Desktop/Projects/Finals/train/endometrium_2/40066_141607_B_2_3.tif'\n",
      " '/Users/chinmay/Desktop/Projects/Finals/train/endometrium_2/40046_142250_B_1_3.tif'\n",
      " '/Users/chinmay/Desktop/Projects/Finals/train/liver/40075_86364_A_8_4.tif'\n",
      " '/Users/chinmay/Desktop/Projects/Finals/train/spleen/40084_84728_B_7_4.tif'\n",
      " '/Users/chinmay/Desktop/Projects/Finals/train/skin_2/40120_85744_B_6_8.tif'\n",
      " '/Users/chinmay/Desktop/Projects/Finals/train/pancreas/40084_84728_A_1_3.tif'\n",
      " '/Users/chinmay/Desktop/Projects/Finals/train/lung 3/40111_90192_A_2_4.tif'\n",
      " '/Users/chinmay/Desktop/Projects/Finals/train/liver/40048_84862_A_8_4.tif'\n",
      " '/Users/chinmay/Desktop/Projects/Finals/train/small_intestine/40092_85426_A_6_2.tif'\n",
      " '/Users/chinmay/Desktop/Projects/Finals/train/kidney/40084_84728_A_9_5.tif'\n",
      " '/Users/chinmay/Desktop/Projects/Finals/train/skin_1/40119_88286_B_8_1.tif'\n",
      " '/Users/chinmay/Desktop/Projects/Finals/train/endometrium_2/40119_88286_B_1_3.tif'\n",
      " '/Users/chinmay/Desktop/Projects/Finals/train/endometrium_1/40075_86364_B_5_3.tif'\n",
      " '/Users/chinmay/Desktop/Projects/Finals/train/liver/40082_86041_A_9_4.tif'\n",
      " '/Users/chinmay/Desktop/Projects/Finals/train/kidney/40111_90192_A_8_5.tif'\n",
      " '/Users/chinmay/Desktop/Projects/Finals/train/small_intestine/40055_84642_A_6_2.tif'\n",
      " '/Users/chinmay/Desktop/Projects/Finals/train/colon/40145_126560_A_7_3.tif'\n",
      " '/Users/chinmay/Desktop/Projects/Finals/train/pancreas/40092_85426_A_3_3.tif'\n",
      " '/Users/chinmay/Desktop/Projects/Finals/train/kidney/40066_141607_A_9_5.tif'\n",
      " '/Users/chinmay/Desktop/Projects/Finals/train/lung 3/40119_88286_A_1_4.tif'\n",
      " '/Users/chinmay/Desktop/Projects/Finals/train/skin_2/40119_88286_B_6_8.tif'\n",
      " '/Users/chinmay/Desktop/Projects/Finals/train/colon/40067_100847_A_7_3.tif'\n",
      " '/Users/chinmay/Desktop/Projects/Finals/train/liver/40125_164309_A_7_4.tif'\n",
      " '/Users/chinmay/Desktop/Projects/Finals/train/pancreas/40098_90797_A_1_3.tif'\n",
      " '/Users/chinmay/Desktop/Projects/Finals/train/pancreas/40064_95300_A_3_3.tif'\n",
      " '/Users/chinmay/Desktop/Projects/Finals/train/liver/40084_84728_A_9_4.tif'\n",
      " '/Users/chinmay/Desktop/Projects/Finals/train/colon/40088_87867_A_7_3.tif'\n",
      " '/Users/chinmay/Desktop/Projects/Finals/train/liver/40087_95048_A_7_4.tif'\n",
      " '/Users/chinmay/Desktop/Projects/Finals/train/lung 3/40067_100847_A_1_4.tif'\n",
      " '/Users/chinmay/Desktop/Projects/Finals/train/liver/40088_87867_A_9_4.tif'\n",
      " '/Users/chinmay/Desktop/Projects/Finals/train/lymph_node/40126_85296_A_8_8.tif'\n",
      " '/Users/chinmay/Desktop/Projects/Finals/train/endometrium_2/40071_95769_B_1_3.tif'\n",
      " '/Users/chinmay/Desktop/Projects/Finals/train/kidney/40088_87867_A_8_5.tif'\n",
      " '/Users/chinmay/Desktop/Projects/Finals/train/kidney/40071_95769_A_8_5.tif'\n",
      " '/Users/chinmay/Desktop/Projects/Finals/train/lymph_node/40066_141607_A_7_8.tif'\n",
      " '/Users/chinmay/Desktop/Projects/Finals/train/endometrium_2/40048_84862_B_1_3.tif'\n",
      " '/Users/chinmay/Desktop/Projects/Finals/train/spleen/40098_90797_B_7_4.tif'\n",
      " '/Users/chinmay/Desktop/Projects/Finals/train/spleen/40120_85744_B_8_4.tif'\n",
      " '/Users/chinmay/Desktop/Projects/Finals/train/kidney/40064_95300_A_9_5.tif'\n",
      " '/Users/chinmay/Desktop/Projects/Finals/train/endometrium_2/40092_85426_B_2_3.tif'\n",
      " '/Users/chinmay/Desktop/Projects/Finals/train/lymph_node/40119_88286_A_9_8.tif'\n",
      " '/Users/chinmay/Desktop/Projects/Finals/train/skin_1/40134_97237_B_7_1.tif'\n",
      " '/Users/chinmay/Desktop/Projects/Finals/train/liver/40061_85040_A_7_4.tif'\n",
      " '/Users/chinmay/Desktop/Projects/Finals/train/skin_2/40075_86364_B_5_8.tif'\n",
      " '/Users/chinmay/Desktop/Projects/Finals/train/kidney/40072_106264_A_8_5.tif'\n",
      " '/Users/chinmay/Desktop/Projects/Finals/train/skin_1/40084_84728_B_8_1.tif'\n",
      " '/Users/chinmay/Desktop/Projects/Finals/train/colon/40071_95769_A_7_3.tif'\n",
      " '/Users/chinmay/Desktop/Projects/Finals/train/liver/40098_90797_A_8_4.tif'\n",
      " '/Users/chinmay/Desktop/Projects/Finals/train/skin_1/40061_85040_B_9_1.tif'\n",
      " '/Users/chinmay/Desktop/Projects/Finals/train/endometrium_2/40055_84411_B_3_3.tif'\n",
      " '/Users/chinmay/Desktop/Projects/Finals/train/lung 3/40098_90797_A_2_4.tif'\n",
      " '/Users/chinmay/Desktop/Projects/Finals/train/pancreas/40086_89217_A_2_3.tif'\n",
      " '/Users/chinmay/Desktop/Projects/Finals/train/endometrium_2/40145_126560_B_1_3.tif'\n",
      " '/Users/chinmay/Desktop/Projects/Finals/train/lymph_node/40048_84862_A_8_8.tif'\n",
      " '/Users/chinmay/Desktop/Projects/Finals/train/pancreas/40065_96284_A_2_3.tif'\n",
      " '/Users/chinmay/Desktop/Projects/Finals/train/lung 3/40120_85744_A_2_4.tif'\n",
      " '/Users/chinmay/Desktop/Projects/Finals/train/spleen/40072_106264_B_9_4.tif'\n",
      " '/Users/chinmay/Desktop/Projects/Finals/train/pancreas/40067_100847_A_3_3.tif'\n",
      " '/Users/chinmay/Desktop/Projects/Finals/train/colon/40145_126560_A_8_3.tif'\n",
      " '/Users/chinmay/Desktop/Projects/Finals/train/spleen/40070_85003_B_8_4.tif'\n",
      " '/Users/chinmay/Desktop/Projects/Finals/train/pancreas/40075_86364_A_1_3.tif'\n",
      " '/Users/chinmay/Desktop/Projects/Finals/train/small_intestine/40110_88954_A_4_2.tif'\n",
      " '/Users/chinmay/Desktop/Projects/Finals/train/pancreas/40057_86761_A_3_3.tif'\n",
      " '/Users/chinmay/Desktop/Projects/Finals/train/pancreas/40101_88202_A_1_3.tif'\n",
      " '/Users/chinmay/Desktop/Projects/Finals/train/liver/40090_88282_A_9_4.tif'\n",
      " '/Users/chinmay/Desktop/Projects/Finals/train/colon/40084_84728_A_8_3.tif'\n",
      " '/Users/chinmay/Desktop/Projects/Finals/train/lung 3/40090_88282_A_1_4.tif'\n",
      " '/Users/chinmay/Desktop/Projects/Finals/train/lymph_node/40126_85296_A_9_8.tif'\n",
      " '/Users/chinmay/Desktop/Projects/Finals/train/endometrium_2/40086_89217_B_2_3.tif'\n",
      " '/Users/chinmay/Desktop/Projects/Finals/train/endometrium_1/40086_89217_B_4_3.tif'\n",
      " '/Users/chinmay/Desktop/Projects/Finals/train/pancreas/40066_141607_A_1_3.tif'\n",
      " '/Users/chinmay/Desktop/Projects/Finals/train/skin_2/40118_84737_B_4_8.tif'\n",
      " '/Users/chinmay/Desktop/Projects/Finals/train/pancreas/40063_88048_A_1_3.tif'\n",
      " '/Users/chinmay/Desktop/Projects/Finals/train/kidney/40055_84642_A_9_5.tif'\n",
      " '/Users/chinmay/Desktop/Projects/Finals/train/colon/40101_88202_A_7_3.tif'\n",
      " '/Users/chinmay/Desktop/Projects/Finals/train/endometrium_1/40090_88282_B_5_3.tif'\n",
      " '/Users/chinmay/Desktop/Projects/Finals/train/small_intestine/40119_88286_A_4_2.tif'\n",
      " '/Users/chinmay/Desktop/Projects/Finals/train/liver/40071_95769_A_9_4.tif'\n",
      " '/Users/chinmay/Desktop/Projects/Finals/train/skin_2/40128_85100_B_4_8.tif'\n",
      " '/Users/chinmay/Desktop/Projects/Finals/train/skin_2/40154_89097_B_4_8.tif'\n",
      " '/Users/chinmay/Desktop/Projects/Finals/train/spleen/40118_84737_B_7_4.tif'\n",
      " '/Users/chinmay/Desktop/Projects/Finals/train/endometrium_1/40055_84411_B_6_3.tif'\n",
      " '/Users/chinmay/Desktop/Projects/Finals/train/pancreas/40086_89217_A_1_3.tif'\n",
      " '/Users/chinmay/Desktop/Projects/Finals/train/lung 3/40063_88048_A_1_4.tif'\n",
      " '/Users/chinmay/Desktop/Projects/Finals/train/colon/40051_87105_A_9_3.tif'\n",
      " '/Users/chinmay/Desktop/Projects/Finals/train/lymph_node/40111_90192_A_7_8.tif'\n",
      " '/Users/chinmay/Desktop/Projects/Finals/train/skin_1/40118_84737_B_7_1.tif'\n",
      " '/Users/chinmay/Desktop/Projects/Finals/train/lung 3/40065_96284_A_3_4.tif'\n",
      " '/Users/chinmay/Desktop/Projects/Finals/train/small_intestine/40088_87867_A_5_2.tif'\n",
      " '/Users/chinmay/Desktop/Projects/Finals/train/endometrium_1/40134_97237_B_4_3.tif'\n",
      " '/Users/chinmay/Desktop/Projects/Finals/train/liver/40082_86041_A_8_4.tif'\n",
      " '/Users/chinmay/Desktop/Projects/Finals/train/skin_2/40086_89217_B_6_8.tif'\n",
      " '/Users/chinmay/Desktop/Projects/Finals/train/colon/40143_160046_A_7_3.tif'\n",
      " '/Users/chinmay/Desktop/Projects/Finals/train/lymph_node/40098_90797_A_7_8.tif'\n",
      " '/Users/chinmay/Desktop/Projects/Finals/train/lymph_node/40145_126560_A_7_8.tif'\n",
      " '/Users/chinmay/Desktop/Projects/Finals/train/pancreas/40120_85744_A_2_3.tif'\n",
      " '/Users/chinmay/Desktop/Projects/Finals/train/spleen/40057_86761_B_8_4.tif'\n",
      " '/Users/chinmay/Desktop/Projects/Finals/train/endometrium_2/40088_87867_B_1_3.tif'\n",
      " '/Users/chinmay/Desktop/Projects/Finals/train/skin_1/40092_85426_B_7_1.tif'\n",
      " '/Users/chinmay/Desktop/Projects/Finals/train/lung 3/40048_84862_A_2_4.tif'\n",
      " '/Users/chinmay/Desktop/Projects/Finals/train/kidney/40098_90797_A_8_5.tif'\n",
      " '/Users/chinmay/Desktop/Projects/Finals/train/spleen/40090_88282_B_7_4.tif'\n",
      " '/Users/chinmay/Desktop/Projects/Finals/train/liver/40057_86761_A_7_4.tif'\n",
      " '/Users/chinmay/Desktop/Projects/Finals/train/spleen/40119_88286_B_7_4.tif'\n",
      " '/Users/chinmay/Desktop/Projects/Finals/train/endometrium_2/40098_90797_B_3_3.tif'\n",
      " '/Users/chinmay/Desktop/Projects/Finals/train/liver/40063_88048_A_8_4.tif'\n",
      " '/Users/chinmay/Desktop/Projects/Finals/train/spleen/40071_95769_B_9_4.tif'\n",
      " '/Users/chinmay/Desktop/Projects/Finals/train/kidney/40064_95300_A_8_5.tif'\n",
      " '/Users/chinmay/Desktop/Projects/Finals/train/lymph_node/40072_106264_A_7_8.tif'\n",
      " '/Users/chinmay/Desktop/Projects/Finals/train/pancreas/40075_86364_A_2_3.tif'\n",
      " '/Users/chinmay/Desktop/Projects/Finals/train/small_intestine/40090_88282_A_4_2.tif'\n",
      " '/Users/chinmay/Desktop/Projects/Finals/train/endometrium_1/40090_88282_B_6_3.tif'\n",
      " '/Users/chinmay/Desktop/Projects/Finals/train/skin_1/40086_89217_B_7_1.tif'\n",
      " '/Users/chinmay/Desktop/Projects/Finals/train/skin_2/40065_96284_B_4_8.tif'\n",
      " '/Users/chinmay/Desktop/Projects/Finals/train/endometrium_1/40120_85744_B_4_3.tif'\n",
      " '/Users/chinmay/Desktop/Projects/Finals/train/kidney/40057_86761_A_8_5.tif'\n",
      " '/Users/chinmay/Desktop/Projects/Finals/train/skin_2/40128_85100_B_6_8.tif'\n",
      " '/Users/chinmay/Desktop/Projects/Finals/train/endometrium_2/40134_97237_B_3_3.tif'\n",
      " '/Users/chinmay/Desktop/Projects/Finals/train/skin_2/40145_126560_B_6_8.tif'\n",
      " '/Users/chinmay/Desktop/Projects/Finals/train/colon/40071_95769_A_9_3.tif'\n",
      " '/Users/chinmay/Desktop/Projects/Finals/train/skin_2/40126_85296_B_4_8.tif'\n",
      " '/Users/chinmay/Desktop/Projects/Finals/train/kidney/40082_86041_A_9_5.tif'\n",
      " '/Users/chinmay/Desktop/Projects/Finals/train/lymph_node/40118_84737_A_9_8.tif'\n",
      " '/Users/chinmay/Desktop/Projects/Finals/train/colon/40067_100847_A_8_3.tif'\n",
      " '/Users/chinmay/Desktop/Projects/Finals/train/liver/40052_130536_A_8_4.tif'\n",
      " '/Users/chinmay/Desktop/Projects/Finals/train/spleen/40072_106264_B_7_4.tif'\n",
      " '/Users/chinmay/Desktop/Projects/Finals/train/skin_2/40126_85296_B_6_8.tif'\n",
      " '/Users/chinmay/Desktop/Projects/Finals/train/endometrium_1/40067_100847_B_5_3.tif'\n",
      " '/Users/chinmay/Desktop/Projects/Finals/train/spleen/40064_95300_B_8_4.tif'\n",
      " '/Users/chinmay/Desktop/Projects/Finals/train/skin_2/40064_95300_B_5_8.tif'\n",
      " '/Users/chinmay/Desktop/Projects/Finals/train/spleen/40088_87867_B_7_4.tif'\n",
      " '/Users/chinmay/Desktop/Projects/Finals/train/kidney/40111_90192_A_9_5.tif'\n",
      " '/Users/chinmay/Desktop/Projects/Finals/train/lung 3/40084_84728_A_2_4.tif'\n",
      " '/Users/chinmay/Desktop/Projects/Finals/train/pancreas/40071_95769_A_1_3.tif'\n",
      " '/Users/chinmay/Desktop/Projects/Finals/train/lung 3/40082_86041_A_3_4.tif'\n",
      " '/Users/chinmay/Desktop/Projects/Finals/train/liver/40061_85040_A_9_4.tif'\n",
      " '/Users/chinmay/Desktop/Projects/Finals/train/pancreas/40084_84728_A_2_3.tif'\n",
      " '/Users/chinmay/Desktop/Projects/Finals/train/small_intestine/40101_88202_A_5_2.tif'\n",
      " '/Users/chinmay/Desktop/Projects/Finals/train/colon/40110_88954_A_8_3.tif'\n",
      " '/Users/chinmay/Desktop/Projects/Finals/train/lung 3/40075_86364_A_2_4.tif'\n",
      " '/Users/chinmay/Desktop/Projects/Finals/train/liver/40066_141607_A_9_4.tif'\n",
      " '/Users/chinmay/Desktop/Projects/Finals/train/endometrium_1/40118_84737_B_5_3.tif'\n",
      " '/Users/chinmay/Desktop/Projects/Finals/train/endometrium_1/40088_87867_B_5_3.tif'\n",
      " '/Users/chinmay/Desktop/Projects/Finals/train/lung 3/40046_142250_A_2_4.tif'\n",
      " '/Users/chinmay/Desktop/Projects/Finals/train/lymph_node/40066_141607_A_9_8.tif'\n",
      " '/Users/chinmay/Desktop/Projects/Finals/train/lymph_node/40063_88048_A_9_8.tif'\n",
      " '/Users/chinmay/Desktop/Projects/Finals/train/endometrium_1/40111_90192_B_5_3.tif'\n",
      " '/Users/chinmay/Desktop/Projects/Finals/train/kidney/40090_88282_A_8_5.tif'\n",
      " '/Users/chinmay/Desktop/Projects/Finals/train/lung 3/40065_96284_A_2_4.tif'\n",
      " '/Users/chinmay/Desktop/Projects/Finals/train/small_intestine/40126_85296_A_6_2.tif'\n",
      " '/Users/chinmay/Desktop/Projects/Finals/train/colon/40087_95048_A_8_3.tif'\n",
      " '/Users/chinmay/Desktop/Projects/Finals/train/endometrium_1/40128_85100_B_6_3.tif'\n",
      " '/Users/chinmay/Desktop/Projects/Finals/train/liver/40072_106264_A_9_4.tif'\n",
      " '/Users/chinmay/Desktop/Projects/Finals/train/small_intestine/40061_85040_A_6_2.tif'\n",
      " '/Users/chinmay/Desktop/Projects/Finals/train/colon/40111_90192_A_8_3.tif'\n",
      " '/Users/chinmay/Desktop/Projects/Finals/train/lung 3/40061_85040_A_3_4.tif'\n",
      " '/Users/chinmay/Desktop/Projects/Finals/train/liver/40125_164309_A_8_4.tif'\n",
      " '/Users/chinmay/Desktop/Projects/Finals/train/endometrium_2/40128_85100_B_3_3.tif'\n",
      " '/Users/chinmay/Desktop/Projects/Finals/train/colon/40061_85040_A_9_3.tif'\n",
      " '/Users/chinmay/Desktop/Projects/Finals/train/skin_2/40098_90797_B_4_8.tif'\n",
      " '/Users/chinmay/Desktop/Projects/Finals/train/lung 3/40118_84737_A_2_4.tif'\n",
      " '/Users/chinmay/Desktop/Projects/Finals/train/kidney/40048_84862_A_9_5.tif'\n",
      " '/Users/chinmay/Desktop/Projects/Finals/train/kidney/40052_130536_A_7_5.tif'\n",
      " '/Users/chinmay/Desktop/Projects/Finals/train/small_intestine/40072_106264_A_4_2.tif'\n",
      " '/Users/chinmay/Desktop/Projects/Finals/train/kidney/40065_96284_A_8_5.tif'\n",
      " '/Users/chinmay/Desktop/Projects/Finals/train/pancreas/40063_88048_A_3_3.tif'\n",
      " '/Users/chinmay/Desktop/Projects/Finals/train/small_intestine/40072_106264_A_6_2.tif'\n",
      " '/Users/chinmay/Desktop/Projects/Finals/train/lymph_node/40064_95300_A_8_8.tif'\n",
      " '/Users/chinmay/Desktop/Projects/Finals/train/spleen/40075_86364_B_8_4.tif'\n",
      " '/Users/chinmay/Desktop/Projects/Finals/train/liver/40120_85744_A_7_4.tif'\n",
      " '/Users/chinmay/Desktop/Projects/Finals/train/small_intestine/40087_95048_A_6_2.tif'\n",
      " '/Users/chinmay/Desktop/Projects/Finals/train/kidney/40066_141607_A_7_5.tif'\n",
      " '/Users/chinmay/Desktop/Projects/Finals/train/skin_2/40048_84862_B_4_8.tif'\n",
      " '/Users/chinmay/Desktop/Projects/Finals/train/colon/40075_86364_A_7_3.tif'\n",
      " '/Users/chinmay/Desktop/Projects/Finals/train/liver/40075_86364_A_9_4.tif'\n",
      " '/Users/chinmay/Desktop/Projects/Finals/train/endometrium_1/40086_89217_B_6_3.tif'\n",
      " '/Users/chinmay/Desktop/Projects/Finals/train/lung 3/40052_130536_A_2_4.tif'\n",
      " '/Users/chinmay/Desktop/Projects/Finals/train/kidney/40084_84728_A_8_5.tif'\n",
      " '/Users/chinmay/Desktop/Projects/Finals/train/skin_2/40143_160046_B_6_8.tif'\n",
      " '/Users/chinmay/Desktop/Projects/Finals/train/skin_2/40087_95048_B_5_8.tif'\n",
      " '/Users/chinmay/Desktop/Projects/Finals/train/lymph_node/40088_87867_A_7_8.tif'\n",
      " '/Users/chinmay/Desktop/Projects/Finals/train/endometrium_1/40070_85003_B_4_3.tif'\n",
      " '/Users/chinmay/Desktop/Projects/Finals/train/pancreas/40120_85744_A_1_3.tif'\n",
      " '/Users/chinmay/Desktop/Projects/Finals/train/kidney/40120_85744_A_9_5.tif'\n",
      " '/Users/chinmay/Desktop/Projects/Finals/train/colon/40092_85426_A_9_3.tif'\n",
      " '/Users/chinmay/Desktop/Projects/Finals/train/spleen/40051_87105_B_8_4.tif'\n",
      " '/Users/chinmay/Desktop/Projects/Finals/train/liver/40065_96284_A_8_4.tif'\n",
      " '/Users/chinmay/Desktop/Projects/Finals/train/endometrium_2/40057_86761_B_1_3.tif'\n",
      " '/Users/chinmay/Desktop/Projects/Finals/train/pancreas/40064_95300_A_1_3.tif'\n",
      " '/Users/chinmay/Desktop/Projects/Finals/train/pancreas/40057_86761_A_2_3.tif'\n",
      " '/Users/chinmay/Desktop/Projects/Finals/train/liver/40110_88954_A_9_4.tif'\n",
      " '/Users/chinmay/Desktop/Projects/Finals/train/lung 3/40070_85003_A_3_4.tif'\n",
      " '/Users/chinmay/Desktop/Projects/Finals/train/lymph_node/40126_85296_A_7_8.tif'\n",
      " '/Users/chinmay/Desktop/Projects/Finals/train/pancreas/40110_88954_A_2_3.tif'\n",
      " '/Users/chinmay/Desktop/Projects/Finals/train/skin_1/40147_86691_B_7_1.tif'\n",
      " '/Users/chinmay/Desktop/Projects/Finals/train/liver/40046_142250_A_9_4.tif'\n",
      " '/Users/chinmay/Desktop/Projects/Finals/train/endometrium_1/40052_130536_B_6_3.tif'\n",
      " '/Users/chinmay/Desktop/Projects/Finals/train/skin_2/40057_86761_B_6_8.tif'\n",
      " '/Users/chinmay/Desktop/Projects/Finals/train/endometrium_1/40070_85003_B_6_3.tif'\n",
      " '/Users/chinmay/Desktop/Projects/Finals/train/endometrium_2/40120_85744_B_2_3.tif'\n",
      " '/Users/chinmay/Desktop/Projects/Finals/train/small_intestine/40098_90797_A_6_2.tif'\n",
      " '/Users/chinmay/Desktop/Projects/Finals/train/colon/40090_88282_A_8_3.tif'\n",
      " '/Users/chinmay/Desktop/Projects/Finals/train/pancreas/40066_141607_A_3_3.tif'\n",
      " '/Users/chinmay/Desktop/Projects/Finals/train/skin_2/40084_84728_B_5_8.tif'\n",
      " '/Users/chinmay/Desktop/Projects/Finals/train/endometrium_2/40086_89217_B_3_3.tif'\n",
      " '/Users/chinmay/Desktop/Projects/Finals/train/endometrium_1/40075_86364_B_6_3.tif'\n",
      " '/Users/chinmay/Desktop/Projects/Finals/train/endometrium_1/40101_88202_B_6_3.tif'\n",
      " '/Users/chinmay/Desktop/Projects/Finals/train/pancreas/40052_130536_A_3_3.tif'\n",
      " '/Users/chinmay/Desktop/Projects/Finals/train/endometrium_1/40119_88286_B_5_3.tif'\n",
      " '/Users/chinmay/Desktop/Projects/Finals/train/skin_1/40150_106251_B_7_1.tif'\n",
      " '/Users/chinmay/Desktop/Projects/Finals/train/small_intestine/40086_89217_A_4_2.tif'\n",
      " '/Users/chinmay/Desktop/Projects/Finals/train/lung 3/40052_130536_A_3_4.tif'\n",
      " '/Users/chinmay/Desktop/Projects/Finals/train/kidney/40072_106264_A_7_5.tif'\n",
      " '/Users/chinmay/Desktop/Projects/Finals/train/small_intestine/40061_85040_A_4_2.tif'\n",
      " '/Users/chinmay/Desktop/Projects/Finals/train/endometrium_1/40128_85100_B_4_3.tif'\n",
      " '/Users/chinmay/Desktop/Projects/Finals/train/endometrium_2/40064_95300_B_3_3.tif'\n",
      " '/Users/chinmay/Desktop/Projects/Finals/train/small_intestine/40063_88048_A_4_2.tif'\n",
      " '/Users/chinmay/Desktop/Projects/Finals/train/skin_2/40082_86041_B_6_8.tif'\n",
      " '/Users/chinmay/Desktop/Projects/Finals/train/colon/40143_160046_A_9_3.tif'\n",
      " '/Users/chinmay/Desktop/Projects/Finals/train/kidney/40111_90192_A_7_5.tif'\n",
      " '/Users/chinmay/Desktop/Projects/Finals/train/pancreas/40125_164309_A_3_3.tif'\n",
      " '/Users/chinmay/Desktop/Projects/Finals/train/endometrium_1/40082_86041_B_4_3.tif'\n",
      " '/Users/chinmay/Desktop/Projects/Finals/train/colon/40126_85296_A_8_3.tif'\n",
      " '/Users/chinmay/Desktop/Projects/Finals/train/lymph_node/40125_164309_A_7_8.tif'\n",
      " '/Users/chinmay/Desktop/Projects/Finals/train/endometrium_1/40061_85040_B_4_3.tif'\n",
      " '/Users/chinmay/Desktop/Projects/Finals/train/colon/40075_86364_A_8_3.tif'\n",
      " '/Users/chinmay/Desktop/Projects/Finals/train/lymph_node/40120_85744_A_9_8.tif'\n",
      " '/Users/chinmay/Desktop/Projects/Finals/train/lymph_node/40134_97237_A_9_8.tif'\n",
      " '/Users/chinmay/Desktop/Projects/Finals/train/skin_1/40128_85100_B_7_1.tif'\n",
      " '/Users/chinmay/Desktop/Projects/Finals/train/lung 3/40119_88286_A_3_4.tif'\n",
      " '/Users/chinmay/Desktop/Projects/Finals/train/endometrium_2/40140_85634_B_3_3.tif'\n",
      " '/Users/chinmay/Desktop/Projects/Finals/train/colon/40066_141607_A_9_3.tif'\n",
      " '/Users/chinmay/Desktop/Projects/Finals/train/lung 3/40110_88954_A_3_4.tif'\n",
      " '/Users/chinmay/Desktop/Projects/Finals/train/spleen/40070_85003_B_9_4.tif'\n",
      " '/Users/chinmay/Desktop/Projects/Finals/train/pancreas/40055_84642_A_2_3.tif'\n",
      " '/Users/chinmay/Desktop/Projects/Finals/train/pancreas/40055_84642_A_3_3.tif'\n",
      " '/Users/chinmay/Desktop/Projects/Finals/train/liver/40084_84728_A_7_4.tif'\n",
      " '/Users/chinmay/Desktop/Projects/Finals/train/colon/40119_88286_A_8_3.tif'\n",
      " '/Users/chinmay/Desktop/Projects/Finals/train/endometrium_1/40101_88202_B_5_3.tif'\n",
      " '/Users/chinmay/Desktop/Projects/Finals/train/skin_1/40119_88286_B_7_1.tif'\n",
      " '/Users/chinmay/Desktop/Projects/Finals/train/lymph_node/40101_88202_A_8_8.tif'\n",
      " '/Users/chinmay/Desktop/Projects/Finals/train/liver/40055_84642_A_8_4.tif'\n",
      " '/Users/chinmay/Desktop/Projects/Finals/train/endometrium_2/40087_95048_B_3_3.tif'\n",
      " '/Users/chinmay/Desktop/Projects/Finals/train/colon/40063_88048_A_8_3.tif'\n",
      " '/Users/chinmay/Desktop/Projects/Finals/train/lymph_node/40075_86364_A_8_8.tif'\n",
      " '/Users/chinmay/Desktop/Projects/Finals/train/liver/40119_88286_A_9_4.tif'\n",
      " '/Users/chinmay/Desktop/Projects/Finals/train/kidney/40090_88282_A_9_5.tif'\n",
      " '/Users/chinmay/Desktop/Projects/Finals/train/skin_2/40088_87867_B_5_8.tif'\n",
      " '/Users/chinmay/Desktop/Projects/Finals/train/spleen/40064_95300_B_7_4.tif'\n",
      " '/Users/chinmay/Desktop/Projects/Finals/train/skin_2/40157_87746_B_4_8.tif'\n",
      " '/Users/chinmay/Desktop/Projects/Finals/train/small_intestine/40084_84728_A_5_2.tif'\n",
      " '/Users/chinmay/Desktop/Projects/Finals/train/skin_2/40118_84737_B_5_8.tif'\n",
      " '/Users/chinmay/Desktop/Projects/Finals/train/small_intestine/40128_85100_A_5_2.tif'\n",
      " '/Users/chinmay/Desktop/Projects/Finals/train/small_intestine/40134_97237_A_6_2.tif'\n",
      " '/Users/chinmay/Desktop/Projects/Finals/train/small_intestine/40088_87867_A_4_2.tif'\n",
      " '/Users/chinmay/Desktop/Projects/Finals/train/colon/40082_86041_A_9_3.tif'\n",
      " '/Users/chinmay/Desktop/Projects/Finals/train/endometrium_2/40128_85100_B_2_3.tif'\n",
      " '/Users/chinmay/Desktop/Projects/Finals/train/lung 3/40087_95048_A_2_4.tif'\n",
      " '/Users/chinmay/Desktop/Projects/Finals/train/lung 3/40072_106264_A_1_4.tif'\n",
      " '/Users/chinmay/Desktop/Projects/Finals/train/spleen/40048_84862_B_8_4.tif'\n",
      " '/Users/chinmay/Desktop/Projects/Finals/train/skin_1/40118_84737_B_8_1.tif'\n",
      " '/Users/chinmay/Desktop/Projects/Finals/train/skin_1/40126_85296_B_7_1.tif'\n",
      " '/Users/chinmay/Desktop/Projects/Finals/train/skin_1/40125_164309_B_7_1.tif'\n",
      " '/Users/chinmay/Desktop/Projects/Finals/train/skin_2/40045_97686_B_6_8.tif'\n",
      " '/Users/chinmay/Desktop/Projects/Finals/train/kidney/40052_130536_A_9_5.tif'\n",
      " '/Users/chinmay/Desktop/Projects/Finals/train/lymph_node/40084_84728_A_7_8.tif'\n",
      " '/Users/chinmay/Desktop/Projects/Finals/train/lymph_node/40118_84737_A_7_8.tif'\n",
      " '/Users/chinmay/Desktop/Projects/Finals/train/spleen/40075_86364_B_9_4.tif'\n",
      " '/Users/chinmay/Desktop/Projects/Finals/train/endometrium_2/40084_84728_B_1_3.tif'\n",
      " '/Users/chinmay/Desktop/Projects/Finals/train/skin_1/40101_88202_B_7_1.tif'\n",
      " '/Users/chinmay/Desktop/Projects/Finals/train/endometrium_1/40087_95048_B_6_3.tif'\n",
      " '/Users/chinmay/Desktop/Projects/Finals/train/skin_2/40140_85634_B_5_8.tif'\n",
      " '/Users/chinmay/Desktop/Projects/Finals/train/kidney/40119_88286_A_8_5.tif'\n",
      " '/Users/chinmay/Desktop/Projects/Finals/train/endometrium_2/40067_100847_B_1_3.tif'\n",
      " '/Users/chinmay/Desktop/Projects/Finals/train/pancreas/40063_88048_A_2_3.tif'\n",
      " '/Users/chinmay/Desktop/Projects/Finals/train/lung 3/40101_88202_A_1_4.tif'\n",
      " '/Users/chinmay/Desktop/Projects/Finals/train/lymph_node/40070_85003_A_8_8.tif'\n",
      " '/Users/chinmay/Desktop/Projects/Finals/train/endometrium_2/40045_97686_B_1_3.tif'\n",
      " '/Users/chinmay/Desktop/Projects/Finals/train/endometrium_1/40086_89217_B_5_3.tif'\n",
      " '/Users/chinmay/Desktop/Projects/Finals/train/spleen/40070_85003_B_7_4.tif'\n",
      " '/Users/chinmay/Desktop/Projects/Finals/train/spleen/40071_95769_B_8_4.tif'\n",
      " '/Users/chinmay/Desktop/Projects/Finals/train/lung 3/40043_94144_A_1_4.tif'\n",
      " '/Users/chinmay/Desktop/Projects/Finals/train/skin_1/40086_89217_B_8_1.tif'\n",
      " '/Users/chinmay/Desktop/Projects/Finals/train/spleen/40111_90192_B_9_4.tif'\n",
      " '/Users/chinmay/Desktop/Projects/Finals/train/lymph_node/40110_88954_A_7_8.tif'\n",
      " '/Users/chinmay/Desktop/Projects/Finals/train/endometrium_1/40064_95300_B_5_3.tif'\n",
      " '/Users/chinmay/Desktop/Projects/Finals/train/kidney/40101_88202_A_8_5.tif'\n",
      " '/Users/chinmay/Desktop/Projects/Finals/train/kidney/40087_95048_A_7_5.tif'\n",
      " '/Users/chinmay/Desktop/Projects/Finals/train/endometrium_2/40088_87867_B_3_3.tif'\n",
      " '/Users/chinmay/Desktop/Projects/Finals/train/liver/40064_95300_A_9_4.tif'\n",
      " '/Users/chinmay/Desktop/Projects/Finals/train/colon/40052_130536_A_7_3.tif'\n",
      " '/Users/chinmay/Desktop/Projects/Finals/train/skin_2/40128_85100_B_5_8.tif'\n",
      " '/Users/chinmay/Desktop/Projects/Finals/train/skin_2/40119_88286_B_4_8.tif'\n",
      " '/Users/chinmay/Desktop/Projects/Finals/train/pancreas/40119_88286_A_1_3.tif'\n",
      " '/Users/chinmay/Desktop/Projects/Finals/train/skin_1/40072_106264_B_8_1.tif'\n",
      " '/Users/chinmay/Desktop/Projects/Finals/train/skin_2/40145_126560_B_5_8.tif'\n",
      " '/Users/chinmay/Desktop/Projects/Finals/train/small_intestine/40087_95048_A_4_2.tif'\n",
      " '/Users/chinmay/Desktop/Projects/Finals/train/spleen/40087_95048_B_9_4.tif'\n",
      " '/Users/chinmay/Desktop/Projects/Finals/train/lymph_node/40070_85003_A_7_8.tif'\n",
      " '/Users/chinmay/Desktop/Projects/Finals/train/skin_1/40147_86691_B_9_1.tif']\n",
      "[ 5.  9. 10.  3.  8. 10. 10. 10.  8.  7. 11.  8. 11.  6.  8. 11.  2.  3.\n",
      "  3. 11. 10.  4. 10.  4.  7.  3.  1.  7.  1.  4.  5.  6.  2.  3.  4.  3.\n",
      "  6.  8. 11.  0.  1.  5.  3.  0.  8.  3.  7. 10.  0.  0.  6.  2.  4. 11.\n",
      "  5. 11.  5. 10.  4.  4.  8. 11. 11.  4.  2.  6.  1.  9.  4.  8.  5.  6.\n",
      "  6.  6. 11.  2.  3.  0.  0. 10.  7.  9. 11.  5. 11.  6.  4.  6.  5.  7.\n",
      "  4. 11.  9. 10.  6.  9.  7.  6.  0.  1. 10.  2.  1.  1.  2.  3.  9.  1.\n",
      "  2.  0.  0.  9.  6.  4.  2.  0.  0. 11.  1.  3.  2.  2.  6.  4. 11.  3.\n",
      "  0.  8. 11.  3.  7.  9. 10.  1.  8.  9.  0.  0.  7. 10.  6. 11.  3.  5.\n",
      "  2. 10.  1.  6.  7.  0.  9. 10.  9. 11.  4.  7.  9.  2.  6.  9.  6.  3.\n",
      "  0.  8.  0.  3.  9.  2.  5.  6.  4.  9.  6.  4.  5.  1. 10.  8.  1. 10.\n",
      "  6.  0.  9.  2.  9.  5.  2.  8.  7.  3.  5.  8.  5.  2. 10.  1.  5.  6.\n",
      "  3.  1. 11.  4.  5.  6.  4.  1.  3.  6.  0. 11.  2.  3.  7.  8.  8.  1.\n",
      "  3.  1.  0.  1.  8.  7.  2.  2.  4.  3.  6.  3.  6.  0. 10.  7.  2. 10.\n",
      "  5.  3.  8.  3.  1.  3.  8.  2.  5.  4.  2.  1. 10.  2.  3. 10.  9.  1.\n",
      "  8.  4.  4.  1.  5.  5.  4.  3. 10.  8.  7.  2.  2.  6.  7. 11.  7.  3.\n",
      "  8. 10.  8.  3.  6.  6.  8.  4. 11.  0.  0.  3.  8. 10.  9.  5.  6.  5.\n",
      "  2.  7.  1. 11.  2. 11.  5.  4.  2. 10. 11.  8.  5.  7.  4.  8.  5.  1.\n",
      "  3. 11.  4.  3.  3.  0.  8.  9.  2. 11.  2.  1.  6. 11.  1.  4.  4.  3.\n",
      "  7. 10.  9.  0. 11.  0.  9.  6.  1.  3.  9.  4. 11.  4.  7.  1. 11.  8.\n",
      "  0. 10. 11.  0.  9.  2.  1. 11. 10.  8. 10.  8.  0. 11.  9.  8.  8.  1.\n",
      "  6.  9.  0.  5.  5.  7. 10. 11.  7.  1.  7.  7.  2. 11.  8.  6.  3.  1.\n",
      "  6.  3.  1.  6.  4. 10. 10.  4.  5.  6.  6.  3.  7.  9.  1.  5.  5. 10.\n",
      "  4.  0.  0.  0.  9. 11.  3.  4.  0.  6.  9.  4.  9.  7.  2.  5.  5.  2.\n",
      "  8.  7.  7.  6.  3.  5.  6.  4.  7. 11.  9. 10.  9.  8.  8.  3.  4.  0.\n",
      "  4. 11.  0.  8.  3.  3.  0. 11.  2. 11.  2.  4.  2.  9.  6.  9.  1. 10.\n",
      "  3.  0.  0.  9.  2.  9. 10.  0.  6. 10. 11.  5.  8.  1.  3.  5.  4.  2.\n",
      "  6.  8.  8.  1.  7.  2.  7. 10.  8.  1.  5.  0.  9.  0.  1.  8.  9.  2.\n",
      "  1.  8. 10.  0.  2.  6.  5.  2.  6.  5.  2.  7.  2.  7.  5.  6.  9.  1.\n",
      "  7.  5.  9.  7.  1.  4.  2. 10.  1.  4.  4. 11.  0.  4.  9.  7. 11.  5.\n",
      "  7. 11. 11.  3.  5.  9. 11.  5. 10.  9.  0.  9.  6.  4. 10.  5.  0.  4.\n",
      "  4.  1.  7.  9.  9.  3.  7.  8.  4.  8.  8.  8.  7.  9.  1.  6.  8. 10.\n",
      "  7.  5.  8.  1. 10.  2.  5.  3.  9. 11.  6.  4. 11.  0.  0.  6.  7.  7.\n",
      "  9.  0. 10.  5.  9.  2.  8.  8.  1.  7. 10.  8. 11.  4.  3.  4.  2. 10.\n",
      "  5.  1.  7.  3.  2.  5.  6. 11.  1.  7. 11.  2.  5.  3.  7.  4.  8.  7.\n",
      "  2. 11. 10. 10.  3.  1.  9.  9.  8.  2.  5. 10.  8. 11.  5.  8.  0. 10.\n",
      " 10.  0.  1.  4.  2.  8.  3. 11.  2.  2. 11.  5.  4. 10. 10.  9.  6.  8.\n",
      "  0.  2.  6.  7.  5.  1. 10.  3.  1.  8. 10.  8.  9.  0. 11. 10.  6.  1.\n",
      "  6.  0.  0.  1.  5.  1.  2.  0.  8.  5.  3.  2.  3.  0.  2.  2.  4. 11.\n",
      "  9.  7.  5.  4. 10.  3.  8.  2.  1.  4.  3. 10.  0.  7.  3.  5.  9.  0.\n",
      "  4.  7.  7.  4.  0.  4.  5.  4.  6.  2.  3.  3.  6.  2. 11. 11.  3.  2.\n",
      "  6.  8.  4.  9.  3.  8.  0.  4.  8.  2.  5.  7.  2.  6.  7.  5. 11.  7.\n",
      "  0. 11.  7. 10.  7.  7.  4.  0.  5.  6.  2.  1.  7.  9.  7.  3.  0.  1.\n",
      " 10.  4.  9.  9. 11.  1.  7.  5.  0.  6.  8.  5. 10.  1.  4.  9.  0.  6.\n",
      "  6.  7. 11.  2.  8.  5.  3. 11.  4. 11.  2.  4. 11.  3.  6.  7. 10.  1.\n",
      "  8.  9.  1.  3.  9.  2.  9.  0.  9.  3.  6.  0.  4. 11.  9.  1. 11.  9.\n",
      " 11.  3.  5.  7.  5.  4.  7. 10.  0.  5.  4.  1.  1.  5.  6.  6.  1.  3.\n",
      "  5. 10.  0.  1.  4. 10.  0.  5.  4.  2.  0.  9.  5.  3.  3. 10.  3.  7.\n",
      " 10.  6. 11.  4. 10.  3.  9.  0.  4.  1.  5.  3.  9.  9.  6.  1.  7.  3.\n",
      "  0. 11.  4.  2.  7.  7.  4.  5.  6.  7.  8.  4.  1.  9.  1.  2. 10.  0.\n",
      "  7.  9.  2.  1.  1.  7.  1.  8. 10.  5.  3. 10.  1.  2. 10.  9.  0.  3.\n",
      "  7.  1.  0.  6.  1.  0.  6.  6.  8.  5.  2.  0.  5. 11.  7.  7.  4.  0.\n",
      "  1.  8.  6.  4.  2.  0.  6.  4.  3.  9. 11.  9. 10.  9. 10. 10. 10.  0.\n",
      "  2.  5.  5. 11.  8.  8.  8.  9.  3.  6.  6. 11.  2.  8.  1.  9.  3.  2.\n",
      "  7.  5.  6.  2.  1. 11. 11.  5.  8. 11.  6.  1.  3.  3.  2.  4.  0.  9.\n",
      "  9.  7.  8.  9. 10. 11.  6.  8.]\n"
     ]
    }
   ],
   "source": [
    "# read the data.csv file and get the image paths and labels\n",
    "df = pd.read_csv('/Users/chinmay/Desktop/Projects/Finals/train/data.csv')\n",
    "X = df.image_path.values\n",
    "y = df.target.values\n",
    "print(X)\n",
    "print(y)"
   ]
  },
  {
   "cell_type": "code",
   "execution_count": 22,
   "id": "57939cf9",
   "metadata": {},
   "outputs": [],
   "source": [
    "(xtrain, xtest, ytrain, ytest) = (train_test_split(X, y, \n",
    "                                test_size=0.25, random_state=42))"
   ]
  },
  {
   "cell_type": "markdown",
   "id": "ac1edd15",
   "metadata": {},
   "source": [
    "#### Creating the Dataset Module (APPLYING DATA RESIZING AND NORMALIZING)"
   ]
  },
  {
   "cell_type": "markdown",
   "id": "00ec187d",
   "metadata": {},
   "source": [
    "1. As we only have around 1000 training images in our dataset, therefore we will employ image augmentation using the albumentations package. \n",
    "2. Along with that we will also be using pretrained ResNet-50 model so that we can get better performance on such small dataset."
   ]
  },
  {
   "cell_type": "code",
   "execution_count": 23,
   "id": "ae64b74f",
   "metadata": {},
   "outputs": [],
   "source": [
    "class NaturalImageDataset(Dataset):\n",
    "    def __init__(self, path, labels, tfms=None):\n",
    "        self.X = path\n",
    "        self.y = labels\n",
    "        # apply augmentations\n",
    "        if tfms == 0: # if validating\n",
    "            self.aug = albumentations.Compose([\n",
    "                albumentations.Resize(224, 224, always_apply=True),\n",
    "                albumentations.Normalize(mean=[0.485, 0.456, 0.406],\n",
    "                          std=[0.229, 0.224, 0.225], always_apply=True)\n",
    "            ])\n",
    "        else: # if training\n",
    "            self.aug = albumentations.Compose([\n",
    "                albumentations.Resize(224, 224, always_apply=True),\n",
    "                albumentations.HorizontalFlip(p=1.0),\n",
    "                albumentations.ShiftScaleRotate(\n",
    "                    shift_limit=0.3,\n",
    "                    scale_limit=0.3,\n",
    "                    rotate_limit=30,\n",
    "                    p=1.0\n",
    "                ),\n",
    "                albumentations.Normalize(mean=[0.485, 0.456, 0.406],\n",
    "                          std=[0.229, 0.224, 0.225], always_apply=True)\n",
    "            ])\n",
    "    def __len__(self):\n",
    "        return (len(self.X))\n",
    "    \n",
    "    def __getitem__(self, i):\n",
    "        image = Image.open(self.X[i])\n",
    "        image = self.aug(image=np.array(image))['image']\n",
    "        image = np.transpose(image, (2, 0, 1)).astype(np.float32)\n",
    "        label = self.y[i]\n",
    "        return torch.tensor(image, dtype=torch.float), torch.tensor(label, dtype=torch.long)"
   ]
  },
  {
   "cell_type": "markdown",
   "id": "cd58b81e",
   "metadata": {},
   "source": [
    "#### Creating the train_data and test_data."
   ]
  },
  {
   "cell_type": "code",
   "execution_count": 24,
   "id": "03ad950c",
   "metadata": {},
   "outputs": [],
   "source": [
    "train_data = NaturalImageDataset(xtrain, ytrain, tfms=1)\n",
    "test_data = NaturalImageDataset(xtest, ytest, tfms=0)"
   ]
  },
  {
   "cell_type": "markdown",
   "id": "13cd96ea",
   "metadata": {},
   "source": [
    "#### create the iterable data loader"
   ]
  },
  {
   "cell_type": "code",
   "execution_count": 25,
   "id": "909ca9ad",
   "metadata": {},
   "outputs": [],
   "source": [
    "\n",
    "# dataloaders\n",
    "trainloader = DataLoader(train_data, batch_size=32, shuffle=True)\n",
    "testloader = DataLoader(test_data, batch_size=32, shuffle=False)"
   ]
  },
  {
   "cell_type": "code",
   "execution_count": 26,
   "id": "86d71fa6",
   "metadata": {},
   "outputs": [
    {
     "name": "stdout",
     "output_type": "stream",
     "text": [
      "Loading label binarizer...\n"
     ]
    }
   ],
   "source": [
    "print('Loading label binarizer...')\n",
    "lb = joblib.load('/Users/chinmay/Desktop/Projects/Finals/outputs/lb.pkl')"
   ]
  },
  {
   "cell_type": "markdown",
   "id": "67e7302a",
   "metadata": {},
   "source": [
    "#### Defining the ResNet-50 Model"
   ]
  },
  {
   "cell_type": "markdown",
   "id": "b7001a63",
   "metadata": {},
   "source": [
    "1. Loading the ResNet-50 model with the ImageNet weights. \n",
    "2. Freezing the hidden layers. This will prevent from backpropagating the gradients of the hidden layers so that those weights do not change while training. \n",
    "3. Finally, we are fine-tuning the last classification layer of the ResNet-50 model"
   ]
  },
  {
   "cell_type": "code",
   "execution_count": 27,
   "id": "a6488a46",
   "metadata": {},
   "outputs": [
    {
     "name": "stdout",
     "output_type": "stream",
     "text": [
      "ResNet(\n",
      "  (conv1): Conv2d(3, 64, kernel_size=(7, 7), stride=(2, 2), padding=(3, 3), bias=False)\n",
      "  (bn1): BatchNorm2d(64, eps=1e-05, momentum=0.1, affine=True, track_running_stats=True)\n",
      "  (relu): ReLU(inplace=True)\n",
      "  (maxpool): MaxPool2d(kernel_size=3, stride=2, padding=1, dilation=1, ceil_mode=False)\n",
      "  (layer1): Sequential(\n",
      "    (0): Bottleneck(\n",
      "      (conv1): Conv2d(64, 64, kernel_size=(1, 1), stride=(1, 1), bias=False)\n",
      "      (bn1): BatchNorm2d(64, eps=1e-05, momentum=0.1, affine=True, track_running_stats=True)\n",
      "      (conv2): Conv2d(64, 64, kernel_size=(3, 3), stride=(1, 1), padding=(1, 1), bias=False)\n",
      "      (bn2): BatchNorm2d(64, eps=1e-05, momentum=0.1, affine=True, track_running_stats=True)\n",
      "      (conv3): Conv2d(64, 256, kernel_size=(1, 1), stride=(1, 1), bias=False)\n",
      "      (bn3): BatchNorm2d(256, eps=1e-05, momentum=0.1, affine=True, track_running_stats=True)\n",
      "      (relu): ReLU(inplace=True)\n",
      "      (downsample): Sequential(\n",
      "        (0): Conv2d(64, 256, kernel_size=(1, 1), stride=(1, 1), bias=False)\n",
      "        (1): BatchNorm2d(256, eps=1e-05, momentum=0.1, affine=True, track_running_stats=True)\n",
      "      )\n",
      "    )\n",
      "    (1): Bottleneck(\n",
      "      (conv1): Conv2d(256, 64, kernel_size=(1, 1), stride=(1, 1), bias=False)\n",
      "      (bn1): BatchNorm2d(64, eps=1e-05, momentum=0.1, affine=True, track_running_stats=True)\n",
      "      (conv2): Conv2d(64, 64, kernel_size=(3, 3), stride=(1, 1), padding=(1, 1), bias=False)\n",
      "      (bn2): BatchNorm2d(64, eps=1e-05, momentum=0.1, affine=True, track_running_stats=True)\n",
      "      (conv3): Conv2d(64, 256, kernel_size=(1, 1), stride=(1, 1), bias=False)\n",
      "      (bn3): BatchNorm2d(256, eps=1e-05, momentum=0.1, affine=True, track_running_stats=True)\n",
      "      (relu): ReLU(inplace=True)\n",
      "    )\n",
      "    (2): Bottleneck(\n",
      "      (conv1): Conv2d(256, 64, kernel_size=(1, 1), stride=(1, 1), bias=False)\n",
      "      (bn1): BatchNorm2d(64, eps=1e-05, momentum=0.1, affine=True, track_running_stats=True)\n",
      "      (conv2): Conv2d(64, 64, kernel_size=(3, 3), stride=(1, 1), padding=(1, 1), bias=False)\n",
      "      (bn2): BatchNorm2d(64, eps=1e-05, momentum=0.1, affine=True, track_running_stats=True)\n",
      "      (conv3): Conv2d(64, 256, kernel_size=(1, 1), stride=(1, 1), bias=False)\n",
      "      (bn3): BatchNorm2d(256, eps=1e-05, momentum=0.1, affine=True, track_running_stats=True)\n",
      "      (relu): ReLU(inplace=True)\n",
      "    )\n",
      "  )\n",
      "  (layer2): Sequential(\n",
      "    (0): Bottleneck(\n",
      "      (conv1): Conv2d(256, 128, kernel_size=(1, 1), stride=(1, 1), bias=False)\n",
      "      (bn1): BatchNorm2d(128, eps=1e-05, momentum=0.1, affine=True, track_running_stats=True)\n",
      "      (conv2): Conv2d(128, 128, kernel_size=(3, 3), stride=(2, 2), padding=(1, 1), bias=False)\n",
      "      (bn2): BatchNorm2d(128, eps=1e-05, momentum=0.1, affine=True, track_running_stats=True)\n",
      "      (conv3): Conv2d(128, 512, kernel_size=(1, 1), stride=(1, 1), bias=False)\n",
      "      (bn3): BatchNorm2d(512, eps=1e-05, momentum=0.1, affine=True, track_running_stats=True)\n",
      "      (relu): ReLU(inplace=True)\n",
      "      (downsample): Sequential(\n",
      "        (0): Conv2d(256, 512, kernel_size=(1, 1), stride=(2, 2), bias=False)\n",
      "        (1): BatchNorm2d(512, eps=1e-05, momentum=0.1, affine=True, track_running_stats=True)\n",
      "      )\n",
      "    )\n",
      "    (1): Bottleneck(\n",
      "      (conv1): Conv2d(512, 128, kernel_size=(1, 1), stride=(1, 1), bias=False)\n",
      "      (bn1): BatchNorm2d(128, eps=1e-05, momentum=0.1, affine=True, track_running_stats=True)\n",
      "      (conv2): Conv2d(128, 128, kernel_size=(3, 3), stride=(1, 1), padding=(1, 1), bias=False)\n",
      "      (bn2): BatchNorm2d(128, eps=1e-05, momentum=0.1, affine=True, track_running_stats=True)\n",
      "      (conv3): Conv2d(128, 512, kernel_size=(1, 1), stride=(1, 1), bias=False)\n",
      "      (bn3): BatchNorm2d(512, eps=1e-05, momentum=0.1, affine=True, track_running_stats=True)\n",
      "      (relu): ReLU(inplace=True)\n",
      "    )\n",
      "    (2): Bottleneck(\n",
      "      (conv1): Conv2d(512, 128, kernel_size=(1, 1), stride=(1, 1), bias=False)\n",
      "      (bn1): BatchNorm2d(128, eps=1e-05, momentum=0.1, affine=True, track_running_stats=True)\n",
      "      (conv2): Conv2d(128, 128, kernel_size=(3, 3), stride=(1, 1), padding=(1, 1), bias=False)\n",
      "      (bn2): BatchNorm2d(128, eps=1e-05, momentum=0.1, affine=True, track_running_stats=True)\n",
      "      (conv3): Conv2d(128, 512, kernel_size=(1, 1), stride=(1, 1), bias=False)\n",
      "      (bn3): BatchNorm2d(512, eps=1e-05, momentum=0.1, affine=True, track_running_stats=True)\n",
      "      (relu): ReLU(inplace=True)\n",
      "    )\n",
      "    (3): Bottleneck(\n",
      "      (conv1): Conv2d(512, 128, kernel_size=(1, 1), stride=(1, 1), bias=False)\n",
      "      (bn1): BatchNorm2d(128, eps=1e-05, momentum=0.1, affine=True, track_running_stats=True)\n",
      "      (conv2): Conv2d(128, 128, kernel_size=(3, 3), stride=(1, 1), padding=(1, 1), bias=False)\n",
      "      (bn2): BatchNorm2d(128, eps=1e-05, momentum=0.1, affine=True, track_running_stats=True)\n",
      "      (conv3): Conv2d(128, 512, kernel_size=(1, 1), stride=(1, 1), bias=False)\n",
      "      (bn3): BatchNorm2d(512, eps=1e-05, momentum=0.1, affine=True, track_running_stats=True)\n",
      "      (relu): ReLU(inplace=True)\n",
      "    )\n",
      "  )\n",
      "  (layer3): Sequential(\n",
      "    (0): Bottleneck(\n",
      "      (conv1): Conv2d(512, 256, kernel_size=(1, 1), stride=(1, 1), bias=False)\n",
      "      (bn1): BatchNorm2d(256, eps=1e-05, momentum=0.1, affine=True, track_running_stats=True)\n",
      "      (conv2): Conv2d(256, 256, kernel_size=(3, 3), stride=(2, 2), padding=(1, 1), bias=False)\n",
      "      (bn2): BatchNorm2d(256, eps=1e-05, momentum=0.1, affine=True, track_running_stats=True)\n",
      "      (conv3): Conv2d(256, 1024, kernel_size=(1, 1), stride=(1, 1), bias=False)\n",
      "      (bn3): BatchNorm2d(1024, eps=1e-05, momentum=0.1, affine=True, track_running_stats=True)\n",
      "      (relu): ReLU(inplace=True)\n",
      "      (downsample): Sequential(\n",
      "        (0): Conv2d(512, 1024, kernel_size=(1, 1), stride=(2, 2), bias=False)\n",
      "        (1): BatchNorm2d(1024, eps=1e-05, momentum=0.1, affine=True, track_running_stats=True)\n",
      "      )\n",
      "    )\n",
      "    (1): Bottleneck(\n",
      "      (conv1): Conv2d(1024, 256, kernel_size=(1, 1), stride=(1, 1), bias=False)\n",
      "      (bn1): BatchNorm2d(256, eps=1e-05, momentum=0.1, affine=True, track_running_stats=True)\n",
      "      (conv2): Conv2d(256, 256, kernel_size=(3, 3), stride=(1, 1), padding=(1, 1), bias=False)\n",
      "      (bn2): BatchNorm2d(256, eps=1e-05, momentum=0.1, affine=True, track_running_stats=True)\n",
      "      (conv3): Conv2d(256, 1024, kernel_size=(1, 1), stride=(1, 1), bias=False)\n",
      "      (bn3): BatchNorm2d(1024, eps=1e-05, momentum=0.1, affine=True, track_running_stats=True)\n",
      "      (relu): ReLU(inplace=True)\n",
      "    )\n",
      "    (2): Bottleneck(\n",
      "      (conv1): Conv2d(1024, 256, kernel_size=(1, 1), stride=(1, 1), bias=False)\n",
      "      (bn1): BatchNorm2d(256, eps=1e-05, momentum=0.1, affine=True, track_running_stats=True)\n",
      "      (conv2): Conv2d(256, 256, kernel_size=(3, 3), stride=(1, 1), padding=(1, 1), bias=False)\n",
      "      (bn2): BatchNorm2d(256, eps=1e-05, momentum=0.1, affine=True, track_running_stats=True)\n",
      "      (conv3): Conv2d(256, 1024, kernel_size=(1, 1), stride=(1, 1), bias=False)\n",
      "      (bn3): BatchNorm2d(1024, eps=1e-05, momentum=0.1, affine=True, track_running_stats=True)\n",
      "      (relu): ReLU(inplace=True)\n",
      "    )\n",
      "    (3): Bottleneck(\n",
      "      (conv1): Conv2d(1024, 256, kernel_size=(1, 1), stride=(1, 1), bias=False)\n",
      "      (bn1): BatchNorm2d(256, eps=1e-05, momentum=0.1, affine=True, track_running_stats=True)\n",
      "      (conv2): Conv2d(256, 256, kernel_size=(3, 3), stride=(1, 1), padding=(1, 1), bias=False)\n",
      "      (bn2): BatchNorm2d(256, eps=1e-05, momentum=0.1, affine=True, track_running_stats=True)\n",
      "      (conv3): Conv2d(256, 1024, kernel_size=(1, 1), stride=(1, 1), bias=False)\n",
      "      (bn3): BatchNorm2d(1024, eps=1e-05, momentum=0.1, affine=True, track_running_stats=True)\n",
      "      (relu): ReLU(inplace=True)\n",
      "    )\n",
      "    (4): Bottleneck(\n",
      "      (conv1): Conv2d(1024, 256, kernel_size=(1, 1), stride=(1, 1), bias=False)\n",
      "      (bn1): BatchNorm2d(256, eps=1e-05, momentum=0.1, affine=True, track_running_stats=True)\n",
      "      (conv2): Conv2d(256, 256, kernel_size=(3, 3), stride=(1, 1), padding=(1, 1), bias=False)\n",
      "      (bn2): BatchNorm2d(256, eps=1e-05, momentum=0.1, affine=True, track_running_stats=True)\n",
      "      (conv3): Conv2d(256, 1024, kernel_size=(1, 1), stride=(1, 1), bias=False)\n",
      "      (bn3): BatchNorm2d(1024, eps=1e-05, momentum=0.1, affine=True, track_running_stats=True)\n",
      "      (relu): ReLU(inplace=True)\n",
      "    )\n",
      "    (5): Bottleneck(\n",
      "      (conv1): Conv2d(1024, 256, kernel_size=(1, 1), stride=(1, 1), bias=False)\n",
      "      (bn1): BatchNorm2d(256, eps=1e-05, momentum=0.1, affine=True, track_running_stats=True)\n",
      "      (conv2): Conv2d(256, 256, kernel_size=(3, 3), stride=(1, 1), padding=(1, 1), bias=False)\n",
      "      (bn2): BatchNorm2d(256, eps=1e-05, momentum=0.1, affine=True, track_running_stats=True)\n",
      "      (conv3): Conv2d(256, 1024, kernel_size=(1, 1), stride=(1, 1), bias=False)\n",
      "      (bn3): BatchNorm2d(1024, eps=1e-05, momentum=0.1, affine=True, track_running_stats=True)\n",
      "      (relu): ReLU(inplace=True)\n",
      "    )\n",
      "  )\n",
      "  (layer4): Sequential(\n",
      "    (0): Bottleneck(\n",
      "      (conv1): Conv2d(1024, 512, kernel_size=(1, 1), stride=(1, 1), bias=False)\n",
      "      (bn1): BatchNorm2d(512, eps=1e-05, momentum=0.1, affine=True, track_running_stats=True)\n",
      "      (conv2): Conv2d(512, 512, kernel_size=(3, 3), stride=(2, 2), padding=(1, 1), bias=False)\n",
      "      (bn2): BatchNorm2d(512, eps=1e-05, momentum=0.1, affine=True, track_running_stats=True)\n",
      "      (conv3): Conv2d(512, 2048, kernel_size=(1, 1), stride=(1, 1), bias=False)\n",
      "      (bn3): BatchNorm2d(2048, eps=1e-05, momentum=0.1, affine=True, track_running_stats=True)\n",
      "      (relu): ReLU(inplace=True)\n",
      "      (downsample): Sequential(\n",
      "        (0): Conv2d(1024, 2048, kernel_size=(1, 1), stride=(2, 2), bias=False)\n",
      "        (1): BatchNorm2d(2048, eps=1e-05, momentum=0.1, affine=True, track_running_stats=True)\n",
      "      )\n",
      "    )\n",
      "    (1): Bottleneck(\n",
      "      (conv1): Conv2d(2048, 512, kernel_size=(1, 1), stride=(1, 1), bias=False)\n",
      "      (bn1): BatchNorm2d(512, eps=1e-05, momentum=0.1, affine=True, track_running_stats=True)\n",
      "      (conv2): Conv2d(512, 512, kernel_size=(3, 3), stride=(1, 1), padding=(1, 1), bias=False)\n",
      "      (bn2): BatchNorm2d(512, eps=1e-05, momentum=0.1, affine=True, track_running_stats=True)\n",
      "      (conv3): Conv2d(512, 2048, kernel_size=(1, 1), stride=(1, 1), bias=False)\n",
      "      (bn3): BatchNorm2d(2048, eps=1e-05, momentum=0.1, affine=True, track_running_stats=True)\n",
      "      (relu): ReLU(inplace=True)\n",
      "    )\n",
      "    (2): Bottleneck(\n",
      "      (conv1): Conv2d(2048, 512, kernel_size=(1, 1), stride=(1, 1), bias=False)\n",
      "      (bn1): BatchNorm2d(512, eps=1e-05, momentum=0.1, affine=True, track_running_stats=True)\n",
      "      (conv2): Conv2d(512, 512, kernel_size=(3, 3), stride=(1, 1), padding=(1, 1), bias=False)\n",
      "      (bn2): BatchNorm2d(512, eps=1e-05, momentum=0.1, affine=True, track_running_stats=True)\n",
      "      (conv3): Conv2d(512, 2048, kernel_size=(1, 1), stride=(1, 1), bias=False)\n",
      "      (bn3): BatchNorm2d(2048, eps=1e-05, momentum=0.1, affine=True, track_running_stats=True)\n",
      "      (relu): ReLU(inplace=True)\n",
      "    )\n",
      "  )\n",
      "  (avgpool): AdaptiveAvgPool2d(output_size=(1, 1))\n",
      "  (fc): Linear(in_features=2048, out_features=12, bias=True)\n",
      ")\n"
     ]
    }
   ],
   "source": [
    "def model(pretrained, requires_grad):\n",
    "    \n",
    "    model = models.resnet50(progress=True, pretrained=pretrained)\n",
    "    # freeze hidden layers\n",
    "    \n",
    "    if requires_grad == False:\n",
    "        for param in model.parameters():\n",
    "            param.requires_grad = False\n",
    "    \n",
    "    # train the hidden layers\n",
    "    elif requires_grad == True:\n",
    "        for param in model.parameters():\n",
    "            param.requires_grad = True\n",
    "    # make the classification layer learnable\n",
    "    \n",
    "    model.fc = nn.Linear(2048, len(lb.classes_))\n",
    "    return model\n",
    "model = model(pretrained=True, requires_grad=False).to(device)\n",
    "print(model)"
   ]
  },
  {
   "cell_type": "markdown",
   "id": "f7a4bae0",
   "metadata": {},
   "source": [
    "1. Use the SGD optimizer with the learning rate of 0.0001 and weight decay of 0.0005. \n",
    "2. For the criterion, used CrossEntropyLoss()."
   ]
  },
  {
   "cell_type": "code",
   "execution_count": 28,
   "id": "79ee9aa7",
   "metadata": {},
   "outputs": [],
   "source": [
    "# optimizer\n",
    "optimizer = optim.SGD(model.parameters(), lr=1e-4, momentum=0.9, weight_decay=0.0005)\n",
    "# loss function\n",
    "criterion = nn.CrossEntropyLoss()"
   ]
  },
  {
   "cell_type": "markdown",
   "id": "2fd481d4",
   "metadata": {},
   "source": [
    "#### The Validation Function"
   ]
  },
  {
   "cell_type": "code",
   "execution_count": 29,
   "id": "8bfa1d11",
   "metadata": {},
   "outputs": [],
   "source": [
    "#validation function\n",
    "def validate(model, test_dataloader):\n",
    "    print('Validating')\n",
    "    model.eval()\n",
    "    val_running_loss = 0.0\n",
    "    val_running_correct = 0\n",
    "    with torch.no_grad():\n",
    "        for i, data in tqdm(enumerate(test_dataloader), total=int(len(test_data)/test_dataloader.batch_size)):\n",
    "            data, target = data[0].to(device), data[1].to(device)\n",
    "            outputs = model(data)\n",
    "            loss = criterion(outputs, target)\n",
    "            \n",
    "            val_running_loss += loss.item()\n",
    "            _, preds = torch.max(outputs.data, 1)\n",
    "            val_running_correct += (preds == target).sum().item()\n",
    "        \n",
    "        val_loss = val_running_loss/len(test_dataloader.dataset)\n",
    "        val_accuracy = 100. * val_running_correct/len(test_dataloader.dataset)\n",
    "        print(f'Val Loss: {val_loss:.4f}, Val Acc: {val_accuracy:.2f}')\n",
    "        \n",
    "        return val_loss, val_accuracy"
   ]
  },
  {
   "cell_type": "markdown",
   "id": "b78ce176",
   "metadata": {},
   "source": [
    "#### The training function\n"
   ]
  },
  {
   "cell_type": "code",
   "execution_count": 30,
   "id": "a54dd713",
   "metadata": {},
   "outputs": [],
   "source": [
    "# training function\n",
    "def fit(model, train_dataloader):\n",
    "    print('Training')\n",
    "    model.train()\n",
    "    train_running_loss = 0.0\n",
    "    train_running_correct = 0\n",
    "    for i, data in tqdm(enumerate(train_dataloader), total=int(len(train_data)/train_dataloader.batch_size)):\n",
    "        data, target = data[0].to(device), data[1].to(device)\n",
    "        optimizer.zero_grad()\n",
    "        outputs = model(data)\n",
    "        loss = criterion(outputs, target)\n",
    "        train_running_loss += loss.item()\n",
    "        _, preds = torch.max(outputs.data, 1)\n",
    "        train_running_correct += (preds == target).sum().item()\n",
    "        loss.backward()\n",
    "        optimizer.step()\n",
    "        \n",
    "    train_loss = train_running_loss/len(train_dataloader.dataset)\n",
    "    train_accuracy = 100. * train_running_correct/len(train_dataloader.dataset)\n",
    "    \n",
    "    print(f\"Train Loss: {train_loss:.4f}, Train Acc: {train_accuracy:.2f}\")\n",
    "    \n",
    "    return train_loss, train_accuracy"
   ]
  },
  {
   "cell_type": "markdown",
   "id": "858e3209",
   "metadata": {},
   "source": [
    "#### We are running the fit() and validate() function 20 epochs"
   ]
  },
  {
   "cell_type": "code",
   "execution_count": 33,
   "id": "85ce75ec",
   "metadata": {},
   "outputs": [
    {
     "name": "stderr",
     "output_type": "stream",
     "text": [
      "\r",
      "  0%|          | 0/22 [00:00<?, ?it/s]"
     ]
    },
    {
     "name": "stdout",
     "output_type": "stream",
     "text": [
      "Epoch 1 of 20\n",
      "Training\n"
     ]
    },
    {
     "name": "stderr",
     "output_type": "stream",
     "text": [
      "<ipython-input-23-19ca151e9b2f>:33: DeprecationWarning: an integer is required (got type numpy.float64).  Implicit conversion to integers using __int__ is deprecated, and may be removed in a future version of Python.\n",
      "  return torch.tensor(image, dtype=torch.float), torch.tensor(label, dtype=torch.long)\n",
      "23it [03:08,  8.18s/it]                        \n",
      "  0%|          | 0/7 [00:00<?, ?it/s]"
     ]
    },
    {
     "name": "stdout",
     "output_type": "stream",
     "text": [
      "Train Loss: 0.0668, Train Acc: 46.53\n",
      "Validating\n"
     ]
    },
    {
     "name": "stderr",
     "output_type": "stream",
     "text": [
      "8it [01:00,  7.58s/it]                       \n",
      "  0%|          | 0/22 [00:00<?, ?it/s]"
     ]
    },
    {
     "name": "stdout",
     "output_type": "stream",
     "text": [
      "Val Loss: 0.0694, Val Acc: 45.71\n",
      "Epoch 2 of 20\n",
      "Training\n"
     ]
    },
    {
     "name": "stderr",
     "output_type": "stream",
     "text": [
      "23it [03:07,  8.13s/it]                        \n",
      "  0%|          | 0/7 [00:00<?, ?it/s]"
     ]
    },
    {
     "name": "stdout",
     "output_type": "stream",
     "text": [
      "Train Loss: 0.0657, Train Acc: 48.71\n",
      "Validating\n"
     ]
    },
    {
     "name": "stderr",
     "output_type": "stream",
     "text": [
      "8it [01:00,  7.57s/it]                       \n",
      "  0%|          | 0/22 [00:00<?, ?it/s]"
     ]
    },
    {
     "name": "stdout",
     "output_type": "stream",
     "text": [
      "Val Loss: 0.0683, Val Acc: 46.12\n",
      "Epoch 3 of 20\n",
      "Training\n"
     ]
    },
    {
     "name": "stderr",
     "output_type": "stream",
     "text": [
      "23it [03:05,  8.07s/it]                        \n",
      "  0%|          | 0/7 [00:00<?, ?it/s]"
     ]
    },
    {
     "name": "stdout",
     "output_type": "stream",
     "text": [
      "Train Loss: 0.0648, Train Acc: 51.43\n",
      "Validating\n"
     ]
    },
    {
     "name": "stderr",
     "output_type": "stream",
     "text": [
      "8it [01:00,  7.52s/it]                       \n",
      "  0%|          | 0/22 [00:00<?, ?it/s]"
     ]
    },
    {
     "name": "stdout",
     "output_type": "stream",
     "text": [
      "Val Loss: 0.0676, Val Acc: 47.35\n",
      "Epoch 4 of 20\n",
      "Training\n"
     ]
    },
    {
     "name": "stderr",
     "output_type": "stream",
     "text": [
      "23it [03:05,  8.05s/it]                        \n",
      "  0%|          | 0/7 [00:00<?, ?it/s]"
     ]
    },
    {
     "name": "stdout",
     "output_type": "stream",
     "text": [
      "Train Loss: 0.0638, Train Acc: 51.02\n",
      "Validating\n"
     ]
    },
    {
     "name": "stderr",
     "output_type": "stream",
     "text": [
      "8it [01:00,  7.53s/it]                       \n",
      "  0%|          | 0/22 [00:00<?, ?it/s]"
     ]
    },
    {
     "name": "stdout",
     "output_type": "stream",
     "text": [
      "Val Loss: 0.0667, Val Acc: 49.80\n",
      "Epoch 5 of 20\n",
      "Training\n"
     ]
    },
    {
     "name": "stderr",
     "output_type": "stream",
     "text": [
      "23it [03:05,  8.07s/it]                        \n",
      "  0%|          | 0/7 [00:00<?, ?it/s]"
     ]
    },
    {
     "name": "stdout",
     "output_type": "stream",
     "text": [
      "Train Loss: 0.0633, Train Acc: 51.56\n",
      "Validating\n"
     ]
    },
    {
     "name": "stderr",
     "output_type": "stream",
     "text": [
      "8it [01:00,  7.54s/it]                       \n",
      "  0%|          | 0/22 [00:00<?, ?it/s]"
     ]
    },
    {
     "name": "stdout",
     "output_type": "stream",
     "text": [
      "Val Loss: 0.0659, Val Acc: 46.94\n",
      "Epoch 6 of 20\n",
      "Training\n"
     ]
    },
    {
     "name": "stderr",
     "output_type": "stream",
     "text": [
      "23it [03:07,  8.17s/it]                        \n",
      "  0%|          | 0/7 [00:00<?, ?it/s]"
     ]
    },
    {
     "name": "stdout",
     "output_type": "stream",
     "text": [
      "Train Loss: 0.0623, Train Acc: 53.74\n",
      "Validating\n"
     ]
    },
    {
     "name": "stderr",
     "output_type": "stream",
     "text": [
      "8it [01:00,  7.57s/it]                       \n",
      "  0%|          | 0/22 [00:00<?, ?it/s]"
     ]
    },
    {
     "name": "stdout",
     "output_type": "stream",
     "text": [
      "Val Loss: 0.0654, Val Acc: 47.76\n",
      "Epoch 7 of 20\n",
      "Training\n"
     ]
    },
    {
     "name": "stderr",
     "output_type": "stream",
     "text": [
      "23it [03:04,  8.02s/it]                        \n",
      "  0%|          | 0/7 [00:00<?, ?it/s]"
     ]
    },
    {
     "name": "stdout",
     "output_type": "stream",
     "text": [
      "Train Loss: 0.0612, Train Acc: 55.10\n",
      "Validating\n"
     ]
    },
    {
     "name": "stderr",
     "output_type": "stream",
     "text": [
      "8it [00:59,  7.42s/it]                       \n",
      "  0%|          | 0/22 [00:00<?, ?it/s]"
     ]
    },
    {
     "name": "stdout",
     "output_type": "stream",
     "text": [
      "Val Loss: 0.0644, Val Acc: 49.80\n",
      "Epoch 8 of 20\n",
      "Training\n"
     ]
    },
    {
     "name": "stderr",
     "output_type": "stream",
     "text": [
      "23it [03:04,  8.03s/it]                        \n",
      "  0%|          | 0/7 [00:00<?, ?it/s]"
     ]
    },
    {
     "name": "stdout",
     "output_type": "stream",
     "text": [
      "Train Loss: 0.0608, Train Acc: 58.10\n",
      "Validating\n"
     ]
    },
    {
     "name": "stderr",
     "output_type": "stream",
     "text": [
      "8it [00:59,  7.49s/it]                       \n",
      "  0%|          | 0/22 [00:00<?, ?it/s]"
     ]
    },
    {
     "name": "stdout",
     "output_type": "stream",
     "text": [
      "Val Loss: 0.0639, Val Acc: 48.16\n",
      "Epoch 9 of 20\n",
      "Training\n"
     ]
    },
    {
     "name": "stderr",
     "output_type": "stream",
     "text": [
      "23it [03:03,  7.97s/it]                        \n",
      "  0%|          | 0/7 [00:00<?, ?it/s]"
     ]
    },
    {
     "name": "stdout",
     "output_type": "stream",
     "text": [
      "Train Loss: 0.0600, Train Acc: 56.05\n",
      "Validating\n"
     ]
    },
    {
     "name": "stderr",
     "output_type": "stream",
     "text": [
      "8it [01:00,  7.51s/it]                       \n",
      "  0%|          | 0/22 [00:00<?, ?it/s]"
     ]
    },
    {
     "name": "stdout",
     "output_type": "stream",
     "text": [
      "Val Loss: 0.0633, Val Acc: 49.39\n",
      "Epoch 10 of 20\n",
      "Training\n"
     ]
    },
    {
     "name": "stderr",
     "output_type": "stream",
     "text": [
      "23it [03:04,  8.01s/it]                        \n",
      "  0%|          | 0/7 [00:00<?, ?it/s]"
     ]
    },
    {
     "name": "stdout",
     "output_type": "stream",
     "text": [
      "Train Loss: 0.0595, Train Acc: 53.74\n",
      "Validating\n"
     ]
    },
    {
     "name": "stderr",
     "output_type": "stream",
     "text": [
      "8it [00:59,  7.50s/it]                       \n",
      "  0%|          | 0/22 [00:00<?, ?it/s]"
     ]
    },
    {
     "name": "stdout",
     "output_type": "stream",
     "text": [
      "Val Loss: 0.0624, Val Acc: 49.80\n",
      "Epoch 11 of 20\n",
      "Training\n"
     ]
    },
    {
     "name": "stderr",
     "output_type": "stream",
     "text": [
      "23it [03:03,  7.99s/it]                        \n",
      "  0%|          | 0/7 [00:00<?, ?it/s]"
     ]
    },
    {
     "name": "stdout",
     "output_type": "stream",
     "text": [
      "Train Loss: 0.0589, Train Acc: 56.60\n",
      "Validating\n"
     ]
    },
    {
     "name": "stderr",
     "output_type": "stream",
     "text": [
      "8it [00:59,  7.44s/it]                       \n",
      "  0%|          | 0/22 [00:00<?, ?it/s]"
     ]
    },
    {
     "name": "stdout",
     "output_type": "stream",
     "text": [
      "Val Loss: 0.0620, Val Acc: 51.43\n",
      "Epoch 12 of 20\n",
      "Training\n"
     ]
    },
    {
     "name": "stderr",
     "output_type": "stream",
     "text": [
      "23it [03:07,  8.14s/it]                        \n",
      "  0%|          | 0/7 [00:00<?, ?it/s]"
     ]
    },
    {
     "name": "stdout",
     "output_type": "stream",
     "text": [
      "Train Loss: 0.0580, Train Acc: 60.00\n",
      "Validating\n"
     ]
    },
    {
     "name": "stderr",
     "output_type": "stream",
     "text": [
      "8it [01:00,  7.55s/it]                       \n",
      "  0%|          | 0/22 [00:00<?, ?it/s]"
     ]
    },
    {
     "name": "stdout",
     "output_type": "stream",
     "text": [
      "Val Loss: 0.0614, Val Acc: 51.43\n",
      "Epoch 13 of 20\n",
      "Training\n"
     ]
    },
    {
     "name": "stderr",
     "output_type": "stream",
     "text": [
      "23it [03:07,  8.14s/it]                        \n",
      "  0%|          | 0/7 [00:00<?, ?it/s]"
     ]
    },
    {
     "name": "stdout",
     "output_type": "stream",
     "text": [
      "Train Loss: 0.0574, Train Acc: 58.91\n",
      "Validating\n"
     ]
    },
    {
     "name": "stderr",
     "output_type": "stream",
     "text": [
      "8it [00:59,  7.48s/it]                       \n",
      "  0%|          | 0/22 [00:00<?, ?it/s]"
     ]
    },
    {
     "name": "stdout",
     "output_type": "stream",
     "text": [
      "Val Loss: 0.0606, Val Acc: 52.24\n",
      "Epoch 14 of 20\n",
      "Training\n"
     ]
    },
    {
     "name": "stderr",
     "output_type": "stream",
     "text": [
      "23it [03:06,  8.11s/it]                        \n",
      "  0%|          | 0/7 [00:00<?, ?it/s]"
     ]
    },
    {
     "name": "stdout",
     "output_type": "stream",
     "text": [
      "Train Loss: 0.0569, Train Acc: 59.46\n",
      "Validating\n"
     ]
    },
    {
     "name": "stderr",
     "output_type": "stream",
     "text": [
      "8it [00:59,  7.47s/it]                       \n",
      "  0%|          | 0/22 [00:00<?, ?it/s]"
     ]
    },
    {
     "name": "stdout",
     "output_type": "stream",
     "text": [
      "Val Loss: 0.0603, Val Acc: 51.02\n",
      "Epoch 15 of 20\n",
      "Training\n"
     ]
    },
    {
     "name": "stderr",
     "output_type": "stream",
     "text": [
      "23it [03:07,  8.14s/it]                        \n",
      "  0%|          | 0/7 [00:00<?, ?it/s]"
     ]
    },
    {
     "name": "stdout",
     "output_type": "stream",
     "text": [
      "Train Loss: 0.0566, Train Acc: 59.05\n",
      "Validating\n"
     ]
    },
    {
     "name": "stderr",
     "output_type": "stream",
     "text": [
      "8it [01:00,  7.59s/it]                       \n",
      "  0%|          | 0/22 [00:00<?, ?it/s]"
     ]
    },
    {
     "name": "stdout",
     "output_type": "stream",
     "text": [
      "Val Loss: 0.0598, Val Acc: 51.02\n",
      "Epoch 16 of 20\n",
      "Training\n"
     ]
    },
    {
     "name": "stderr",
     "output_type": "stream",
     "text": [
      "23it [03:07,  8.15s/it]                        \n",
      "  0%|          | 0/7 [00:00<?, ?it/s]"
     ]
    },
    {
     "name": "stdout",
     "output_type": "stream",
     "text": [
      "Train Loss: 0.0557, Train Acc: 61.09\n",
      "Validating\n"
     ]
    },
    {
     "name": "stderr",
     "output_type": "stream",
     "text": [
      "8it [01:00,  7.61s/it]                       \n",
      "  0%|          | 0/22 [00:00<?, ?it/s]"
     ]
    },
    {
     "name": "stdout",
     "output_type": "stream",
     "text": [
      "Val Loss: 0.0593, Val Acc: 50.20\n",
      "Epoch 17 of 20\n",
      "Training\n"
     ]
    },
    {
     "name": "stderr",
     "output_type": "stream",
     "text": [
      "23it [03:09,  8.23s/it]                        \n",
      "  0%|          | 0/7 [00:00<?, ?it/s]"
     ]
    },
    {
     "name": "stdout",
     "output_type": "stream",
     "text": [
      "Train Loss: 0.0549, Train Acc: 61.36\n",
      "Validating\n"
     ]
    },
    {
     "name": "stderr",
     "output_type": "stream",
     "text": [
      "8it [01:02,  7.82s/it]                       \n",
      "  0%|          | 0/22 [00:00<?, ?it/s]"
     ]
    },
    {
     "name": "stdout",
     "output_type": "stream",
     "text": [
      "Val Loss: 0.0587, Val Acc: 52.24\n",
      "Epoch 18 of 20\n",
      "Training\n"
     ]
    },
    {
     "name": "stderr",
     "output_type": "stream",
     "text": [
      "23it [03:08,  8.22s/it]                        \n",
      "  0%|          | 0/7 [00:00<?, ?it/s]"
     ]
    },
    {
     "name": "stdout",
     "output_type": "stream",
     "text": [
      "Train Loss: 0.0544, Train Acc: 62.86\n",
      "Validating\n"
     ]
    },
    {
     "name": "stderr",
     "output_type": "stream",
     "text": [
      "8it [00:59,  7.50s/it]                       \n",
      "  0%|          | 0/22 [00:00<?, ?it/s]"
     ]
    },
    {
     "name": "stdout",
     "output_type": "stream",
     "text": [
      "Val Loss: 0.0580, Val Acc: 51.43\n",
      "Epoch 19 of 20\n",
      "Training\n"
     ]
    },
    {
     "name": "stderr",
     "output_type": "stream",
     "text": [
      "23it [03:07,  8.15s/it]                        \n",
      "  0%|          | 0/7 [00:00<?, ?it/s]"
     ]
    },
    {
     "name": "stdout",
     "output_type": "stream",
     "text": [
      "Train Loss: 0.0533, Train Acc: 64.76\n",
      "Validating\n"
     ]
    },
    {
     "name": "stderr",
     "output_type": "stream",
     "text": [
      "8it [01:03,  7.95s/it]                       \n",
      "  0%|          | 0/22 [00:00<?, ?it/s]"
     ]
    },
    {
     "name": "stdout",
     "output_type": "stream",
     "text": [
      "Val Loss: 0.0572, Val Acc: 53.06\n",
      "Epoch 20 of 20\n",
      "Training\n"
     ]
    },
    {
     "name": "stderr",
     "output_type": "stream",
     "text": [
      "23it [03:11,  8.33s/it]                        \n",
      "  0%|          | 0/7 [00:00<?, ?it/s]"
     ]
    },
    {
     "name": "stdout",
     "output_type": "stream",
     "text": [
      "Train Loss: 0.0535, Train Acc: 62.18\n",
      "Validating\n"
     ]
    },
    {
     "name": "stderr",
     "output_type": "stream",
     "text": [
      "8it [01:00,  7.55s/it]                       "
     ]
    },
    {
     "name": "stdout",
     "output_type": "stream",
     "text": [
      "Val Loss: 0.0572, Val Acc: 52.65\n",
      "82.380 minutes\n"
     ]
    },
    {
     "name": "stderr",
     "output_type": "stream",
     "text": [
      "\n"
     ]
    }
   ],
   "source": [
    "train_loss , train_accuracy = [], []\n",
    "val_loss , val_accuracy = [], []\n",
    "start = time.time()\n",
    "epochs = 20\n",
    "for epoch in range(epochs):\n",
    "    print(f\"Epoch {epoch+1} of {epochs}\")\n",
    "    train_epoch_loss, train_epoch_accuracy = fit(model, trainloader)\n",
    "    val_epoch_loss, val_epoch_accuracy = validate(model, testloader)\n",
    "    train_loss.append(train_epoch_loss)\n",
    "    train_accuracy.append(train_epoch_accuracy)\n",
    "    val_loss.append(val_epoch_loss)\n",
    "    val_accuracy.append(val_epoch_accuracy)\n",
    "end = time.time()\n",
    "print(f\"{(end-start)/60:.3f} minutes\")"
   ]
  },
  {
   "cell_type": "markdown",
   "id": "3f63fd29",
   "metadata": {},
   "source": [
    "1. Appending the loss and accuracy values to lists.\n",
    "2. For the fit() function, we are storing the values in train_loss and train_accuracy. And for the validation() function, storing them in val_loss and val_accuracy."
   ]
  },
  {
   "cell_type": "code",
   "execution_count": 32,
   "id": "3ac4fc1f",
   "metadata": {},
   "outputs": [
    {
     "data": {
      "image/png": "[encoded data removed]",
      "text/plain": [
       "<Figure size 360x360 with 1 Axes>"
      ]
     },
     "metadata": {
      "needs_background": "light"
     },
     "output_type": "display_data"
    },
    {
     "data": {
      "image/png": "[encoded data removed]",
      "text/plain": [
       "<Figure size 360x360 with 1 Axes>"
      ]
     },
     "metadata": {
      "needs_background": "light"
     },
     "output_type": "display_data"
    }
   ],
   "source": [
    "# accuracy plots\n",
    "plt.figure(figsize=(5, 5))\n",
    "plt.plot(train_accuracy, color='green', label='train accuracy')\n",
    "plt.plot(val_accuracy, color='blue', label='validataion accuracy')\n",
    "plt.xlabel('Epochs')\n",
    "plt.ylabel('Accuracy')\n",
    "plt.legend()\n",
    "plt.savefig('/Users/chinmay/Desktop/Projects/Finals/outputs/accuracy.png')\n",
    "plt.show()\n",
    "# loss plots\n",
    "plt.figure(figsize=(5, 5))\n",
    "plt.plot(train_loss, color='orange', label='train loss')\n",
    "plt.plot(val_loss, color='red', label='validataion loss')\n",
    "plt.xlabel('Epochs')\n",
    "plt.ylabel('Loss')\n",
    "plt.legend()\n",
    "plt.savefig('/Users/chinmay/Desktop/Projects/Finals/outputs/loss.png')\n",
    "plt.show()"
   ]
  },
  {
   "cell_type": "markdown",
   "id": "fe96a4e6",
   "metadata": {},
   "source": [
    "#### Validation and Loss curve"
   ]
  },
  {
   "cell_type": "markdown",
   "id": "28839c2e",
   "metadata": {},
   "source": [
    "1. We can see that the validation accuracy is constantly higher than the training accuracy until the end of the training. \n",
    "2. This is most likely because the model gets to see very less number of validation examples which it finds extremely easy to classify. And due to the data augmentation, the ResNet-50 neural network model finds the training examples just a bit more difficult."
   ]
  },
  {
   "cell_type": "markdown",
   "id": "a645e053",
   "metadata": {},
   "source": [
    "#### Saving moodel"
   ]
  },
  {
   "cell_type": "markdown",
   "id": "39fc47a8",
   "metadata": {},
   "source": [
    "Training for more epochs is also not going to help as the model will surely overfit on such a small dataset. \n",
    "In fact, the ResNet-50 neural network model is an overkill for this dataset containing only around 1100 images. Now, there are some downsides to the results that we are getting. Most probably, the classification result for some images is going to be wrong during testing."
   ]
  },
  {
   "cell_type": "markdown",
   "id": "b8dbd118",
   "metadata": {},
   "source": [
    "# Building CNN using DataLoader"
   ]
  },
  {
   "cell_type": "code",
   "execution_count": 1,
   "id": "55fc78b5",
   "metadata": {},
   "outputs": [
    {
     "name": "stderr",
     "output_type": "stream",
     "text": [
      "/Users/chinmay/opt/anaconda3/lib/python3.8/site-packages/torchvision/io/image.py:11: UserWarning: Failed to load image Python extension: dlopen(/Users/chinmay/opt/anaconda3/lib/python3.8/site-packages/torchvision/image.so, 6): Library not loaded: @rpath/libjpeg.9.dylib\n",
      "  Referenced from: /Users/chinmay/opt/anaconda3/lib/python3.8/site-packages/torchvision/image.so\n",
      "  Reason: Incompatible library version: image.so requires version 14.0.0 or later, but libjpeg.9.dylib provides version 12.0.0\n",
      "  warn(f\"Failed to load image Python extension: {e}\")\n"
     ]
    }
   ],
   "source": [
    "import os\n",
    "import numpy as np\n",
    "import torch\n",
    "import glob\n",
    "import torch.nn as nn\n",
    "from torchvision.transforms import transforms\n",
    "from torch.utils.data import DataLoader\n",
    "from torch.optim import Adam\n",
    "from torch.autograd import Variable\n",
    "import torchvision\n",
    "import pathlib\n"
   ]
  },
  {
   "cell_type": "code",
   "execution_count": 2,
   "id": "9d625513",
   "metadata": {},
   "outputs": [],
   "source": [
    "device=torch.device('cuda' if torch.cuda.is_available() else 'cpu')"
   ]
  },
  {
   "cell_type": "code",
   "execution_count": 3,
   "id": "cca96b94",
   "metadata": {},
   "outputs": [
    {
     "name": "stdout",
     "output_type": "stream",
     "text": [
      "cpu\n"
     ]
    }
   ],
   "source": [
    "print(device)\n"
   ]
  },
  {
   "cell_type": "markdown",
   "id": "133e0d92",
   "metadata": {},
   "source": [
    "#### Applying transforms "
   ]
  },
  {
   "cell_type": "markdown",
   "id": "5a1d3b31",
   "metadata": {},
   "source": [
    "Resizing the image to size 150*150\n",
    "\n",
    "Horizontally flip the given image randomly with a given probability. If the image is torch Tensor, it is expected to have […, H, W] shape, where … means an arbitrary number of leading dimensions.\n",
    "\n",
    "applied transformation on image = (image - mean) / std where mean=0.5 and std = 0.5\n",
    "\n",
    "ToTensor converts numpy into tensor"
   ]
  },
  {
   "cell_type": "code",
   "execution_count": 4,
   "id": "b2269fad",
   "metadata": {},
   "outputs": [],
   "source": [
    "#Transforms\n",
    "transformer=transforms.Compose([\n",
    "    transforms.Resize((150,150)),\n",
    "    transforms.RandomHorizontalFlip(),\n",
    "    transforms.ToTensor(),  #0-255 to 0-1, numpy to tensors\n",
    "    transforms.Normalize([0.5,0.5,0.5], # 0-1 to [-1,1] , formula (x-mean)/std\n",
    "                        [0.5,0.5,0.5])\n",
    "])"
   ]
  },
  {
   "cell_type": "markdown",
   "id": "c5b58c95",
   "metadata": {},
   "source": [
    "#### Dataloader\n",
    " "
   ]
  },
  {
   "cell_type": "markdown",
   "id": "8fe91d9f",
   "metadata": {},
   "source": [
    "Reading image from folder train_path for testing and test_path for training\n",
    "Here batch size is considered 64 for training and 32 fir testing.\n",
    "Chosen batch size on the memory avalibility of system... More batch size faster is the computation "
   ]
  },
  {
   "cell_type": "code",
   "execution_count": 5,
   "id": "eb30f9d7",
   "metadata": {},
   "outputs": [],
   "source": [
    "\n",
    "#Path for training and testing directory\n",
    "train_path = '/Users/chinmay/Desktop/Projects/Finals/train'\n",
    "test_path = '/Users/chinmay/Desktop/Projects/Finals/test'\n",
    "\n",
    "train_loader=DataLoader(\n",
    "    torchvision.datasets.ImageFolder(train_path,transform=transformer),\n",
    "    batch_size=64, shuffle=True\n",
    ")\n",
    "test_loader=DataLoader(\n",
    "    torchvision.datasets.ImageFolder(test_path,transform=transformer),\n",
    "    batch_size=32, shuffle=True\n",
    ")"
   ]
  },
  {
   "cell_type": "markdown",
   "id": "603c138f",
   "metadata": {},
   "source": [
    "To get the classes of the training images."
   ]
  },
  {
   "cell_type": "code",
   "execution_count": 7,
   "id": "e0c59048",
   "metadata": {},
   "outputs": [],
   "source": [
    "root=pathlib.Path(train_path)\n",
    "classes=sorted([j.name.split('/')[-1] for j in root.iterdir()])"
   ]
  },
  {
   "cell_type": "code",
   "execution_count": 8,
   "id": "8bd9fdd7",
   "metadata": {},
   "outputs": [
    {
     "name": "stdout",
     "output_type": "stream",
     "text": [
      "['.DS_Store', 'colon', 'endometrium_1', 'endometrium_2', 'kidney', 'liver', 'lung 3', 'lymph_node', 'pancreas', 'skin_1', 'skin_2', 'small_intestine', 'spleen']\n"
     ]
    }
   ],
   "source": [
    "print(classes)"
   ]
  },
  {
   "cell_type": "markdown",
   "id": "b7c06c39",
   "metadata": {},
   "source": [
    "#### Below written the code for CNN\n"
   ]
  },
  {
   "cell_type": "markdown",
   "id": "40e8013f",
   "metadata": {},
   "source": [
    "\n",
    "This uses the in built data dataloader. \n",
    "\n",
    "HERE:\n",
    "\n",
    "in_features = Number of input features \n",
    "\n",
    "out_features = Number of output features\n",
    "\n",
    "kernal size = widthxheight of the filter mask\n",
    "\n",
    "Stride  = This denotes how many steps we are moving in each steps in convolution\n",
    "\n",
    "Padding = Process of adding zeros to the input matrix symmetrically"
   ]
  },
  {
   "cell_type": "code",
   "execution_count": 9,
   "id": "41a34b5c",
   "metadata": {},
   "outputs": [],
   "source": [
    "\n",
    "class ConvNet(nn.Module):\n",
    "    def __init__(self,num_classes=10):\n",
    "        super(ConvNet,self).__init__()\n",
    "        \n",
    "        #Output size after convolution filter\n",
    "        #((w-f+2P)/s) +1\n",
    "        \n",
    "        #Input shape= (256,3,150,150)\n",
    "        \n",
    "        self.conv1=nn.Conv2d(in_channels=3,out_channels=12,kernel_size=3,stride=1,padding=1)\n",
    "        #Shape= (256,12,150,150)\n",
    "        self.bn1=nn.BatchNorm2d(num_features=12)\n",
    "        #Shape= (256,12,150,150)\n",
    "        self.relu1=nn.ReLU()\n",
    "        #Shape= (256,12,150,150)\n",
    "        \n",
    "        self.pool=nn.MaxPool2d(kernel_size=2)\n",
    "        #Reduce the image size be factor 2\n",
    "        \n",
    "        \n",
    "        #Shape= (256,12,75,75)\n",
    "        self.conv2=nn.Conv2d(in_channels=12,out_channels=20,kernel_size=3,stride=1,padding=1)\n",
    "        #Shape= (256,20,75,75)\n",
    "        self.relu2=nn.ReLU()\n",
    "        \n",
    "        #Shape= (256,20,75,75)\n",
    "        self.conv3=nn.Conv2d(in_channels=20,out_channels=32,kernel_size=3,stride=1,padding=1)\n",
    "        #Shape= (256,32,75,75)\n",
    "        self.bn3=nn.BatchNorm2d(num_features=32)\n",
    "        #Shape= (256,32,75,75)\n",
    "        self.relu3=nn.ReLU()\n",
    "        #Shape= (256,32,75,75)\n",
    "        \n",
    "        \n",
    "        self.fc=nn.Linear(in_features=75 * 75 * 32,out_features=num_classes)\n",
    "        #Feed forwad function\n",
    "    \n",
    "    def forward(self,input):\n",
    "        output=self.conv1(input)\n",
    "        output=self.bn1(output)\n",
    "        output=self.relu1(output)\n",
    "            \n",
    "        output=self.pool(output)\n",
    "            \n",
    "        output=self.conv2(output)\n",
    "        output=self.relu2(output)\n",
    "            \n",
    "        output=self.conv3(output)\n",
    "        output=self.bn3(output)\n",
    "        output=self.relu3(output)\n",
    "            \n",
    "            \n",
    "        #Above output will be in matrix form, with shape (256,32,75,75)\n",
    "            \n",
    "        output=output.view(-1,32*75*75)\n",
    "            \n",
    "            \n",
    "        output=self.fc(output)\n",
    "            \n",
    "        return output\n",
    " "
   ]
  },
  {
   "cell_type": "code",
   "execution_count": 10,
   "id": "32a751e8",
   "metadata": {},
   "outputs": [],
   "source": [
    "model=ConvNet(num_classes=12).to(device)"
   ]
  },
  {
   "cell_type": "markdown",
   "id": "50a7e916",
   "metadata": {},
   "source": [
    "#### CrossEntropyLoss is used for calculating loss"
   ]
  },
  {
   "cell_type": "code",
   "execution_count": 11,
   "id": "4302d34e",
   "metadata": {},
   "outputs": [],
   "source": [
    "#Optmizer and loss function\n",
    "optimizer=Adam(model.parameters(),lr=0.001,weight_decay=0.0001)\n",
    "loss_function=nn.CrossEntropyLoss()"
   ]
  },
  {
   "cell_type": "markdown",
   "id": "eca5bea3",
   "metadata": {},
   "source": [
    "### Calculate the size of training and test data"
   ]
  },
  {
   "cell_type": "code",
   "execution_count": 13,
   "id": "ae34bac7",
   "metadata": {},
   "outputs": [],
   "source": [
    "#calculating the size of training and testing images\n",
    "train_count=len(glob.glob(train_path+'/**/*.tif'))\n",
    "test_count=len(glob.glob(test_path+'/**/*.tif'))"
   ]
  },
  {
   "cell_type": "code",
   "execution_count": 14,
   "id": "22a32fab",
   "metadata": {},
   "outputs": [
    {
     "name": "stdout",
     "output_type": "stream",
     "text": [
      "980 600\n"
     ]
    }
   ],
   "source": [
    "print(train_count,test_count)"
   ]
  },
  {
   "cell_type": "markdown",
   "id": "902ef32d",
   "metadata": {},
   "source": [
    "#### The below code is used for training the model and on dataset \n",
    "#### model.train() used for Evaluation and training on training dataset\n",
    "#### model.eval() Evaluation on testing dataset\n",
    "#### Train accuracy and train loss is stored for each epoch"
   ]
  },
  {
   "cell_type": "code",
   "execution_count": 15,
   "id": "9cebecc4",
   "metadata": {},
   "outputs": [
    {
     "name": "stdout",
     "output_type": "stream",
     "text": [
      "Epoch: 0 Train Loss: tensor(36.6085) Train Accuracy: 0.1846938775510204 Test Accuracy: 0.195\n",
      "Epoch: 1 Train Loss: tensor(12.0783) Train Accuracy: 0.41836734693877553 Test Accuracy: 0.2633333333333333\n",
      "Epoch: 2 Train Loss: tensor(6.4840) Train Accuracy: 0.5306122448979592 Test Accuracy: 0.35\n",
      "Epoch: 3 Train Loss: tensor(2.7652) Train Accuracy: 0.6928571428571428 Test Accuracy: 0.36333333333333334\n",
      "Epoch: 4 Train Loss: tensor(2.2403) Train Accuracy: 0.746938775510204 Test Accuracy: 0.42333333333333334\n",
      "Epoch: 5 Train Loss: tensor(1.2024) Train Accuracy: 0.8285714285714286 Test Accuracy: 0.40166666666666667\n",
      "Epoch: 6 Train Loss: tensor(0.6059) Train Accuracy: 0.8918367346938776 Test Accuracy: 0.4033333333333333\n",
      "Epoch: 7 Train Loss: tensor(0.9730) Train Accuracy: 0.8591836734693877 Test Accuracy: 0.37333333333333335\n",
      "Epoch: 8 Train Loss: tensor(0.4715) Train Accuracy: 0.9193877551020408 Test Accuracy: 0.365\n",
      "Epoch: 9 Train Loss: tensor(0.4270) Train Accuracy: 0.9153061224489796 Test Accuracy: 0.38666666666666666\n"
     ]
    }
   ],
   "source": [
    "#Model training and saving best model\n",
    "\n",
    "best_accuracy=0.0\n",
    "\n",
    "for epoch in range(num_epochs):\n",
    "    \n",
    "    #Evaluation and training on training dataset\n",
    "    model.train()\n",
    "    train_accuracy=0.0\n",
    "    train_loss=0.0\n",
    "    \n",
    "    for i, (images,labels) in enumerate(train_loader):\n",
    "        if torch.cuda.is_available():\n",
    "            images=Variable(images.cuda())\n",
    "            labels=Variable(labels.cuda())\n",
    "            \n",
    "        optimizer.zero_grad()\n",
    "        \n",
    "        outputs=model(images)\n",
    "        loss=loss_function(outputs,labels)\n",
    "        loss.backward()\n",
    "        optimizer.step()\n",
    "        \n",
    "        \n",
    "        train_loss+= loss.cpu().data*images.size(0)\n",
    "        _,prediction=torch.max(outputs.data,1)\n",
    "        \n",
    "        train_accuracy+=int(torch.sum(prediction==labels.data))\n",
    "        \n",
    "    train_accuracy=train_accuracy/train_count\n",
    "    train_loss=train_loss/train_count\n",
    "    \n",
    "    \n",
    "    # Evaluation on testing dataset\n",
    "    model.eval()\n",
    "    \n",
    "    test_accuracy=0.0\n",
    "    for i, (images,labels) in enumerate(test_loader):\n",
    "        if torch.cuda.is_available():\n",
    "            images=Variable(images.cuda())\n",
    "            labels=Variable(labels.cuda())\n",
    "            \n",
    "        outputs=model(images)\n",
    "        _,prediction=torch.max(outputs.data,1)\n",
    "        test_accuracy+=int(torch.sum(prediction==labels.data))\n",
    "    \n",
    "    test_accuracy=test_accuracy/test_count\n",
    "    \n",
    "    \n",
    "    print('Epoch: '+str(epoch)+' Train Loss: '+str(train_loss)+' Train Accuracy: '+str(train_accuracy)+' Test Accuracy: '+str(test_accuracy))\n",
    "    \n",
    "    #Save the best model\n",
    "    if test_accuracy>best_accuracy:\n",
    "        torch.save(model.state_dict(),'best_checkpoint.model')\n",
    "        best_accuracy=test_accuracy\n",
    "    \n",
    "       "
   ]
  },
  {
   "cell_type": "markdown",
   "id": "7b7020db",
   "metadata": {},
   "source": [
    "#### Conclusion from the result."
   ]
  },
  {
   "cell_type": "markdown",
   "id": "df197ebc",
   "metadata": {},
   "source": [
    "1. The above model looks good for train accuracy but test accuracy is significantly low.\n",
    "2. This shows the model is overfit. The probable cause of overfitting in this case is due to noisy training data.\n",
    "3. In the transfor the values choosen randomly while training. This may result in excluding important feature while training. We can avoid this problem by finding the various combinations of mean, std. \n",
    "4. Moreover the CNN we build in this example is build based on the assumed value. This can be avoided and hyperparameter tuning can be done to get the best parameters for the model \n"
   ]
  },
  {
   "cell_type": "markdown",
   "id": "927527eb",
   "metadata": {},
   "source": [
    "# PART 2"
   ]
  },
  {
   "cell_type": "markdown",
   "id": "fe65c821",
   "metadata": {},
   "source": [
    "### Train a classification model USING PRE TRAIN MODEL VGG16"
   ]
  },
  {
   "cell_type": "markdown",
   "id": "f8e1d3a5",
   "metadata": {},
   "source": [
    "#### Importing Required Modules and Libraries\n"
   ]
  },
  {
   "cell_type": "code",
   "execution_count": 34,
   "id": "cb285a22",
   "metadata": {},
   "outputs": [],
   "source": [
    "import torch\n",
    "import torchvision\n",
    "import torchvision.transforms as transforms\n",
    "import torch.optim as optim\n",
    "import time\n",
    "import torch.nn.functional as F\n",
    "import torch.nn as nn\n",
    "import matplotlib.pyplot as plt\n",
    "from torchvision import models"
   ]
  },
  {
   "cell_type": "code",
   "execution_count": 35,
   "id": "dbff7ab6",
   "metadata": {},
   "outputs": [
    {
     "name": "stdout",
     "output_type": "stream",
     "text": [
      "cpu\n"
     ]
    }
   ],
   "source": [
    "device = torch.device(\"cuda:0\" if torch.cuda.is_available() else \"cpu\")\n",
    "print(device)"
   ]
  },
  {
   "cell_type": "markdown",
   "id": "8004d1d1",
   "metadata": {},
   "source": [
    "#### Downloading and Preparing the Dataset\n"
   ]
  },
  {
   "cell_type": "code",
   "execution_count": null,
   "id": "44a0af3c",
   "metadata": {},
   "outputs": [],
   "source": [
    "# VGG network takes an input image of size 224×224 by default hence resizing to 224*224\n",
    "transform = transforms.Compose(\n",
    "    [transforms.Resize((224, 224)),\n",
    "     transforms.ToTensor(),\n",
    "     transforms.Normalize((0.5, 0.5, 0.5), (0.5, 0.5, 0.5))])\n"
   ]
  },
  {
   "cell_type": "code",
   "execution_count": 37,
   "id": "b8fd1ab3",
   "metadata": {},
   "outputs": [],
   "source": [
    "\n",
    "train_path = '/Users/chinmay/Desktop/Projects/Finals/train'\n",
    "test_path = '/Users/chinmay/Desktop/Projects/Finals/test'\n",
    "\n",
    "train_loader=DataLoader(\n",
    "    torchvision.datasets.ImageFolder(train_path,transform=transformer),\n",
    "    batch_size=32, shuffle=True\n",
    ")\n",
    "test_loader=DataLoader(\n",
    "    torchvision.datasets.ImageFolder(test_path,transform=transformer),\n",
    "    batch_size=32, shuffle=True\n",
    ")"
   ]
  },
  {
   "cell_type": "markdown",
   "id": "4b647e68",
   "metadata": {},
   "source": [
    "#### Downloading the VGG16 Network\n"
   ]
  },
  {
   "cell_type": "code",
   "execution_count": 38,
   "id": "865c51f1",
   "metadata": {},
   "outputs": [
    {
     "name": "stderr",
     "output_type": "stream",
     "text": [
      "Downloading: \"https://download.pytorch.org/models/vgg16-397923af.pth\" to /Users/chinmay/.cache/torch/hub/checkpoints/vgg16-397923af.pth\n"
     ]
    },
    {
     "data": {
      "application/vnd.jupyter.widget-view+json": {
       "model_id": "7b031f640ba64ca290b631e97b3d5b1e",
       "version_major": 2,
       "version_minor": 0
      },
      "text/plain": [
       "  0%|          | 0.00/528M [00:00<?, ?B/s]"
      ]
     },
     "metadata": {},
     "output_type": "display_data"
    },
    {
     "name": "stdout",
     "output_type": "stream",
     "text": [
      "VGG(\n",
      "  (features): Sequential(\n",
      "    (0): Conv2d(3, 64, kernel_size=(3, 3), stride=(1, 1), padding=(1, 1))\n",
      "    (1): ReLU(inplace=True)\n",
      "    (2): Conv2d(64, 64, kernel_size=(3, 3), stride=(1, 1), padding=(1, 1))\n",
      "    (3): ReLU(inplace=True)\n",
      "    (4): MaxPool2d(kernel_size=2, stride=2, padding=0, dilation=1, ceil_mode=False)\n",
      "    (5): Conv2d(64, 128, kernel_size=(3, 3), stride=(1, 1), padding=(1, 1))\n",
      "    (6): ReLU(inplace=True)\n",
      "    (7): Conv2d(128, 128, kernel_size=(3, 3), stride=(1, 1), padding=(1, 1))\n",
      "    (8): ReLU(inplace=True)\n",
      "    (9): MaxPool2d(kernel_size=2, stride=2, padding=0, dilation=1, ceil_mode=False)\n",
      "    (10): Conv2d(128, 256, kernel_size=(3, 3), stride=(1, 1), padding=(1, 1))\n",
      "    (11): ReLU(inplace=True)\n",
      "    (12): Conv2d(256, 256, kernel_size=(3, 3), stride=(1, 1), padding=(1, 1))\n",
      "    (13): ReLU(inplace=True)\n",
      "    (14): Conv2d(256, 256, kernel_size=(3, 3), stride=(1, 1), padding=(1, 1))\n",
      "    (15): ReLU(inplace=True)\n",
      "    (16): MaxPool2d(kernel_size=2, stride=2, padding=0, dilation=1, ceil_mode=False)\n",
      "    (17): Conv2d(256, 512, kernel_size=(3, 3), stride=(1, 1), padding=(1, 1))\n",
      "    (18): ReLU(inplace=True)\n",
      "    (19): Conv2d(512, 512, kernel_size=(3, 3), stride=(1, 1), padding=(1, 1))\n",
      "    (20): ReLU(inplace=True)\n",
      "    (21): Conv2d(512, 512, kernel_size=(3, 3), stride=(1, 1), padding=(1, 1))\n",
      "    (22): ReLU(inplace=True)\n",
      "    (23): MaxPool2d(kernel_size=2, stride=2, padding=0, dilation=1, ceil_mode=False)\n",
      "    (24): Conv2d(512, 512, kernel_size=(3, 3), stride=(1, 1), padding=(1, 1))\n",
      "    (25): ReLU(inplace=True)\n",
      "    (26): Conv2d(512, 512, kernel_size=(3, 3), stride=(1, 1), padding=(1, 1))\n",
      "    (27): ReLU(inplace=True)\n",
      "    (28): Conv2d(512, 512, kernel_size=(3, 3), stride=(1, 1), padding=(1, 1))\n",
      "    (29): ReLU(inplace=True)\n",
      "    (30): MaxPool2d(kernel_size=2, stride=2, padding=0, dilation=1, ceil_mode=False)\n",
      "  )\n",
      "  (avgpool): AdaptiveAvgPool2d(output_size=(7, 7))\n",
      "  (classifier): Sequential(\n",
      "    (0): Linear(in_features=25088, out_features=4096, bias=True)\n",
      "    (1): ReLU(inplace=True)\n",
      "    (2): Dropout(p=0.5, inplace=False)\n",
      "    (3): Linear(in_features=4096, out_features=4096, bias=True)\n",
      "    (4): ReLU(inplace=True)\n",
      "    (5): Dropout(p=0.5, inplace=False)\n",
      "    (6): Linear(in_features=4096, out_features=1000, bias=True)\n",
      "  )\n",
      ")\n"
     ]
    }
   ],
   "source": [
    "vgg16 = models.vgg16(pretrained=True)\n",
    "vgg16.to(device)\n",
    "print(vgg16)"
   ]
  },
  {
   "cell_type": "markdown",
   "id": "2dc5420a",
   "metadata": {},
   "source": [
    "#### Freezing Convolution Weights\n"
   ]
  },
  {
   "cell_type": "markdown",
   "id": "26c4aec0",
   "metadata": {},
   "source": [
    "1. One important thing to notice here is that the classifier model is classifying 1000 classes. \n",
    "2. You can observe the very last Linear block to confirm that. \n",
    "3. But we need to classify the images into 10 classes only. So, we will change that. Also, we will freeze all the weights of the convolutional blocks. \n",
    "4. The model as already learned many features from the ImageNet dataset. So, freezing the Conv2d() weights will make the model to use all those pre-trained weights. \n"
   ]
  },
  {
   "cell_type": "code",
   "execution_count": 39,
   "id": "f8da8e85",
   "metadata": {},
   "outputs": [],
   "source": [
    "#kept number of classes = 12 \n",
    "vgg16.classifier[6].out_features = 12\n",
    "# freeze convolution weights\n",
    "for param in vgg16.features.parameters():\n",
    "    param.requires_grad = False"
   ]
  },
  {
   "cell_type": "markdown",
   "id": "aff2109a",
   "metadata": {},
   "source": [
    "#### CrossEntropyLoss() and SGD() optimizer which works well in most cases"
   ]
  },
  {
   "cell_type": "code",
   "execution_count": 40,
   "id": "c6c7d23b",
   "metadata": {},
   "outputs": [],
   "source": [
    "# optimizer\n",
    "optimizer = optim.SGD(vgg16.classifier.parameters(), lr=0.001, momentum=0.9)\n",
    "# loss function\n",
    "criterion = nn.CrossEntropyLoss()"
   ]
  },
  {
   "cell_type": "markdown",
   "id": "c7d81a1e",
   "metadata": {},
   "source": [
    "#### validate() method, we are calculating the loss and accuracy"
   ]
  },
  {
   "cell_type": "code",
   "execution_count": 41,
   "id": "f7b7fc8f",
   "metadata": {},
   "outputs": [],
   "source": [
    "# validation function\n",
    "def validate(model, test_dataloader):\n",
    "    model.eval()\n",
    "    val_running_loss = 0.0\n",
    "    val_running_correct = 0\n",
    "    for int, data in enumerate(test_dataloader):\n",
    "        data, target = data[0].to(device), data[1].to(device)\n",
    "        output = model(data)\n",
    "        loss = criterion(output, target)\n",
    "        \n",
    "        val_running_loss += loss.item()\n",
    "        _, preds = torch.max(output.data, 1)\n",
    "        val_running_correct += (preds == target).sum().item()\n",
    "    \n",
    "    val_loss = val_running_loss/len(test_dataloader.dataset)\n",
    "    val_accuracy = 100. * val_running_correct/len(test_dataloader.dataset)\n",
    "    \n",
    "    return val_loss, val_accuracy"
   ]
  },
  {
   "cell_type": "markdown",
   "id": "4d4ad4fc",
   "metadata": {},
   "source": [
    "#### fit() method, we are calculating the gradients and backpropagating."
   ]
  },
  {
   "cell_type": "code",
   "execution_count": 42,
   "id": "4a066f47",
   "metadata": {},
   "outputs": [],
   "source": [
    "# training function\n",
    "def fit(model, train_dataloader):\n",
    "    model.train()\n",
    "    train_running_loss = 0.0\n",
    "    train_running_correct = 0\n",
    "    for i, data in enumerate(train_dataloader):\n",
    "        data, target = data[0].to(device), data[1].to(device)\n",
    "        optimizer.zero_grad()\n",
    "        output = model(data)\n",
    "        loss = criterion(output, target)\n",
    "        train_running_loss += loss.item()\n",
    "        _, preds = torch.max(output.data, 1)\n",
    "        train_running_correct += (preds == target).sum().item()\n",
    "        loss.backward()\n",
    "        optimizer.step()\n",
    "    train_loss = train_running_loss/len(train_dataloader.dataset)\n",
    "    train_accuracy = 100. * train_running_correct/len(train_dataloader.dataset)\n",
    "    print(f'Train Loss: {train_loss:.4f}, Train Acc: {train_accuracy:.2f}')\n",
    "    \n",
    "    return train_loss, train_accuracy"
   ]
  },
  {
   "cell_type": "markdown",
   "id": "f4932f82",
   "metadata": {},
   "source": [
    "#### Training and validating the model for 10 epochs.  fit() and validate() will return the loss and accuracy values for each epoch."
   ]
  },
  {
   "cell_type": "code",
   "execution_count": 43,
   "id": "d39380ee",
   "metadata": {},
   "outputs": [
    {
     "name": "stderr",
     "output_type": "stream",
     "text": [
      "<ipython-input-23-19ca151e9b2f>:33: DeprecationWarning: an integer is required (got type numpy.float64).  Implicit conversion to integers using __int__ is deprecated, and may be removed in a future version of Python.\n",
      "  return torch.tensor(image, dtype=torch.float), torch.tensor(label, dtype=torch.long)\n"
     ]
    },
    {
     "name": "stdout",
     "output_type": "stream",
     "text": [
      "Train Loss: 0.1925, Train Acc: 7.76\n",
      "Train Loss: 0.0667, Train Acc: 29.66\n",
      "Train Loss: 0.0535, Train Acc: 43.54\n",
      "Train Loss: 0.0495, Train Acc: 45.71\n",
      "Train Loss: 0.0464, Train Acc: 47.07\n",
      "Train Loss: 0.0438, Train Acc: 51.56\n",
      "Train Loss: 0.0409, Train Acc: 55.92\n",
      "Train Loss: 0.0408, Train Acc: 56.87\n",
      "Train Loss: 0.0392, Train Acc: 57.82\n",
      "Train Loss: 0.0369, Train Acc: 60.41\n",
      "160.1804185986519 minutes\n"
     ]
    }
   ],
   "source": [
    "train_loss , train_accuracy = [], []\n",
    "val_loss , val_accuracy = [], []\n",
    "start = time.time()\n",
    "for epoch in range(10):\n",
    "    train_epoch_loss, train_epoch_accuracy = fit(vgg16, trainloader)\n",
    "    val_epoch_loss, val_epoch_accuracy = validate(vgg16, testloader)\n",
    "    train_loss.append(train_epoch_loss)\n",
    "    train_accuracy.append(train_epoch_accuracy)\n",
    "    val_loss.append(val_epoch_loss)\n",
    "    val_accuracy.append(val_epoch_accuracy)\n",
    "end = time.time()\n",
    "print((end-start)/60, 'minutes')"
   ]
  },
  {
   "cell_type": "code",
   "execution_count": 58,
   "id": "9fead14e",
   "metadata": {},
   "outputs": [
    {
     "data": {
      "image/png": "[encoded data removed]",
      "text/plain": [
       "<Figure size 360x360 with 1 Axes>"
      ]
     },
     "metadata": {
      "needs_background": "light"
     },
     "output_type": "display_data"
    }
   ],
   "source": [
    "plt.figure(figsize=(5, 5))\n",
    "plt.plot(train_accuracy, color='green', label='train accuracy')\n",
    "plt.plot(val_accuracy, color='blue', label='validataion accuracy')\n",
    "plt.legend()\n",
    "plt.savefig('accuracy.png')\n",
    "plt.show()"
   ]
  },
  {
   "cell_type": "markdown",
   "id": "f984a5a4",
   "metadata": {},
   "source": [
    "#### We are getting fairly good results, but we can do even better. We can fine-tune the features model values of VGG16 and try to get even more accuracy. One way to get started is to freeze some layers and train some others. We have only tried freezing all of the convolution layers. Be sure to try that out."
   ]
  },
  {
   "cell_type": "markdown",
   "id": "bf31b8fd",
   "metadata": {},
   "source": [
    "# Conclusion:"
   ]
  },
  {
   "cell_type": "markdown",
   "id": "1fb8924a",
   "metadata": {},
   "source": [
    "1. Hyperparameter tuning should be done to get more accurate model.\n",
    "2. Training data is less and less diverese with more training data testing accuracy can be increased. \n",
    "3. Assumption of random values for data transformation may lead bad results. Exploratory data analysis is needed to study data remove noice make data more accurate for training.\n"
   ]
  }
 ],
 "metadata": {
  "kernelspec": {
   "display_name": "Python 3",
   "language": "python",
   "name": "python3"
  }
 },
 "nbformat": 4,
 "nbformat_minor": 5
}
